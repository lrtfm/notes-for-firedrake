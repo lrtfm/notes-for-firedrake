{
 "cells": [
  {
   "cell_type": "markdown",
   "metadata": {},
   "source": [
    "# 热传导方程\n",
    "\n",
    "## 时间方向上的间断 Galerkin 方法\n",
    "\n",
    "使用 Firedrake 中的 Extruded Mesh 来处理时间方向上的离散.\n"
   ]
  }
 ],
 "metadata": {
  "language_info": {
   "name": "python"
  }
 },
 "nbformat": 4,
 "nbformat_minor": 2
}
