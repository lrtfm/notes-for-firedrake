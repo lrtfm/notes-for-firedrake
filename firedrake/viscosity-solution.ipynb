{
 "cells": [
  {
   "cell_type": "markdown",
   "metadata": {},
   "source": [
    "# Viscosity solution"
   ]
  },
  {
   "cell_type": "code",
   "execution_count": 32,
   "metadata": {},
   "outputs": [],
   "source": [
    "from firedrake import *\n",
    "from firedrake.pyplot import triplot, trisurf, tricontourf\n",
    "from matplotlib import pyplot as plt"
   ]
  },
  {
   "cell_type": "code",
   "execution_count": 40,
   "metadata": {},
   "outputs": [],
   "source": [
    "# mesh = IntervalMesh(4, -1, 1)\n",
    "mesh = RectangleMesh(64, 64, 1, 1)\n",
    "U = FunctionSpace(mesh, 'CG', 1)\n",
    "\n",
    "u, v = Function(U), TestFunction(U)\n",
    "\n",
    "eps = Constant(1)\n",
    "F = inner(eps*grad(u), grad(v))*dx + inner(sqrt(inner(grad(u), grad(u))), v)*dx - inner(1, v)*dx\n",
    "bc = DirichletBC(U, 0, 'on_boundary')\n",
    "x, y = SpatialCoordinate(mesh)\n",
    "# u.interpolate((x-1)*(x+1)) # How to choose the initial value?\n",
    "u.interpolate(sin(2*pi*x)*sin(2*pi*y))\n",
    "# plot(mesh.coordinates.dat.data, u.dat.data)\n",
    "prob = NonlinearVariationalProblem(F, u, bcs=bc)\n",
    "solver = NonlinearVariationalSolver(\n",
    "    prob,\n",
    "    options_prefix='test',\n",
    "    solver_parameters={\n",
    "        # 'snes_view': None,\n",
    "        # 'mat_view': None,\n",
    "        'snes_monitor': None,\n",
    "        'pc_factor_mat_solver_type': 'superlu_dist',\n",
    "        'ksp_error_if_not_converged': None,\n",
    "    })"
   ]
  },
  {
   "cell_type": "code",
   "execution_count": 41,
   "metadata": {},
   "outputs": [
    {
     "name": "stdout",
     "output_type": "stream",
     "text": [
      "  0 SNES Function norm 6.186824176975e-01 \n",
      "  1 SNES Function norm 3.740469430365e-03 \n",
      "  2 SNES Function norm 8.034166129605e-07 \n",
      "  3 SNES Function norm 2.037237702731e-13 \n",
      "  0 SNES Function norm 6.538235138168e-03 \n",
      "  1 SNES Function norm 5.083822444399e-08 \n",
      "  2 SNES Function norm 1.234121521828e-15 \n",
      "  0 SNES Function norm 5.661712495670e-03 \n",
      "  1 SNES Function norm 4.335031434008e-07 \n",
      "  2 SNES Function norm 2.041782070090e-13 \n",
      "  0 SNES Function norm 4.447209676098e-03 \n",
      "  1 SNES Function norm 3.287798441715e-06 \n",
      "  2 SNES Function norm 3.172931293950e-11 \n",
      "  0 SNES Function norm 3.135311553748e-03 \n",
      "  1 SNES Function norm 1.787461958757e-05 \n",
      "  2 SNES Function norm 2.783008942034e-09 \n",
      "  3 SNES Function norm 1.723706640296e-16 \n",
      "  0 SNES Function norm 2.061258400602e-03 \n",
      "  1 SNES Function norm 5.568412703926e-05 \n",
      "  2 SNES Function norm 7.806930703003e-08 \n",
      "  3 SNES Function norm 1.354929941620e-13 \n",
      "  0 SNES Function norm 1.338378286514e-03 \n",
      "  1 SNES Function norm 9.090009856970e-05 \n",
      "  2 SNES Function norm 4.415446036081e-07 \n",
      "  3 SNES Function norm 7.745908237188e-12 \n",
      "  0 SNES Function norm 8.862141038457e-04 \n",
      "  1 SNES Function norm 8.599125932702e-05 \n",
      "  2 SNES Function norm 5.720853512127e-07 \n",
      "  3 SNES Function norm 2.425950952400e-11 \n",
      "  4 SNES Function norm 2.212974507926e-17 \n",
      "  0 SNES Function norm 5.950693008091e-04 \n",
      "  1 SNES Function norm 5.951493869357e-05 \n",
      "  2 SNES Function norm 3.502709564878e-07 \n",
      "  3 SNES Function norm 1.279063947535e-11 \n",
      "  4 SNES Function norm 1.248937129586e-17 \n",
      "  0 SNES Function norm 3.939088575617e-04 \n",
      "  1 SNES Function norm 3.504119578345e-05 \n",
      "  2 SNES Function norm 1.608395103122e-07 \n",
      "  3 SNES Function norm 4.773090148155e-12 \n",
      "  4 SNES Function norm 7.916189296329e-18 \n"
     ]
    }
   ],
   "source": [
    "for i in range(10):\n",
    "    eps.assign(2**(-i))\n",
    "    solver.solve()\n",
    "\n",
    "# plot(mesh.coordinates.dat.data, u.dat.data)"
   ]
  },
  {
   "cell_type": "code",
   "execution_count": 42,
   "metadata": {},
   "outputs": [
    {
     "data": {
      "text/plain": [
       "<matplotlib.colorbar.Colorbar at 0x329c74b50>"
      ]
     },
     "execution_count": 42,
     "metadata": {},
     "output_type": "execute_result"
    },
    {
     "data": {
      "image/png": "[encoded data removed]",
      "text/plain": [
       "<Figure size 640x480 with 2 Axes>"
      ]
     },
     "metadata": {},
     "output_type": "display_data"
    }
   ],
   "source": [
    "fig, ax = plt.subplots()\n",
    "v = tricontourf(u, axes=ax)\n",
    "fig.colorbar(v)"
   ]
  },
  {
   "cell_type": "code",
   "execution_count": null,
   "metadata": {},
   "outputs": [],
   "source": []
  }
 ],
 "metadata": {
  "kernelspec": {
   "display_name": "firedrake-real-int32-debug",
   "language": "python",
   "name": "python3"
  },
  "language_info": {
   "codemirror_mode": {
    "name": "ipython",
    "version": 3
   },
   "file_extension": ".py",
   "mimetype": "text/x-python",
   "name": "python",
   "nbconvert_exporter": "python",
   "pygments_lexer": "ipython3",
   "version": "3.11.8"
  }
 },
 "nbformat": 4,
 "nbformat_minor": 2
}
