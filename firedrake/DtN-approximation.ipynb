{
 "cells": [
  {
   "cell_type": "code",
   "execution_count": null,
   "metadata": {},
   "outputs": [],
   "source": [
    "from firedrake import *\n",
    "\n",
    "comm = COMM_WORLD\n",
    "mesh = UnitDiskMesh(3)\n",
    "\n",
    "V = FunctionSpace(mesh, 'CG', 1)\n",
    "\n",
    "def base(mesh, k):\n",
    "    x, y = SpatialCoordinate(mesh)\n",
    "    theta = atan2(x, y)\n",
    "    cos_theta = cos(Constant(k)*theta)\n",
    "    return cos_theta # + 1j*sin_theta\n",
    "\n",
    "n = 10\n",
    "M_inv = PETSc.Mat().createDense(size=(n, n), comm=comm)\n",
    "M_np = np.zeros((n, n))\n",
    "for i in range(n):\n",
    "    for j in range(n):\n",
    "        M_np[i, j] = assemble(base(mesh, i)*base(mesh, j)*ds(domain=mesh))\n",
    "\n",
    "M_inv_np = np.linalg.inv(M_np)\n",
    "for i in range(n):\n",
    "    for j in range(n):\n",
    "        M_inv.setValue(i, j, M_inv_np[i, j])\n",
    "M_inv.assemble()\n",
    "\n",
    "v = TestFunction(V)\n",
    "bs = []\n",
    "for i in range(n):\n",
    "    bs.append(\n",
    "        assemble(base(mesh, i)*v*ds)\n",
    "    )\n",
    "\n",
    "with bs[0].dat.vec_ro as vec:\n",
    "    print(vec.getSizes())\n",
    "\n",
    "with bs[0].dat.vec_ro as vec:\n",
    "    # ncl: local column size\n",
    "    # gcl: global column size\n",
    "    ncl, ncg = vec.getSizes()\n",
    "\n",
    "bc = DirichletBC(V, 0, 'on_boundary')\n",
    "bc_nodes = bc.nodes[bc.nodes < V.dof_dset.sizes[1]]\n",
    "ncl = bc_nodes.size\n",
    "B = PETSc.Mat().createDense(size=((n, n), (ncl, None)), comm=comm)\n",
    "# B.setFromOptions()\n",
    "# B.setPreallocationNNZ((5,5))\n",
    "col_index = np.arange(ncl, dtype=np.int32)\n",
    "for i in range(n):\n",
    "    B.setValuesLocal(i, col_index, bs[i].dat.data[bc_nodes])\n",
    "\n",
    "C = M_inv.ptap(B) # B^T M^{-1} B\n",
    "PETSc.Sys.syncPrint(f\"[{comm.rank}/{comm.size}] C size: {C.getSizes()}\")"
   ]
  },
  {
   "cell_type": "code",
   "execution_count": null,
   "metadata": {},
   "outputs": [],
   "source": [
    "vec.getLGMap()"
   ]
  },
  {
   "cell_type": "code",
   "execution_count": null,
   "metadata": {},
   "outputs": [],
   "source": [
    "d = bs[0].dat"
   ]
  },
  {
   "cell_type": "code",
   "execution_count": null,
   "metadata": {},
   "outputs": [],
   "source": [
    "u, v = TrialFunction(V), TestFunction(V)"
   ]
  },
  {
   "cell_type": "code",
   "execution_count": null,
   "metadata": {},
   "outputs": [],
   "source": [
    "mat = assemble(u*v*dx)"
   ]
  },
  {
   "cell_type": "code",
   "execution_count": null,
   "metadata": {},
   "outputs": [],
   "source": [
    "mat.M.sparsity.onnz, mat.M.sparsity.nnz"
   ]
  }
 ],
 "metadata": {
  "language_info": {
   "name": "python"
  }
 },
 "nbformat": 4,
 "nbformat_minor": 2
}
