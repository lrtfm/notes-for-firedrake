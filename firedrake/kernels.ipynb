{
 "cells": [
  {
   "cell_type": "markdown",
   "id": "f80261f9-526f-45af-953f-83273675ccfd",
   "metadata": {
    "tags": []
   },
   "source": [
    "# 组装内核的构建\n",
    "\n",
    "Firedrake 通过 TSFC {cite}`HomolyaMitchellLuporiniHam2018` 生成局部组装内核 (如单元刚度矩阵的组装), 然后使用 [PyOP2](https://op2.github.io/PyOP2/) 构建全局内核. TSFC 调用 `FInAT` {cite}`KirbyMitchell2019` 生成基函数的求值公式, 并使用 [loopy](https://documen.tician.de/loopy/) 生成代码."
   ]
  },
  {
   "cell_type": "markdown",
   "id": "383a75b3-dfc4-43b3-8aa3-37076a8e2781",
   "metadata": {},
   "source": [
    "以下代码来自 `firedrake/patch.py`, 它的作用为生成局部内核, 即单元上矩阵或残差的组装代码.\n",
    "\n",
    "```python\n",
    "def matrix_funptr(form, state):\n",
    "    from firedrake.tsfc_interface import compile_form\n",
    "    test, trial = map(operator.methodcaller(\"function_space\"), form.arguments())\n",
    "    if test != trial:\n",
    "        raise NotImplementedError(\"Only for matching test and trial spaces\")\n",
    "\n",
    "    if state is not None:\n",
    "        interface = make_builder(dont_split=(state, ))\n",
    "    else:\n",
    "        interface = None\n",
    "\n",
    "    kernels = compile_form(form, \"subspace_form\", split=False, interface=interface)\n",
    "\n",
    "    cell_kernels = []\n",
    "    int_facet_kernels = []\n",
    "    for kernel in kernels:\n",
    "        kinfo = kernel.kinfo\n",
    "\n",
    "        # OK, now we've validated the kernel, let's build the callback\n",
    "        args = []\n",
    "\n",
    "        if kinfo.integral_type == \"cell\":\n",
    "            get_map = operator.methodcaller(\"cell_node_map\")\n",
    "            kernels = cell_kernels\n",
    "        elif kinfo.integral_type == \"interior_facet\":\n",
    "            get_map = operator.methodcaller(\"interior_facet_node_map\")\n",
    "            kernels = int_facet_kernels\n",
    "        else:\n",
    "            get_map = None\n",
    "\n",
    "        # build args\n",
    "        # ...\n",
    "\n",
    "        wrapper_knl_args = tuple(a.global_kernel_arg for a in args)\n",
    "        mod = op2.GlobalKernel(kinfo.kernel, wrapper_knl_args, subset=True)\n",
    "        kernels.append(CompiledKernel(mod.compile(iterset.comm), kinfo))\n",
    "\n",
    "    return cell_kernels, int_facet_kernels\n",
    "```"
   ]
  },
  {
   "cell_type": "markdown",
   "id": "5469add7-f2e2-4bdc-8b76-558703f9f8ea",
   "metadata": {},
   "source": [
    "## 双线性形式"
   ]
  },
  {
   "cell_type": "markdown",
   "id": "06a45a6a-ce20-49eb-8615-8fac1b6e364c",
   "metadata": {},
   "source": [
    "### 创建双线性形式"
   ]
  },
  {
   "cell_type": "code",
   "execution_count": 1,
   "id": "4e40e89b-9656-43c5-b78d-5624f21bce8d",
   "metadata": {
    "tags": []
   },
   "outputs": [],
   "source": [
    "import firedrake as fd\n",
    "\n",
    "mesh = fd.RectangleMesh(10, 10, 1, 1)\n",
    "V1 = fd.FunctionSpace(mesh, 'CG', 1)\n",
    "V2 = fd.FunctionSpace(mesh, 'CG', 2)\n",
    "\n",
    "U = V1*V2\n",
    "\n",
    "u, v = fd.TrialFunction(U), fd.TestFunction(U)\n",
    "\n",
    "g = fd.Function(U)\n",
    "h = fd.Function(V1)\n",
    "r = fd.Function(V2)\n",
    "\n",
    "form = fd.inner(fd.grad(u[0]*h*g[0]), fd.grad(v[0]))*fd.dx + fd.inner(u[1]*g[1]*r, v[1])*fd.dx"
   ]
  },
  {
   "cell_type": "markdown",
   "id": "725ffc83-641c-475e-a496-0f06b0d3e406",
   "metadata": {},
   "source": [
    "### 查看 Form 表达式\n",
    "\n",
    "1. 使用 可视化包 `graphviz` 和 `ufl` 提供的 `ufl2dot` \n",
    "\n",
    "   ```python\n",
    "   import graphviz\n",
    "   from ufl.formatting import ufl2dot\n",
    "\n",
    "   source = ufl2dot.ufl2dot(form, labeling=\"compact\")[0]\n",
    "   dot = graphviz.Source(source)\n",
    "   dot\n",
    "   ```\n",
    "\n",
    "2. 使用 `ufl` 中的 `ufl2unicode` 模块\n",
    "\n",
    "    ```python\n",
    "    from ufl.formatting import ufl2unicode\n",
    "\n",
    "    ustr = ufl2unicode.ufl2unicode(form)\n",
    "\n",
    "    # The unicode string can not show correctly without space!\n",
    "    for i in ustr:\n",
    "        print(i, end=' ')\n",
    "    ```\n",
    "\n",
    "3. 使用 `ufl` 中的 `printing.tree_format`\n",
    "\n",
    "   ```python\n",
    "   from ufl.formatting import printing\n",
    "   \n",
    "   printing.tree_format(form)\n",
    "   ```\n"
   ]
  },
  {
   "cell_type": "code",
   "execution_count": 45,
   "id": "8e841871-05af-4f8b-aadc-9d895c9dee54",
   "metadata": {
    "tags": [
     "remove-output"
    ]
   },
   "outputs": [
    {
     "name": "stdout",
     "output_type": "stream",
     "text": [
      "None\n"
     ]
    }
   ],
   "source": [
    "import graphviz\n",
    "from ufl.formatting import ufl2dot\n",
    "\n",
    "source = ufl2dot.ufl2dot(form, labeling=\"compact\")[0]\n",
    "dot = graphviz.Source(source)\n",
    "filename = dot.render('figures/form', format='png')"
   ]
  },
  {
   "cell_type": "markdown",
   "id": "b1b7779a-012c-413e-8c32-7ab6c3a9f70e",
   "metadata": {
    "tags": []
   },
   "source": [
    "```{figure} figures/form.png\n",
    "---\n",
    "align: center\n",
    "---\n",
    "DAG of form\n",
    "```"
   ]
  },
  {
   "cell_type": "markdown",
   "id": "83cec494-d94c-4023-82ea-c241117484ab",
   "metadata": {
    "tags": []
   },
   "source": [
    "## 生成局部内核"
   ]
  },
  {
   "cell_type": "code",
   "execution_count": 3,
   "id": "3233c04f-dc97-4b8f-af52-be58fea27b11",
   "metadata": {
    "tags": []
   },
   "outputs": [],
   "source": [
    "from firedrake.tsfc_interface import compile_form\n",
    "\n",
    "kernels = compile_form(form, \"subspace_form\", split=False, interface=None)"
   ]
  },
  {
   "cell_type": "markdown",
   "id": "049f860f-e0a0-46ca-9036-2fd6dfe39f13",
   "metadata": {},
   "source": [
    "通过 `loopy` 生成代码"
   ]
  },
  {
   "cell_type": "code",
   "execution_count": 4,
   "id": "9d0b28d0-84e8-4934-b73e-d9ef78ae098c",
   "metadata": {
    "tags": []
   },
   "outputs": [],
   "source": [
    "import loopy\n",
    "\n",
    "idx, kinfo = kernels[0]\n",
    "code = loopy.generate_code_v2(kinfo[0].code)"
   ]
  },
  {
   "cell_type": "markdown",
   "id": "b5b184a2-15c9-48f1-b5ec-50646665d28e",
   "metadata": {
    "tags": []
   },
   "source": [
    "输出代码\n",
    "\n",
    "```python\n",
    "print(code.device_code())\n",
    "```"
   ]
  },
  {
   "cell_type": "markdown",
   "id": "2eb989ba-4e6a-43a5-bb99-3aec812de93c",
   "metadata": {
    "tags": []
   },
   "source": [
    "### 具体构造过程"
   ]
  },
  {
   "cell_type": "code",
   "execution_count": 5,
   "id": "9e4eb10a-ce86-4694-a7f5-f6a177190e78",
   "metadata": {
    "tags": []
   },
   "outputs": [],
   "source": [
    "from firedrake.parameters import parameters as default_parameters\n",
    "from firedrake.tsfc_interface import TSFCKernel\n",
    "\n",
    "nargs = len(form.arguments())\n",
    "\n",
    "iterable = ([(None, )*nargs, form], )\n",
    "\n",
    "idx, f = iterable[0]\n",
    "name = \"test_form\"\n",
    "\n",
    "coefficient_numbers = form.coefficient_numbering()\n",
    "number_map = tuple(coefficient_numbers[c] for c in f.coefficients())\n",
    "parameters = default_parameters[\"form_compiler\"].copy()\n",
    "\n",
    "kinfos = TSFCKernel(form=f, name=name, parameters=parameters, number_map=number_map, interface=None, diagonal=False).kernels"
   ]
  },
  {
   "cell_type": "markdown",
   "id": "5f3933aa-b838-443e-849c-3891f6c4560e",
   "metadata": {
    "tags": []
   },
   "source": [
    "### TSFCKernel 的初始化"
   ]
  },
  {
   "cell_type": "code",
   "execution_count": 6,
   "id": "fbcbd3f4-5780-41f2-aea3-fa2bd5aa9749",
   "metadata": {
    "tags": []
   },
   "outputs": [],
   "source": [
    "from tsfc import compile_form as tsfc_compile_form\n",
    "from firedrake.tsfc_interface import as_pyop2_local_kernel\n",
    "\n",
    "import collections\n",
    "\n",
    "KernelInfo = collections.namedtuple(\"KernelInfo\",\n",
    "                                    [\"kernel\",\n",
    "                                     \"integral_type\",\n",
    "                                     \"oriented\",\n",
    "                                     \"subdomain_id\",\n",
    "                                     \"domain_number\",\n",
    "                                     \"coefficient_map\",\n",
    "                                     \"needs_cell_facets\",\n",
    "                                     \"pass_layer_arg\",\n",
    "                                     \"needs_cell_sizes\",\n",
    "                                     \"arguments\",\n",
    "                                     \"events\"])\n",
    "\n",
    "tree = tsfc_compile_form(form=f, prefix=name, parameters=parameters,\n",
    "                                 interface=None,\n",
    "                                 diagonal=False)\n",
    "\n",
    "_kernels = []\n",
    "for kernel in tree:\n",
    "    # Unwind coefficient numbering\n",
    "    numbers = tuple((number_map[number], indices) for number, indices in kernel.coefficient_numbers)\n",
    "    events = (kernel.event,)\n",
    "    pyop2_kernel = as_pyop2_local_kernel(kernel.ast, kernel.name,\n",
    "                                         len(kernel.arguments),\n",
    "                                         flop_count=kernel.flop_count,\n",
    "                                         events=events)\n",
    "    _kernels.append(KernelInfo(kernel=pyop2_kernel,\n",
    "                              integral_type=kernel.integral_type,\n",
    "                              oriented=kernel.oriented,\n",
    "                              subdomain_id=kernel.subdomain_id,\n",
    "                              domain_number=kernel.domain_number,\n",
    "                              coefficient_map=numbers,\n",
    "                              needs_cell_facets=False,\n",
    "                              pass_layer_arg=False,\n",
    "                              needs_cell_sizes=kernel.needs_cell_sizes,\n",
    "                              arguments=kernel.arguments,\n",
    "                              events=events))"
   ]
  },
  {
   "cell_type": "markdown",
   "id": "dc09ac08-a98d-494e-8f6e-cf01618ad16c",
   "metadata": {},
   "source": [
    "### `tsfc.compile_form`"
   ]
  },
  {
   "cell_type": "code",
   "execution_count": 7,
   "id": "da66e128-77b6-4836-b217-284fb27f9602",
   "metadata": {
    "tags": []
   },
   "outputs": [],
   "source": [
    "from tsfc.driver import compile_integral\n",
    "from tsfc.parameters import default_parameters as tsfc_default_parameters, is_complex\n",
    "from tsfc import fem, ufl_utils\n",
    "\n",
    "complex_mode = parameters and is_complex(parameters.get(\"scalar_type\"))\n",
    "\n",
    "# Preprocess UFL form in a format suitable for TSFC\n",
    "fd = ufl_utils.compute_form_data(form, complex_mode=complex_mode)\n",
    "\n",
    "kernels = []\n",
    "for integral_data in fd.integral_data:\n",
    "    kernel = compile_integral(integral_data, fd, prefix=name, parameters=parameters, interface=None, diagonal=False)\n",
    "    if kernel is not None:\n",
    "        kernels.append(kernel)"
   ]
  },
  {
   "cell_type": "code",
   "execution_count": 8,
   "id": "7e98f84d-5f92-41ca-a5a5-502e187b0dfd",
   "metadata": {
    "tags": []
   },
   "outputs": [
    {
     "data": {
      "text/plain": [
       "(Argument(WithGeometry(MixedFunctionSpace(IndexedProxyFunctionSpace(<firedrake.mesh.MeshTopology object at 0x7f17b438c370>, FiniteElement('Lagrange', triangle, 1), name=None, index=0, component=None), IndexedProxyFunctionSpace(<firedrake.mesh.MeshTopology object at 0x7f17b438c370>, FiniteElement('Lagrange', triangle, 2), name=None, index=1, component=None), name='None_None'), Mesh(VectorElement(FiniteElement('Lagrange', triangle, 1), dim=2), 1)), 0, None),\n",
       " Argument(WithGeometry(MixedFunctionSpace(IndexedProxyFunctionSpace(<firedrake.mesh.MeshTopology object at 0x7f17b438c370>, FiniteElement('Lagrange', triangle, 1), name=None, index=0, component=None), IndexedProxyFunctionSpace(<firedrake.mesh.MeshTopology object at 0x7f17b438c370>, FiniteElement('Lagrange', triangle, 2), name=None, index=1, component=None), name='None_None'), Mesh(VectorElement(FiniteElement('Lagrange', triangle, 1), dim=2), 1)), 1, None))"
      ]
     },
     "execution_count": 8,
     "metadata": {},
     "output_type": "execute_result"
    }
   ],
   "source": [
    "fd.preprocessed_form.arguments()"
   ]
  },
  {
   "cell_type": "code",
   "execution_count": 9,
   "id": "6db323ba-9ea9-48c0-96d5-e6fffce524fb",
   "metadata": {
    "tags": []
   },
   "outputs": [],
   "source": [
    "# print(fd.integral_data[0].integrals[0])\n",
    "# print(tree_format(intd.integrals[0]))"
   ]
  },
  {
   "cell_type": "markdown",
   "id": "72bf8d8f-cd42-4f1c-90a0-d07463df9020",
   "metadata": {
    "jp-MarkdownHeadingCollapsed": true,
    "tags": []
   },
   "source": [
    "### `tsfc` 中的 `compile_integral`\n",
    "\n",
    "编译 `ufl` 积分表达式为组装核\n",
    "\n",
    "`interface` 为 `None` 时, 默认使用 `KernelBuilder` 进行构建.\n",
    "\n",
    "```python\n",
    "from tsfc.kernel_interface.firedrake_loopy import KernelBuilder\n",
    "```\n",
    "\n",
    "`builder.compile_integrand` 调用 `tsfc.fem.compile_ufl` 转化 `ufl` 表达式为 `GEM` {cite}`HomolyaMitchellLuporiniHam2018`. 这里会调用 `FInAT` 生成基函数在积分点处的求值公式.\n",
    "\n",
    "`builder.construct_integrals` 应用数值积分公式生成相应表达式."
   ]
  },
  {
   "cell_type": "markdown",
   "id": "abe17c88-521c-4ad4-802c-219a8bd591d6",
   "metadata": {
    "tags": []
   },
   "source": [
    "## 生成全局内核"
   ]
  },
  {
   "cell_type": "code",
   "execution_count": 10,
   "id": "098d5936-87e1-4fdb-a2fa-b7791465ae3f",
   "metadata": {
    "tags": []
   },
   "outputs": [],
   "source": [
    "from pyop2 import op2\n",
    "from firedrake.utils import cached_property, complex_mode, IntType\n",
    "from firedrake.preconditioners.patch import LocalDat, LocalMat\n",
    "\n",
    "import operator\n",
    "import numpy\n",
    "\n",
    "test, trial = map(operator.methodcaller(\"function_space\"), form.arguments())"
   ]
  },
  {
   "cell_type": "markdown",
   "id": "1b2e7cba-d9e7-4eab-8353-4d48b5311751",
   "metadata": {
    "tags": []
   },
   "source": [
    "准备全局参数"
   ]
  },
  {
   "cell_type": "code",
   "execution_count": 11,
   "id": "58b08011-d3bd-46a1-a69d-3c6939c1c645",
   "metadata": {
    "tags": []
   },
   "outputs": [],
   "source": [
    "args = []\n",
    "\n",
    "if kinfo.integral_type == \"cell\":\n",
    "    get_map = operator.methodcaller(\"cell_node_map\")\n",
    "elif kinfo.integral_type == \"interior_facet\":\n",
    "    get_map = operator.methodcaller(\"interior_facet_node_map\")\n",
    "else:\n",
    "    get_map = None\n",
    "\n",
    "toset = op2.Set(1, comm=test.comm)\n",
    "dofset = op2.DataSet(toset, 1)\n",
    "arity = sum(m.arity*s.cdim\n",
    "            for m, s in zip(get_map(test),\n",
    "                            test.dof_dset))\n",
    "\n",
    "iterset = get_map(test).iterset\n",
    "entity_node_map = op2.Map(iterset,\n",
    "                          toset, arity,\n",
    "                          values=numpy.zeros(iterset.total_size*arity, dtype=IntType))\n",
    "mat = LocalMat(dofset)\n",
    "\n",
    "arg = mat(op2.INC, (entity_node_map, entity_node_map))\n",
    "args.append(arg)\n",
    "\n",
    "mesh = form.ufl_domains()[kinfo.domain_number]\n",
    "arg = mesh.coordinates.dat(op2.READ, get_map(mesh.coordinates))\n",
    "args.append(arg)\n",
    "for n, indices in kinfo.coefficient_map:\n",
    "    c = form.coefficients()[n]\n",
    "    for ind in indices:\n",
    "        c_ = c.subfunctions[ind]\n",
    "        map_ = get_map(c_)\n",
    "        arg = c_.dat(op2.READ, map_)\n",
    "        args.append(arg)\n",
    "\n",
    "if kinfo.integral_type == \"interior_facet\":\n",
    "    arg = test.ufl_domain().interior_facets.local_facet_dat(op2.READ)\n",
    "    args.append(arg)\n",
    "\n",
    "wrapper_knl_args = tuple(a.global_kernel_arg for a in args)"
   ]
  },
  {
   "cell_type": "markdown",
   "id": "85ef6174-272b-431b-8cbe-c475e8bacc1d",
   "metadata": {
    "tags": []
   },
   "source": [
    "构建全局组装内核"
   ]
  },
  {
   "cell_type": "code",
   "execution_count": 12,
   "id": "1ac498f8-23ab-46cd-8f42-2b9827ffad7b",
   "metadata": {
    "tags": []
   },
   "outputs": [],
   "source": [
    "mod = op2.GlobalKernel(kinfo.kernel, wrapper_knl_args, subset=True)"
   ]
  },
  {
   "cell_type": "markdown",
   "id": "dcd58c0a-d177-466e-b94e-04365eee8491",
   "metadata": {
    "tags": []
   },
   "source": [
    "输出代码\n",
    "```python\n",
    "print(mod.code_to_compile)\n",
    "```"
   ]
  },
  {
   "cell_type": "markdown",
   "id": "caa06723-ece6-428e-98cc-8310f75c07a0",
   "metadata": {},
   "source": [
    "````{only} html or text\n",
    "```{rubric} References\n",
    "```\n",
    "````\n",
    "\n",
    "```{bibliography}\n",
    ":filter: docname in docnames\n",
    "```"
   ]
  }
 ],
 "metadata": {
  "kernelspec": {
   "display_name": "complex-int32-mkl-debug",
   "language": "python",
   "name": "complex-int32-mkl-debug"
  },
  "language_info": {
   "codemirror_mode": {
    "name": "ipython",
    "version": 3
   },
   "file_extension": ".py",
   "mimetype": "text/x-python",
   "name": "python",
   "nbconvert_exporter": "python",
   "pygments_lexer": "ipython3",
   "version": "3.10.6"
  },
  "toc-autonumbering": true,
  "toc-showcode": false,
  "toc-showtags": false
 },
 "nbformat": 4,
 "nbformat_minor": 5
}
