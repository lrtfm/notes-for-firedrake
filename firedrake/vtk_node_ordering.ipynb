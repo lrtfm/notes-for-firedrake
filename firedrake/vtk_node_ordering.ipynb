{
 "cells": [
  {
   "cell_type": "markdown",
   "id": "4d960498",
   "metadata": {},
   "source": [
    "# VTK"
   ]
  },
  {
   "cell_type": "code",
   "execution_count": null,
   "id": "498a0daf-cb3c-4348-8329-f5b9f0f44f78",
   "metadata": {},
   "outputs": [],
   "source": [
    "import math \n",
    "import vtk\n",
    "\n",
    "# Let’s make a sixth-order tetrahedron \n",
    "order = 2\n",
    "# The number of points for a sixth-order tetrahedron is \n",
    "nPoints = round((order + 1) * (order + 2) * (order + 3) / 6)\n",
    "\n",
    "# Create a tetrahedron and set its number of points. Internally, Lagrange cells\n",
    " # compute their order according to the number of points they hold. \n",
    "tet = vtk.vtkLagrangeTetra() \n",
    "tet.GetPointIds().SetNumberOfIds(nPoints) \n",
    "tet.GetPoints().SetNumberOfPoints(nPoints)\n",
    "tet.Initialize()\n",
    "\n",
    "point = [0.,0.,0.]\n",
    "barycentricIndex = [0, 0, 0, 0]"
   ]
  },
  {
   "cell_type": "code",
   "execution_count": null,
   "id": "1be96ac8-615a-4253-b39e-2a34f86bd8a1",
   "metadata": {},
   "outputs": [],
   "source": [
    "# For each point in the tetrahedron...\n",
    "for i in range(nPoints):\n",
    "    # ...we set its id to be equal to its index in the internal point array. \n",
    "    tet.GetPointIds().SetId(i, i)\n",
    "\n",
    "    # We compute the barycentric index of the point... \n",
    "    tet.ToBarycentricIndex(i, barycentricIndex)\n",
    "\n",
    "    print(barycentricIndex)\n",
    "    # ...and scale it to unity.\n",
    "    for j in range(3):\n",
    "        point[j] = float(barycentricIndex[j]) / order\n",
    "\n",
    "    # A tetrahedron comprised of the above-defined points has straight\n",
    "    # edges.\n",
    "    tet.GetPoints().SetPoint(i, point[0], point[1], point[2])"
   ]
  },
  {
   "cell_type": "code",
   "execution_count": null,
   "id": "68cc05b3-99d7-4aeb-ba53-56d12db5f59d",
   "metadata": {},
   "outputs": [],
   "source": [
    "# Add the tetrahedron to a cell array \n",
    "tets = vtk.vtkCellArray() \n",
    "tets.InsertNextCell(tet)\n",
    " \n",
    "# Add the points and tetrahedron to an unstructured grid \n",
    "uGrid =vtk.vtkUnstructuredGrid() \n",
    "uGrid.SetPoints(tet.GetPoints())\n",
    "uGrid.InsertNextCell(tet.GetCellType(), tet.GetPointIds())\n",
    "\n",
    "# Visualize\n",
    "mapper = vtk.vtkDataSetMapper() \n",
    "mapper.SetInputData(uGrid)\n",
    "\n",
    "actor = vtk.vtkActor() \n",
    "actor.SetMapper(mapper)\n",
    "\n",
    "renderer = vtk.vtkRenderer() \n",
    "render_window = vtk.vtkRenderWindow()\n",
    "render_window.AddRenderer(renderer)\n",
    "render_window_interactor = vtk.vtkRenderWindowInteractor()\n",
    "render_window_interactor.SetRenderWindow(render_window)\n",
    "\n",
    "# Define the timer callback to close the window after 5 seconds\n",
    "class TimerCallback:\n",
    "    def __init__(self, render_window_interactor):\n",
    "        self.render_window_interactor = render_window_interactor\n",
    "        self.timer_count = 0\n",
    "\n",
    "    def execute(self, obj, event):\n",
    "        self.timer_count += 1\n",
    "        if self.timer_count >= 3:\n",
    "            print(\"Closing window after 3 seconds\")\n",
    "            self.render_window_interactor.GetRenderWindow().Finalize()\n",
    "            self.render_window_interactor.TerminateApp()\n",
    "        else:\n",
    "            print(f\"Timer event {self.timer_count}\")\n",
    "\n",
    "# Set up the callback\n",
    "callback = TimerCallback(render_window_interactor)\n",
    "render_window_interactor.AddObserver(\"TimerEvent\", callback.execute)\n",
    "\n",
    "# Start the timer with an interval of 1 second (1000 ms)\n",
    "render_window_interactor.CreateRepeatingTimer(1000)\n",
    "\n",
    "renderer.AddActor(actor) \n",
    "renderer.SetBackground(.2, .3, .4)\n",
    "\n",
    "render_window.Render()\n",
    "render_window_interactor.Start()"
   ]
  }
 ],
 "metadata": {
  "language_info": {
   "name": "python"
  }
 },
 "nbformat": 4,
 "nbformat_minor": 5
}
