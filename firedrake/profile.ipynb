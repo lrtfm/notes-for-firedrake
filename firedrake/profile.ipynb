{
 "cells": [
  {
   "attachments": {},
   "cell_type": "markdown",
   "metadata": {},
   "source": [
    "# Profiling"
   ]
  },
  {
   "attachments": {},
   "cell_type": "markdown",
   "metadata": {},
   "source": [
    "Reference:\n",
    "\n",
    "1. https://www.firedrakeproject.org/optimising.html\n",
    "2. https://petsc.org/main/manual/profiling/\n",
    "3. https://petsc.org/main/manualpages/Sys/PetscInitialize/\n",
    "4. https://petsc.org/main/manualpages/Profiling/PetscLogView/"
   ]
  },
  {
   "attachments": {},
   "cell_type": "markdown",
   "metadata": {},
   "source": [
    "## `log_view`\n",
    "\n",
    "1. `-log_view [:filename]`  Prints summary of log information\n",
    "\n",
    "2. `-log_view :filename.py:ascii_info_detail`  Saves logging information from each process as a Python file\n",
    "\n",
    "3. `-log_view :filename.xml:ascii_xml`  Saves a summary of the logging information in a nested format (see below for how to view it)\n",
    "\n",
    "4. `-log_view :filename.txt:ascii_flamegraph`  Saves logging information in a format suitable for visualising as a Flame Graph (see below for how to view it)\n",
    "\n",
    "5. `-log_view_memory`  Also display memory usage in each event\n",
    "\n",
    "6. `-log_view_gpu_time`   Also display time in each event for GPU kernels (Note this may slow the computation)\n",
    "\n",
    "7. `-log_all`   Saves a file Log.rank for each MPI rank with details of each step of the computation\n",
    "\n",
    "8. `-log_trace [filename]`   Displays a trace of what each process is doing"
   ]
  },
  {
   "attachments": {},
   "cell_type": "markdown",
   "metadata": {},
   "source": [
    "### Flame graph\n",
    "\n",
    "运行代码时加上选现 `-log_view :profile.txt:ascii_flamegraph`, 将会生成文件 `profile.txt`, 该文件会记录某些代码块的运行时间, 可用于性能分析. 可以通过在线工具 https://www.speedscope.app/ 可视化该文件. 示例代码如下:\n",
    "\n",
    "```bash\n",
    "python test.py -log_view :profile.txt:ascii_flamegraph\n",
    "```\n"
   ]
  },
  {
   "attachments": {},
   "cell_type": "markdown",
   "metadata": {},
   "source": [
    "可以通过 `PETSc.Log.Event` 和 `PETSc.Log.EventDecorator` 添加自定义事件, 用于测量代码块的运行事件. 如果如上运行代码, 事件名称和运行时间将会记录在上述 `profile.txt` 中.\n",
    "\n",
    "1. `PETSc.Log.Event`\n",
    "\n",
    "    ```python\n",
    "    from firedrake.petsc import PETSc\n",
    "\n",
    "    with PETSc.Log.Event(\"foo\"):\n",
    "        do_something_expensive()\n",
    "    ```\n",
    "\n",
    "2. `PETSc.Log.EventDecorator`\n",
    "\n",
    "    ```python\n",
    "    from firedrake.petsc import PETSc\n",
    "\n",
    "    @PETSc.Log.EventDecorator(\"foo\")\n",
    "    def do_something_expensive():\n",
    "        ...\n",
    "    ```"
   ]
  },
  {
   "attachments": {},
   "cell_type": "markdown",
   "metadata": {},
   "source": [
    "### `-log_view :profile.txt`"
   ]
  },
  {
   "attachments": {},
   "cell_type": "markdown",
   "metadata": {},
   "source": [
    "Ref: https://petsc.org/release/manual/profiling/#interpreting-log-view-output-parallel-performance"
   ]
  },
  {
   "cell_type": "code",
   "execution_count": null,
   "metadata": {},
   "outputs": [],
   "source": []
  }
 ],
 "metadata": {
  "language_info": {
   "name": "python"
  }
 },
 "nbformat": 4,
 "nbformat_minor": 2
}
