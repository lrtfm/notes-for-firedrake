{
 "cells": [
  {
   "cell_type": "markdown",
   "id": "3b8d6cf6-c2a9-4e7e-a052-1b6f7e992c96",
   "metadata": {},
   "source": [
    "# [Firedraka 安装](https://www.firedrakeproject.org/download.html) "
   ]
  },
  {
   "cell_type": "markdown",
   "id": "f8c577b7-effe-4e58-b5b3-dbe5e191a968",
   "metadata": {
    "jp-MarkdownHeadingCollapsed": true,
    "tags": []
   },
   "source": [
    "## Ubuntu\n",
    "\n",
    "下载安装脚本 `firedrake-install` 然后运行即可\n",
    "\n",
    "```bash\n",
    "curl -O https://raw.githubusercontent.com/firedrakeproject/firedrake/master/scripts/firedrake-install\n",
    "python3 firedrake-install\n",
    "```\n",
    "\n",
    "查看安装帮助\n",
    "```bash\n",
    "python3 firedrake-install -h\n",
    "```\n",
    "\n",
    "\n",
    "### Real Int32\n",
    "```bash\n",
    "python3 firedrake-install --slepc --disable-ssh --documentation-dependencies --remove-build-files\n",
    "```\n",
    "\n",
    "### Complex Int64\n",
    "```bash\n",
    "PETSC_CONFIGURE_OPTIONS='--download-scalapack --download-mumps' \\\n",
    "    python3 firedrake-install --petsc-int-type int64 --complex --slepc \\\n",
    "    --disable-ssh --documentation-dependencies --remove-build-files\n",
    "```"
   ]
  },
  {
   "cell_type": "markdown",
   "id": "1bc4e848-a76a-4f25-9bc1-1bafd078eaf9",
   "metadata": {},
   "source": [
    "## Windows\n",
    "\n",
    "安装 WSL (适用于 Linux 的 Windows 子系统, Windows Subsystem for Linux).\n",
    "默认情况下，安装的系统为 Ubuntu. \n",
    "\n",
    "### WSL 安装\n",
    "\n",
    "https://docs.microsoft.com/zh-cn/windows/wsl/install\n",
    "\n",
    "### Firedrake 安装\n",
    "按照 Ubuntu 上安装方式"
   ]
  },
  {
   "cell_type": "markdown",
   "id": "c6e57e18-3f57-4cd3-b361-a4f1e8fbb02a",
   "metadata": {
    "tags": []
   },
   "source": [
    "## Mac"
   ]
  },
  {
   "cell_type": "markdown",
   "id": "52e50106-343a-4bb3-a07a-8381d000ac10",
   "metadata": {},
   "source": [
    "先安装 Homebrew (https://brew.sh/), 然后使用 Homebrew 安装 python3, 之后类似于 Ubuntu 直接安装firedrake"
   ]
  },
  {
   "cell_type": "markdown",
   "id": "3fc50fd1-f911-4b9f-87ec-2f22bf4aa7ca",
   "metadata": {
    "tags": []
   },
   "source": [
    "## Linux Server\n",
    "\n",
    "### Spack I\n",
    "Firedrake 团队提供了基于 Spack (HPC 上的包管理器) 安装的方式, 详见 https://github.com/firedrakeproject/firedrake-spack\n",
    "\n",
    "### Spack II\n",
    "\n",
    "使用 spack 安装依赖包, 然后类似于 ubuntu 方式安装 (需要禁用包管理器： --no-package-manager)\n",
    "\n",
    "+ [bash script](scripts/spack-firedrake.sh)\n",
    "+ [python script](scripts/spack-firedrake.py)"
   ]
  },
  {
   "cell_type": "markdown",
   "id": "b13ca1d6-4245-4fc6-aa40-f58581af58e6",
   "metadata": {},
   "source": [
    "### Docker\n",
    "\n",
    "系服务器 ws5 和 ws6 已安装 docker.\n",
    "\n",
    "可以使用 Firedrake 团队构建的镜像 https://hub.docker.com/u/firedrakeproject."
   ]
  },
  {
   "cell_type": "markdown",
   "id": "4bf223dc-f27f-47c1-b34c-9b6fc38d1680",
   "metadata": {},
   "source": [
    "# Colab 上尝试 Firedrake \n",
    "\n",
    "Colab 是 Colaboratory 的简称,  (可以看作是在线版 Jupyter, 浏览器中编写和执行 Python 代码)\n",
    "\n",
    "[FEM on Colab](https://fem-on-colab.github.io/index.html) 支持在 Colab 上安装 [FEniCS, FEniCSx, Firedrake, NGSolve, gmsh](https://fem-on-colab.github.io/packages.html)\n",
    "\n"
   ]
  },
  {
   "cell_type": "markdown",
   "id": "3293d65b-a7c1-4682-922c-751c2a6682c1",
   "metadata": {},
   "source": [
    "## 导入 Package\n",
    "\n",
    "### Firedrake\n",
    "\n",
    "大概 3 分钟\n",
    "\n",
    "```python\n",
    "try:\n",
    "    import firedrake\n",
    "except ImportError:\n",
    "    !wget \"https://fem-on-colab.github.io/releases/firedrake-install-real.sh\" -O \"/tmp/firedrake-install.sh\" && bash \"/tmp/firedrake-install.sh\"\n",
    "    import firedrake\n",
    "```\n",
    "\n",
    "### Gmsh\n",
    "```python\n",
    "try:\n",
    "    import gmsh\n",
    "except ImportError:\n",
    "    !wget \"https://fem-on-colab.github.io/releases/gmsh-install.sh\" -O \"/tmp/gmsh-install.sh\" && bash \"/tmp/gmsh-install.sh\"\n",
    "    import gmsh\n",
    "```"
   ]
  },
  {
   "cell_type": "markdown",
   "id": "d95ed87e-645a-46d4-be28-3c8a56bdb49e",
   "metadata": {},
   "source": [
    "## 示例\n",
    "\n",
    "https://colab.research.google.com/drive/1gM3zMWTskH7XyDi1yJL76BPFnOJjSdYh?usp=sharing"
   ]
  },
  {
   "cell_type": "markdown",
   "id": "a20bd3eb-d62d-4270-80f6-a3b459da71da",
   "metadata": {},
   "source": [
    "# 有问题怎么办?\n",
    "\n",
    "官方文档: \n",
    "1. https://www.firedrakeproject.org/documentation.html\n",
    "\n",
    "__Github 仓库__: https://github.com/firedrakeproject/firedrake\n",
    "1. https://github.com/firedrakeproject/firedrake/issues\n",
    "2. https://github.com/firedrakeproject/firedrake/discussions\n",
    "\n",
    "__Slack 讨论组__: https://firedrakeproject.herokuapp.com/\n",
    "\n",
    "邮件列表: https://mailman.ic.ac.uk/mailman/listinfo/firedrake"
   ]
  },
  {
   "cell_type": "markdown",
   "id": "9404645b-0313-4b20-94ed-b4640c4d88ba",
   "metadata": {},
   "source": [
    "# 其他有限元工具"
   ]
  },
  {
   "cell_type": "markdown",
   "id": "f6d2708e-7593-4f25-a90f-4f3f135f7036",
   "metadata": {},
   "source": [
    "+ FEniCS/Dolfin\n",
    "\n",
    "+ NgSolve\n",
    "\n",
    "+ deal.II\n",
    "\n",
    "+ libMesh\n",
    "\n",
    "+ FreeFEM\n",
    "\n",
    "+ Dune"
   ]
  },
  {
   "cell_type": "code",
   "execution_count": null,
   "id": "b56aae47-93e1-4b1c-a9a5-5e8d0ede8205",
   "metadata": {},
   "outputs": [],
   "source": []
  }
 ],
 "metadata": {
  "kernelspec": {
   "display_name": "Python 3 (ipykernel)",
   "language": "python",
   "name": "python3"
  },
  "language_info": {
   "codemirror_mode": {
    "name": "ipython",
    "version": 3
   },
   "file_extension": ".py",
   "mimetype": "text/x-python",
   "name": "python",
   "nbconvert_exporter": "python",
   "pygments_lexer": "ipython3",
   "version": "3.8.10"
  },
  "toc-autonumbering": true
 },
 "nbformat": 4,
 "nbformat_minor": 5
}
