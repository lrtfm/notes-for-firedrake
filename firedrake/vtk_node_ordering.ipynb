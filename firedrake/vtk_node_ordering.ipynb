{
 "cells": [
  {
   "cell_type": "code",
   "execution_count": 1,
   "id": "498a0daf-cb3c-4348-8329-f5b9f0f44f78",
   "metadata": {},
   "outputs": [],
   "source": [
    "import math \n",
    "import vtk\n",
    "\n",
    "# Let’s make a sixth-order tetrahedron \n",
    "order = 2\n",
    "# The number of points for a sixth-order tetrahedron is \n",
    "nPoints = round((order + 1) * (order + 2) * (order + 3) / 6)\n",
    "\n",
    "# Create a tetrahedron and set its number of points. Internally, Lagrange cells\n",
    " # compute their order according to the number of points they hold. \n",
    "tet = vtk.vtkLagrangeTetra() \n",
    "tet.GetPointIds().SetNumberOfIds(nPoints) \n",
    "tet.GetPoints().SetNumberOfPoints(nPoints)\n",
    "tet.Initialize()\n",
    "\n",
    "point = [0.,0.,0.]\n",
    "barycentricIndex = [0, 0, 0, 0]"
   ]
  },
  {
   "cell_type": "code",
   "execution_count": 2,
   "id": "1be96ac8-615a-4253-b39e-2a34f86bd8a1",
   "metadata": {},
   "outputs": [
    {
     "name": "stdout",
     "output_type": "stream",
     "text": [
      "[0, 0, 0, 2]\n",
      "[2, 0, 0, 0]\n",
      "[0, 2, 0, 0]\n",
      "[0, 0, 2, 0]\n",
      "[1, 0, 0, 1]\n",
      "[1, 1, 0, 0]\n",
      "[0, 1, 0, 1]\n",
      "[0, 0, 1, 1]\n",
      "[1, 0, 1, 0]\n",
      "[0, 1, 1, 0]\n"
     ]
    }
   ],
   "source": [
    "# For each point in the tetrahedron...\n",
    "for i in range(nPoints):\n",
    "    # ...we set its id to be equal to its index in the internal point array. \n",
    "    tet.GetPointIds().SetId(i, i)\n",
    "\n",
    "    # We compute the barycentric index of the point... \n",
    "    tet.ToBarycentricIndex(i, barycentricIndex)\n",
    "\n",
    "    print(barycentricIndex)\n",
    "    # ...and scale it to unity.\n",
    "    for j in range(3):\n",
    "        point[j] = float(barycentricIndex[j]) / order\n",
    "\n",
    "    # A tetrahedron comprised of the above-defined points has straight\n",
    "    # edges.\n",
    "    tet.GetPoints().SetPoint(i, point[0], point[1], point[2])"
   ]
  },
  {
   "cell_type": "code",
   "execution_count": null,
   "id": "68cc05b3-99d7-4aeb-ba53-56d12db5f59d",
   "metadata": {},
   "outputs": [],
   "source": [
    "# Add the tetrahedron to a cell array \n",
    "tets = vtk.vtkCellArray() \n",
    "tets.InsertNextCell(tet)\n",
    " \n",
    "# Add the points and tetrahedron to an unstructured grid \n",
    "uGrid =vtk.vtkUnstructuredGrid() \n",
    "uGrid.SetPoints(tet.GetPoints())\n",
    "uGrid.InsertNextCell(tet.GetCellType(), tet.GetPointIds())\n",
    "\n",
    "# Visualize\n",
    "mapper = vtk.vtkDataSetMapper() \n",
    "mapper.SetInputData(uGrid)\n",
    "\n",
    "actor = vtk.vtkActor() \n",
    "actor.SetMapper(mapper)\n",
    "\n",
    "renderer = vtk.vtkRenderer() \n",
    "renderWindow = vtk.vtkRenderWindow() \n",
    "renderWindow.AddRenderer(renderer)\n",
    "renderWindowInteractor = vtk.vtkRenderWindowInteractor()\n",
    "renderWindowInteractor.SetRenderWindow(renderWindow)\n",
    "\n",
    "renderer.AddActor(actor) \n",
    "renderer.SetBackground(.2, .3, .4)\n",
    "\n",
    "renderWindow.Render() \n",
    "renderWindowInteractor.Start()"
   ]
  },
  {
   "cell_type": "code",
   "execution_count": null,
   "id": "d9c52f5e-6dce-4091-adaf-459852d73d42",
   "metadata": {},
   "outputs": [],
   "source": []
  }
 ],
 "metadata": {
  "kernelspec": {
   "display_name": "Python 3 (ipykernel)",
   "language": "python",
   "name": "python3"
  },
  "language_info": {
   "codemirror_mode": {
    "name": "ipython",
    "version": 3
   },
   "file_extension": ".py",
   "mimetype": "text/x-python",
   "name": "python",
   "nbconvert_exporter": "python",
   "pygments_lexer": "ipython3",
   "version": "3.10.6"
  }
 },
 "nbformat": 4,
 "nbformat_minor": 5
}
