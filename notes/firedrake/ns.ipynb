{
 "cells": [
  {
   "attachments": {},
   "cell_type": "markdown",
   "metadata": {},
   "source": [
    "# NS 方程"
   ]
  },
  {
   "attachments": {},
   "cell_type": "markdown",
   "metadata": {},
   "source": [
    "Navier-Stocks 方程:\n",
    "\\begin{equation}\n",
    "\\left\\{\n",
    "\\begin{aligned}\n",
    "&\\partial_t u - \\mu\\Delta u + (u\\cdot\\nabla)u + \\nabla p = f, && {\\rm in} \\quad \\Omega\\times(0, T]\\\\\n",
    "&\\nabla\\cdot u = 0, && {\\rm in} \\quad \\Omega\\times(0, T]\n",
    "\\end{aligned}\n",
    "\\right.\n",
    "\\end{equation}\n",
    "\n",
    "初边值条件\n",
    "\\begin{equation}\n",
    "\\left\\{\n",
    "\\begin{aligned}\n",
    "& u = 0, && {\\rm on} \\quad \\partial\\Omega\\times(0, T] \\\\\n",
    "&u_0 = (y, -x) &&{\\rm in} \\quad \\Omega\\quad{\\rm at}\\quad t = 0\\\\\n",
    "\\end{aligned}\n",
    "\\right.\n",
    "\\end{equation}\n"
   ]
  },
  {
   "cell_type": "code",
   "execution_count": null,
   "metadata": {},
   "outputs": [],
   "source": [
    "from firedrake import *\n",
    "\n",
    "mu = 1\n",
    "T = 0.25\n",
    "\n",
    "N_S = 16\n",
    "N_T = 128\n",
    "\n",
    "tau = T/N_T\n",
    "h = 1/N_S\n",
    "\n",
    "mesh = RectangleMesh(N_S, N_S, 1, 1)\n",
    "\n",
    "x = SpatialCoordinate(mesh)\n",
    "# u_0 = as_vector((x[1] - 0.5, - x[0] + 0.5))\n",
    "u_0 = as_vector((x[1], - x[0]))\n",
    "f = as_vector([0, -1])"
   ]
  },
  {
   "attachments": {},
   "cell_type": "markdown",
   "metadata": {},
   "source": [
    "## 函数空间"
   ]
  },
  {
   "attachments": {},
   "cell_type": "markdown",
   "metadata": {},
   "source": [
    "采用 MINI 元, 即 P1 $\\times$ P1b.\n",
    "\n",
    "P1b 由 P1 加上 Bubble 组成.\n",
    "\n",
    "`NodalEnrichedElement`, `EnrichedElement`"
   ]
  },
  {
   "attachments": {},
   "cell_type": "markdown",
   "metadata": {},
   "source": [
    "`VectorFunctionSpace` 构造向量空间"
   ]
  },
  {
   "cell_type": "code",
   "execution_count": null,
   "metadata": {},
   "outputs": [],
   "source": [
    "cell = mesh.ufl_cell()\n",
    "tdim = cell.topological_dimension()\n",
    "\n",
    "# Mini element: P1 X P1b\n",
    "P1 = FiniteElement(\"CG\", cell, 1)\n",
    "B = FiniteElement(\"B\", cell, tdim+1)\n",
    "P1b = P1 + B # or P1b = NodalEnrichedElement(P1, B)\n",
    "\n",
    "V_u = VectorFunctionSpace(mesh, P1b)\n",
    "V_p = FunctionSpace(mesh, \"CG\", 1)\n",
    "V = MixedFunctionSpace([V_u, V_p])"
   ]
  },
  {
   "attachments": {},
   "cell_type": "markdown",
   "metadata": {},
   "source": [
    "## 弱形式\n",
    "\n",
    "\\begin{equation}\n",
    "\\left\\{\n",
    "\\begin{aligned}\n",
    "&\\frac{1}{\\tau}(u^n - u^{n-1}, v) + \\mu(\\nabla u^n, \\nabla v) + ((u^n\\cdot\\nabla)u^n, v) - (p^n, \\nabla\\cdot v) = (f^n, v)\\\\\n",
    "&(q, \\nabla\\cdot u^n) = 0\n",
    "\\end{aligned}\n",
    "\\right.\n",
    "\\end{equation}"
   ]
  },
  {
   "attachments": {},
   "cell_type": "markdown",
   "metadata": {},
   "source": [
    "+ `TrialFunctions`, `TestFunctions`: \n",
    "\n",
    "  以 `tuple` 返回函数空间中的试验/测试函数,\n",
    "\n",
    "  主要用于 `MixedFunctionSpace`.\n",
    "  \n",
    "+ `split`\n",
    "    + `split`: 以索引的方式获取 `MixedFunctionSpace` 中函数的分量 (保留 UFL 关联信息, 用于定义变分形式)"
   ]
  },
  {
   "attachments": {},
   "cell_type": "markdown",
   "metadata": {},
   "source": [
    "由于该问题是非线性问题, 我们打算用 `NonlinearVariationalSolver` 进行求解, 所以下面定义 `w` 使用了 `Function` 而不是 `TrialFunction`/`TrialFunctions`."
   ]
  },
  {
   "cell_type": "code",
   "execution_count": null,
   "metadata": {},
   "outputs": [],
   "source": [
    "w = Function(V) # u and p\n",
    "u, p = split(w)\n",
    "\n",
    "v, q = TestFunctions(V)\n",
    "\n",
    "w_nm1 = Function(V)\n",
    "u_nm1, p_nm1 = w_nm1.subfunctions\n",
    "u_nm1.rename('u_h') # for visualization in paraview\n",
    "p_nm1.rename('p_h')\n",
    "\n",
    "Re = Constant(mu)\n",
    "\n",
    "F = \\\n",
    "      Constant(1/tau)*inner(u - u_nm1, v)*dx \\\n",
    "    + Re*inner(grad(u+u_nm1)/2, grad(v))*dx \\\n",
    "    + inner(dot(grad(u), (u+u_nm1)/2), v)*dx \\\n",
    "    - p*div(v)*dx \\\n",
    "    + div(u)*q*dx \\\n",
    "    - inner(f, v)*dx"
   ]
  },
  {
   "attachments": {},
   "cell_type": "markdown",
   "metadata": {},
   "source": [
    "## 定义 Solver"
   ]
  },
  {
   "attachments": {},
   "cell_type": "markdown",
   "metadata": {},
   "source": [
    "类似于纯 Neumann 问题, 我们将使用 `nullspace` 参数.\n",
    "\n",
    "注意下面混合空间中, 边界条件和 `nullspace` 的定义."
   ]
  },
  {
   "cell_type": "code",
   "execution_count": null,
   "metadata": {},
   "outputs": [],
   "source": [
    "bc = DirichletBC(V.sub(0), 0, 'on_boundary')\n",
    "nullspace = MixedVectorSpaceBasis(V, [V.sub(0), VectorSpaceBasis(constant=True, comm=mesh.comm)])\n",
    "\n",
    "problem = NonlinearVariationalProblem(F, w, bcs=bc)  # F = 0\n",
    "solver = NonlinearVariationalSolver(problem,\n",
    "                                    options_prefix='ns',\n",
    "                                    solver_parameters=None, # {'snes_converged_reason': None, 'snes_max_it': 100},\n",
    "                                    nullspace=nullspace\n",
    "                                   )"
   ]
  },
  {
   "attachments": {},
   "cell_type": "markdown",
   "metadata": {},
   "source": [
    "## 时间循环和保存结果到 `pvd` 文件"
   ]
  },
  {
   "cell_type": "code",
   "execution_count": null,
   "metadata": {},
   "outputs": [
    {
     "name": "stderr",
     "output_type": "stream",
     "text": [
      "T |##################################################| 128/128 [0:00:01]\n",
      "\u001b[?25h"
     ]
    }
   ],
   "source": [
    "u_, p_ = w.subfunctions\n",
    "\n",
    "output = File('pvd/ns-equation.pvd')\n",
    "\n",
    "u_nm1.project(u_0)\n",
    "output.write(u_nm1, p_nm1, time=0)\n",
    "\n",
    "for i in ProgressBar('T', bar_prefix=\" |\", bar_suffix=\"| \", empty_fill=\" \", fill=\"#\").iter(range(N_T)):\n",
    "    t = tau*(i+1)\n",
    "    \n",
    "    solver.solve()\n",
    "    \n",
    "    u_nm1.assign(u_)\n",
    "    p_nm1.assign(p_)\n",
    "\n",
    "    (i+1)%32 or output.write(u_nm1, p_nm1, time=t)"
   ]
  },
  {
   "attachments": {},
   "cell_type": "markdown",
   "metadata": {},
   "source": [
    "### Constant 用于时间依赖的表达式"
   ]
  },
  {
   "cell_type": "code",
   "execution_count": null,
   "metadata": {},
   "outputs": [
    {
     "name": "stdout",
     "output_type": "stream",
     "text": [
      "[0.0, 0.0999999999999999, 0.1999999999999998, 0.2999999999999997, 0.3999999999999996]\n"
     ]
    }
   ],
   "source": [
    "from firedrake import *\n",
    "mesh = RectangleMesh(10, 10, 1, 1)\n",
    "C1 = Constant(0)\n",
    "\n",
    "x, y = SpatialCoordinate(mesh)\n",
    "expr = C1*(x+y)\n",
    "\n",
    "v = []\n",
    "for i in range(5):\n",
    "    t = i*0.1\n",
    "    C1.assign(t)\n",
    "    v.append(\n",
    "        assemble(expr*dx)\n",
    "    )\n",
    "\n",
    "print(v)"
   ]
  },
  {
   "attachments": {},
   "cell_type": "markdown",
   "metadata": {},
   "source": [
    "## ParaView 可视化计算结果"
   ]
  },
  {
   "attachments": {},
   "cell_type": "markdown",
   "metadata": {},
   "source": [
    "Pipeline 和 Filter\n",
    "\n",
    "### 二维结果 (surf 图)\n",
    "\n",
    "Filter: Wrap by scalar\n",
    "\n",
    "### 选择部分区域显示\n",
    "\n",
    "View -> Find Data\n",
    "\n"
   ]
  },
  {
   "attachments": {},
   "cell_type": "markdown",
   "metadata": {},
   "source": [
    "### 并行数据显示各进程区域\n",
    "\n",
    "Filter -> Connectivity"
   ]
  }
 ],
 "metadata": {
  "language_info": {
   "name": "python"
  },
  "orig_nbformat": 4
 },
 "nbformat": 4,
 "nbformat_minor": 2
}
