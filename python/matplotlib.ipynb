{
 "cells": [
  {
   "cell_type": "code",
   "execution_count": null,
   "id": "4550ed2b-523a-458f-a783-788252fb85a4",
   "metadata": {},
   "outputs": [],
   "source": [
    "import matplotlib\n",
    "import matplotlib.pyplot as plt\n",
    "import matplotlib.ticker as ticker\n",
    "\n",
    "import numpy as np\n",
    "\n",
    "matplotlib.rcParams.update(\n",
    "    {'font.size': 16, \n",
    "     'savefig.bbox': 'tight',\n",
    "     \"figure.facecolor\":  (0.9, 0.9, 0.9, 0.3),  # red   with alpha = 30%\n",
    "     \"axes.facecolor\":    (0.8, 0.8, 0.8, 0.2),  # green with alpha = 50%\n",
    "     # \"savefig.facecolor\": (0.0, 0.0, 1.0, 0.2),  # blue  with alpha = 20%\n",
    "    }\n",
    ")"
   ]
  },
  {
   "cell_type": "code",
   "execution_count": null,
   "id": "ca50effd-242e-4058-989e-1df38e0e1349",
   "metadata": {},
   "outputs": [],
   "source": [
    "x = [8*2**i for i in range(4)]"
   ]
  },
  {
   "cell_type": "code",
   "execution_count": null,
   "id": "d6871dd5-d3e2-467b-b3d8-31bdda91e66f",
   "metadata": {},
   "outputs": [],
   "source": [
    "y = [10*_**2 for _ in x]"
   ]
  },
  {
   "cell_type": "code",
   "execution_count": null,
   "id": "edada3e8-234f-435e-9a65-5a78b3fec2c7",
   "metadata": {},
   "outputs": [],
   "source": [
    "xmajor_locator = ticker.MultipleLocator(base=32)\n",
    "xminor_locator = ticker.MultipleLocator(base=8)\n",
    "\n",
    "fig = plt.figure()\n",
    "ax = fig.add_subplot()\n",
    "ax.loglog(x, y, '-*')\n",
    "\n",
    "ax.xaxis.set_major_locator(ticker.MultipleLocator(base=8))\n",
    "ax.xaxis.set_minor_locator(ticker.MultipleLocator(base=16))\n",
    "\n",
    "ax.xaxis.set_major_formatter(ticker.FormatStrFormatter('%g'))\n",
    "ax.xaxis.set_minor_formatter(ticker.FormatStrFormatter('%g'))\n"
   ]
  },
  {
   "cell_type": "code",
   "execution_count": null,
   "id": "da772728-2803-4d7e-8d2b-05ff32e86fed",
   "metadata": {},
   "outputs": [],
   "source": [
    "fig = plt.figure()\n",
    "ax = fig.add_subplot()\n",
    "ax.loglog(x, y, '-*')\n",
    "\n",
    "ax.xaxis.set_major_locator(ticker.LogLocator(base=2, subs='auto'))\n",
    "ax.xaxis.set_minor_locator(ticker.LogLocator(base=2))\n",
    "\n",
    "ax.xaxis.set_major_formatter(ticker.FormatStrFormatter('%g'))\n",
    "ax.xaxis.set_minor_formatter(ticker.FormatStrFormatter(''))"
   ]
  },
  {
   "cell_type": "code",
   "execution_count": null,
   "id": "420c65ac-7afa-461a-9412-1aa736865ab5",
   "metadata": {},
   "outputs": [],
   "source": [
    "x_inv = [1/_ for _ in x]"
   ]
  },
  {
   "cell_type": "code",
   "execution_count": null,
   "id": "780f42e6-488a-4016-8e1c-0e81cfd1ff28",
   "metadata": {},
   "outputs": [],
   "source": [
    "fig = plt.figure()\n",
    "ax = fig.add_subplot()\n",
    "ax.loglog(x_inv, y, '-*')\n",
    "\n",
    "ax.xaxis.set_major_locator(ticker.LogLocator(base=4))\n",
    "ax.xaxis.set_minor_locator(ticker.LogLocator(base=2))\n",
    "\n",
    "def ticker_str(x, pos):\n",
    "    if x < 1:\n",
    "        n = int(np.round(1/x))\n",
    "        return \"1/%g\"%n\n",
    "    return \"%g\"\n",
    "\n",
    "# ax.xaxis.set_major_formatter(ticker.FormatStrFormatter('%f'))\n",
    "# ax.xaxis.set_minor_formatter(ticker.FormatStrFormatter('%g'))\n",
    "\n",
    "ax.xaxis.set_major_formatter(ticker_str)\n",
    "ax.xaxis.set_minor_formatter(ticker_str)"
   ]
  },
  {
   "cell_type": "code",
   "execution_count": null,
   "id": "e1d32e8c-3710-40b4-b611-6a9f3676c9c3",
   "metadata": {},
   "outputs": [],
   "source": [
    "fig = plt.figure(figsize=[14, 5])\n",
    "ax = fig.add_subplot(1, 2, 1)\n",
    "ax.loglog(x_inv, y, '-*')\n",
    "ax.set_xscale('log', base=2)\n",
    "\n",
    "ax = fig.add_subplot(1, 2, 2)\n",
    "ax.loglog(x, y, '-*')\n",
    "ax.set_xscale('log', base=2)"
   ]
  },
  {
   "cell_type": "code",
   "execution_count": null,
   "id": "1c300c18-635a-43b7-b6ab-b6a98b77a4c0",
   "metadata": {},
   "outputs": [],
   "source": [
    "help(ax.loglog)"
   ]
  },
  {
   "cell_type": "code",
   "execution_count": null,
   "id": "ac47f0e7-f435-41da-acbe-4b86d131c8b9",
   "metadata": {},
   "outputs": [],
   "source": [
    "def setup(ax):\n",
    "    ax.spines['right'].set_color('none')\n",
    "    ax.spines['left'].set_color('none')\n",
    "    ax.yaxis.set_major_locator(ticker.NullLocator())\n",
    "    ax.spines['top'].set_color('none')\n",
    "    ax.xaxis.set_ticks_position('bottom')\n",
    "    ax.tick_params(which='major', width=1.00, length=5)\n",
    "    ax.tick_params(which='minor', width=0.75, length=2.5, labelsize=10)\n",
    "    ax.set_xlim(0, 5)\n",
    "    ax.set_ylim(0, 1)\n",
    "    ax.patch.set_alpha(0.0)"
   ]
  },
  {
   "cell_type": "code",
   "execution_count": null,
   "id": "987b6d09-5928-4a79-9650-0aa0ef7a3dee",
   "metadata": {},
   "outputs": [],
   "source": [
    "fig = plt.figure()\n",
    "ax = fig.add_subplot()\n",
    "setup(ax)"
   ]
  }
 ],
 "metadata": {
  "language_info": {
   "name": "python"
  }
 },
 "nbformat": 4,
 "nbformat_minor": 5
}
