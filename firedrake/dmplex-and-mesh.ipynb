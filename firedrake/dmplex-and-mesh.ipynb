{
 "cells": [
  {
   "cell_type": "markdown",
   "metadata": {},
   "source": [
    "\n",
    "# [DMPlex](petsc.ipynb#dmplex) 和 Mesh"
   ]
  },
  {
   "cell_type": "markdown",
   "metadata": {},
   "source": [
    "准备并行环境"
   ]
  },
  {
   "cell_type": "code",
   "execution_count": null,
   "metadata": {},
   "outputs": [],
   "source": [
    "import ipyparallel as ipp\n",
    "\n",
    "cluster = ipp.Cluster(profile=\"mpi\", n=2)\n",
    "client = cluster.start_and_connect_sync()"
   ]
  },
  {
   "cell_type": "code",
   "execution_count": null,
   "metadata": {},
   "outputs": [],
   "source": [
    "%%px --block\n",
    "from firedrake import *\n",
    "from firedrake.petsc import PETSc\n",
    "from mpi4py import MPI"
   ]
  },
  {
   "cell_type": "markdown",
   "metadata": {},
   "source": [
    "在串行环境中导入必要的包"
   ]
  },
  {
   "cell_type": "code",
   "execution_count": null,
   "metadata": {},
   "outputs": [],
   "source": [
    "from firedrake import *\n",
    "from firedrake.petsc import PETSc\n",
    "from mpi4py import MPI"
   ]
  },
  {
   "cell_type": "markdown",
   "metadata": {},
   "source": [
    "\n",
    "## 创建 DMPlex\n"
   ]
  },
  {
   "cell_type": "markdown",
   "metadata": {},
   "source": [
    "![A 2D doublet mesh, two triangles sharing an edge](https://petsc.org/release/_images/dmplex_doublet_mesh.svg)  \n",
    "\n",
    "![The Hasse diagram for our 2D doublet mesh, expressed as a DAG](https://petsc.org/release/_images/dmplex_doublet_dag.svg)"
   ]
  },
  {
   "cell_type": "markdown",
   "metadata": {},
   "source": [
    "### 底层创建方法"
   ]
  },
  {
   "cell_type": "code",
   "execution_count": null,
   "metadata": {},
   "outputs": [],
   "source": [
    "plex = PETSc.DMPlex().create()\n",
    "plex.setDimension(2)\n",
    "plex.setChart(0, 11)\n",
    "# plex.setConeSize(point, number of points that cover the point)\n",
    "plex.setConeSize(0, 3)\n",
    "plex.setConeSize(1, 3)\n",
    "plex.setConeSize(6, 2)\n",
    "plex.setConeSize(7, 2)\n",
    "plex.setConeSize(8, 2)\n",
    "plex.setConeSize(9, 2)\n",
    "plex.setConeSize(10, 2)\n",
    "plex = plex.setUp()  # plex.setUp() return self"
   ]
  },
  {
   "cell_type": "code",
   "execution_count": null,
   "metadata": {},
   "outputs": [],
   "source": [
    "# plex.setCone(point, [points that cover the point])\n",
    "plex.setCone(0, [6, 7, 8])\n",
    "plex.setCone(1, [7, 9, 10])\n",
    "plex.setCone(6, [2, 3])\n",
    "plex.setCone(7, [3, 4])\n",
    "plex.setCone(8, [4, 2])\n",
    "plex.setCone(9, [4, 5])\n",
    "plex.setCone(10, [5, 3])\n",
    "\n",
    "plex.symmetrize()\n",
    "plex.stratify()\n",
    "\n",
    "plex.view()"
   ]
  },
  {
   "cell_type": "markdown",
   "metadata": {},
   "source": [
    "### 使用高级接口\n",
    "\n",
    "1. [`PETSc.DMPlex().createFromFile`](https://petsc.org/main/petsc4py/reference/petsc4py.PETSc.DMPlex.html#petsc4py.PETSc.DMPlex.createFromFile)\n",
    "1. [`PETSc.DMPlex().createFromCellList`](https://petsc.org/main/petsc4py/reference/petsc4py.PETSc.DMPlex.html#petsc4py.PETSc.DMPlex.createFromCellList)"
   ]
  },
  {
   "cell_type": "code",
   "execution_count": null,
   "metadata": {},
   "outputs": [],
   "source": [
    "cells = [\n",
    "    [0, 1, 2],\n",
    "    [1, 3, 2]\n",
    "]\n",
    "coords = [\n",
    "    [-1, 0],\n",
    "    [0, -1],\n",
    "    [0, 1],\n",
    "    [1, 0]\n",
    "]\n",
    "\n",
    "plex = PETSc.DMPlex().createFromCellList(\n",
    "    dim=2, cells=cells, coords=coords, interpolate=True, comm=None)\n",
    "\n",
    "plex.view()"
   ]
  },
  {
   "cell_type": "markdown",
   "metadata": {},
   "source": [
    "## `PETSc.Section`"
   ]
  },
  {
   "cell_type": "code",
   "execution_count": null,
   "metadata": {},
   "outputs": [],
   "source": [
    "section1 = PETSc.Section().create()\n",
    "section1.setChart(*plex.getChart())\n",
    "section2 = PETSc.Section().create()\n",
    "section2.setChart(*plex.getChart())"
   ]
  },
  {
   "cell_type": "code",
   "execution_count": null,
   "metadata": {},
   "outputs": [],
   "source": [
    "old_to_new = plex.getOrdering(PETSc.Mat.OrderingType.RCM).indices\n",
    "reordering = np.empty_like(old_to_new)  # reordering[new] -> old\n",
    "reordering[old_to_new] = np.arange(old_to_new.size, dtype=old_to_new.dtype)\n",
    "\n",
    "perm = PETSc.IS().createGeneral(reordering)\n",
    "section2.setPermutation(perm)"
   ]
  },
  {
   "cell_type": "code",
   "execution_count": null,
   "metadata": {},
   "outputs": [],
   "source": [
    "ps, pe = plex.getDepthStratum(0)\n",
    "for p in range(ps, pe):\n",
    "    section1.addDof(p, 1)\n",
    "    section2.addDof(p, 1)\n",
    "\n",
    "section1.setUp()\n",
    "section2.setUp()"
   ]
  },
  {
   "cell_type": "code",
   "execution_count": null,
   "metadata": {},
   "outputs": [],
   "source": [
    "section1.view()\n",
    "section2.view()"
   ]
  },
  {
   "cell_type": "markdown",
   "metadata": {},
   "source": [
    "## Firedrake 中的 Mesh"
   ]
  },
  {
   "cell_type": "code",
   "execution_count": null,
   "metadata": {},
   "outputs": [],
   "source": [
    "mesh = RectangleMesh(4, 4, 1, 1)\n",
    "mesh.init()\n",
    "plex = mesh.topology_dm\n",
    "rank, size = mesh.comm.rank, mesh.comm.size"
   ]
  },
  {
   "cell_type": "code",
   "execution_count": null,
   "metadata": {},
   "outputs": [],
   "source": [
    "%%px --block\n",
    "from firedrake import *\n",
    "from firedrake.petsc import PETSc\n",
    "from mpi4py import MPI\n",
    "\n",
    "mesh = RectangleMesh(4, 4, 1, 1)\n",
    "mesh.init()\n",
    "plex = mesh.topology_dm\n",
    "rank, size = mesh.comm.rank, mesh.comm.size"
   ]
  },
  {
   "cell_type": "code",
   "execution_count": null,
   "metadata": {},
   "outputs": [],
   "source": [
    "%%px --block\n",
    "mesh._dm_renumbering.indices"
   ]
  },
  {
   "cell_type": "markdown",
   "metadata": {},
   "source": [
    "和重新编号相关的函数\n",
    "\n",
    "1. [`MeshTopology._default_reordering`: _default_reordering[new]->[old]](https://github.com/firedrakeproject/firedrake/blob/ec0329f092b431e8e4c8bd7e41f6667234c9caa3/firedrake/mesh.py#L1196)\n",
    "1. [`MeshTopology._dm_renumbering`: _dm_renumbering[new]->[old]](https://github.com/firedrakeproject/firedrake/blob/ec0329f092b431e8e4c8bd7e41f6667234c9caa3/firedrake/mesh.py#L586)\n",
    "1. [`MeshTopology._renumber_entities`](https://github.com/firedrakeproject/firedrake/blob/ec0329f092b431e8e4c8bd7e41f6667234c9caa3/firedrake/mesh.py#L1202)\n",
    "1. [`dmcommon.mark_entity_classes`](https://github.com/firedrakeproject/firedrake/blob/ec0329f092b431e8e4c8bd7e41f6667234c9caa3/firedrake/cython/dmcommon.pyx#L1967)\n",
    "1. [`dmcommon.get_entity_classes`](https://github.com/firedrakeproject/firedrake/blob/ec0329f092b431e8e4c8bd7e41f6667234c9caa3/firedrake/cython/dmcommon.pyx#L2115)\n",
    "1. [`dmcommon.plex_renumbering`](https://github.com/firedrakeproject/firedrake/blob/ec0329f092b431e8e4c8bd7e41f6667234c9caa3/firedrake/cython/dmcommon.pyx#L2331)"
   ]
  },
  {
   "cell_type": "code",
   "execution_count": null,
   "metadata": {},
   "outputs": [],
   "source": [
    "%%px --block\n",
    "# https://petsc.org/release/manualpages/DMPlex/DMPlexGetOrdering\n",
    "old_to_new = plex.getOrdering(PETSc.Mat.OrderingType.RCM).indices\n",
    "reordering = np.empty_like(old_to_new)\n",
    "reordering[old_to_new] = np.arange(old_to_new.size, dtype=old_to_new.dtype)\n",
    "mesh._default_reordering, reordering"
   ]
  },
  {
   "cell_type": "code",
   "execution_count": null,
   "metadata": {},
   "outputs": [],
   "source": [
    "%%px --block\n",
    "mesh.topology_dm.view()\n",
    "entity_classes = mesh._entity_classes\n",
    "ec_msg = ', '.join([f'{i}-cells: {ec}' for i, ec in enumerate(entity_classes)])\n",
    "PETSc.Sys.syncPrint(f'[{rank}/{size}] mesh._entity_classes (core, owned, ghost): {ec_msg}')\n",
    "PETSc.Sys.syncFlush()"
   ]
  },
  {
   "cell_type": "markdown",
   "metadata": {},
   "source": [
    "计算 `node_set` 相关的函数\n",
    "\n",
    "1. [`functionspacedata.get_node_set`](https://github.com/firedrakeproject/firedrake/blob/ec0329f092b431e8e4c8bd7e41f6667234c9caa3/firedrake/functionspacedata.py#L92C5-L92C17)\n",
    "2. [`dmcommon.get_global_numbering`](https://github.com/firedrakeproject/firedrake/blob/ec0329f092b431e8e4c8bd7e41f6667234c9caa3/firedrake/functionspacedata.py#L71)\n",
    "3. [`AbstractMeshTopology.create_section`](https://github.com/firedrakeproject/firedrake/blob/ec0329f092b431e8e4c8bd7e41f6667234c9caa3/firedrake/mesh.py#L763)\n",
    "4. [`dmcommon.create_section`](https://github.com/firedrakeproject/firedrake/blob/ec0329f092b431e8e4c8bd7e41f6667234c9caa3/firedrake/cython/dmcommon.pyx#L1183)\n",
    "5. [`firedrake.Halo`](https://github.com/firedrakeproject/firedrake/blob/ec0329f092b431e8e4c8bd7e41f6667234c9caa3/firedrake/halo.py#L84)\n",
    "6. [`make_dofs_per_plex_entity`](https://github.com/firedrakeproject/firedrake/blob/ec0329f092b431e8e4c8bd7e41f6667234c9caa3/firedrake/mesh.py#L795)"
   ]
  },
  {
   "cell_type": "markdown",
   "metadata": {},
   "source": [
    "计算 `node_set` 相关的概念\n",
    "1. [`entity_dofs`](https://github.com/firedrakeproject/fiat/blob/ae368208aa000843e656b957295d0739727e448c/FIAT/finite_element.py#L65)\n",
    "2. [`nodes_per_entity`](https://github.com/firedrakeproject/firedrake/blob/ec0329f092b431e8e4c8bd7e41f6667234c9caa3/firedrake/functionspacedata.py#L423C9-L423C25)"
   ]
  },
  {
   "cell_type": "code",
   "execution_count": null,
   "metadata": {},
   "outputs": [],
   "source": [
    "V1 = FunctionSpace(mesh, 'CG', 1)\n",
    "V2 = FunctionSpace(mesh, 'CG', 2)\n",
    "PETSc.Sys.Print(f'V1 entity_dofs: {V1.finat_element.entity_dofs()}')\n",
    "PETSc.Sys.Print(f'V2 entity_dofs: {V2.finat_element.entity_dofs()}')\n",
    "nodes_per_entity_V1 = tuple(mesh.make_dofs_per_plex_entity(V1.finat_element.entity_dofs()))\n",
    "nodes_per_entity_V2 = tuple(mesh.make_dofs_per_plex_entity(V2.finat_element.entity_dofs()))\n",
    "PETSc.Sys.Print(f'V1 nodes_per_entity: {nodes_per_entity_V1}')\n",
    "PETSc.Sys.Print(f'V2 nodes_per_entity: {nodes_per_entity_V2}')"
   ]
  },
  {
   "cell_type": "code",
   "execution_count": null,
   "metadata": {},
   "outputs": [],
   "source": [
    "%%px --block\n",
    "V1 = FunctionSpace(mesh, 'CG', 1)\n",
    "V2 = FunctionSpace(mesh, 'CG', 2)\n",
    "PETSc.Sys.Print(f'V1 entity_dofs: {V1.finat_element.entity_dofs()}')\n",
    "PETSc.Sys.Print(f'V2 entity_dofs: {V2.finat_element.entity_dofs()}')\n",
    "nodes_per_entity_V1 = tuple(mesh.make_dofs_per_plex_entity(V1.finat_element.entity_dofs()))\n",
    "nodes_per_entity_V2 = tuple(mesh.make_dofs_per_plex_entity(V2.finat_element.entity_dofs()))\n",
    "PETSc.Sys.Print(f'V1 nodes_per_entity: {nodes_per_entity_V1}')\n",
    "PETSc.Sys.Print(f'V2 nodes_per_entity: {nodes_per_entity_V2}')"
   ]
  },
  {
   "cell_type": "markdown",
   "metadata": {},
   "source": [
    "## FunctionSpace\n",
    "\n",
    "下图使用 [Sphinx / Jupyter Book 图形插件](https://opencomputinglab.github.io/SubjectMatterNotebooks/diagram/sphinx-diagrammers.html) [plantuml](https://plantuml.com/zh/class-diagram) 制作.\n",
    "\n",
    "```{uml}\n",
    ":caption: class FunctionSpace\n",
    ":align: center\n",
    ":width: 16cm\n",
    "skinparam monochrome true\n",
    "skinparam defaultFontSize 14\n",
    "skinparam defaultFontName Aapex\n",
    "\n",
    "class \"FunctionSpace\" as fs {\n",
    "  *dm: DMShell, cached_property\n",
    "  *_shared_data: FunctionSpaceData\n",
    "  *node_set (_shared_data.node_set): Set\n",
    "  *dof_dset: DataSet\n",
    "  *cell_node_list\n",
    "  *finat_element\n",
    "  --\n",
    "  *_dm(): { dm = dof_dset.dm; attach_hooks(dm, level, sf, section); }\n",
    "}\n",
    "\n",
    "class \"FunctionSpaceData\" as fsd {\n",
    "  *entity_node_lists: dict\n",
    "  *node_set: Set\n",
    "  *global_numbering: PETSc.Section\n",
    "}\n",
    "\n",
    "class \"DataSet\" as dset {\n",
    "  *dm: DMShell, cached_property\n",
    "  *layout_vec: Vec, cached_property\n",
    "  --\n",
    "  *dm() \n",
    "}\n",
    "note left of dset::dm()\n",
    "  dm = PETSc.DMShell().create(comm=self.comm)\n",
    "  dm.setGlobalVector(self.layout_vec)\n",
    "end note\n",
    "\n",
    "class \"DMShell\" as dm {\n",
    "  * PetscSF\n",
    "  * PetscSection\n",
    "  --\n",
    "}\n",
    "\n",
    "fs o-- dset\n",
    "fs o-- fsd\n",
    "dset *-- dm\n",
    "```"
   ]
  },
  {
   "cell_type": "markdown",
   "metadata": {},
   "source": [
    "## 示例: 寻找特定的几何实体以及节点编号"
   ]
  },
  {
   "cell_type": "markdown",
   "metadata": {},
   "source": [
    "### 二维示例\n",
    "\n",
    "使用 `global_numbering` 寻找某条边界上端点, 以及在这条边界上与它相邻的点 (2D mesh)"
   ]
  },
  {
   "cell_type": "code",
   "execution_count": null,
   "metadata": {},
   "outputs": [],
   "source": [
    "from firedrake import *\n",
    "import matplotlib.pyplot as plt\n",
    "import numpy as np\n",
    "\n",
    "rectangle = Mesh(\"gmsh/rectangle.msh\")\n",
    "fig, axes = plt.subplots(figsize=[4, 3])\n",
    "triplot(rectangle, axes=axes)\n",
    "axes.set_aspect('equal')\n",
    "rectangle.topology_dm.view()"
   ]
  },
  {
   "cell_type": "code",
   "execution_count": null,
   "metadata": {},
   "outputs": [],
   "source": [
    "%%px --block\n",
    "from firedrake import *\n",
    "import matplotlib.pyplot as plt\n",
    "import numpy as np\n",
    "\n",
    "rectangle = Mesh(\"gmsh/rectangle.msh\")\n",
    "fig, axes = plt.subplots(figsize=[4, 3])\n",
    "triplot(rectangle, axes=axes)\n",
    "axes.set_aspect('equal')\n",
    "axes.set_xlim([-0.1, 1.1])\n",
    "axes.set_ylim([-0.1, 1.1])\n",
    "rectangle.topology_dm.view()"
   ]
  },
  {
   "cell_type": "code",
   "execution_count": null,
   "metadata": {},
   "outputs": [],
   "source": [
    "def get_interface_element_with_contact_point(mesh, V, interface_tag, adj_line_tag):\n",
    "    dm = mesh.topology_dm\n",
    "    edge_label = dm.getLabel(\"Face Sets\")  # 2D Face is Edge\n",
    "    core_label = dm.getLabel(\"pyop2_core\")\n",
    "    owned_label = dm.getLabel(\"pyop2_owned\")\n",
    "\n",
    "    edge_label_values = edge_label.getValueIS().indices\n",
    "    interface_indices = []\n",
    "    if interface_tag in edge_label_values:\n",
    "        interface_indices = edge_label.getStratumIS(interface_tag).indices\n",
    "\n",
    "    adj_line = []\n",
    "    if adj_line_tag in edge_label_values:\n",
    "        adj_line = edge_label.getStratumIS(adj_line_tag).indices\n",
    "\n",
    "    points = np.intersect1d(interface_indices, adj_line)\n",
    "\n",
    "    plex_element = []\n",
    "    if len(points) > 0:\n",
    "        point = points[0]\n",
    "        support = dm.getSupport(point)\n",
    "        for edge in support:\n",
    "            if edge_label.getValue(edge) == interface_tag and \\\n",
    "                (core_label.getValue(edge) == 1 or owned_label.getValue(edge) == 1):\n",
    "                cone = dm.getCone(edge)\n",
    "                adj_point = cone[1] if cone[0] == point else cone[0]\n",
    "                plex_element = [point, adj_point]\n",
    "                break\n",
    "            \n",
    "    local_section = V.global_numbering  # global_numbering is a local section\n",
    "    element = [local_section.getOffset(_) for _ in plex_element]\n",
    "\n",
    "    return element\n",
    "\n",
    "# interface_tag, adj_line_tag = 2, 4   # 2: left boundary, 4: upper boundary\n",
    "V = FunctionSpace(rectangle, 'CG', 1)\n",
    "element = get_interface_element_with_contact_point(rectangle, V, interface_tag=1, adj_line_tag=3)\n",
    "coords_data = rectangle.coordinates.dat.data_ro_with_halos  # This must be outside the if condition (mpi collective)\n",
    "\n",
    "rank, size = rectangle.comm.rank, rectangle.comm.size\n",
    "if len(element) > 0:\n",
    "    coords = [coords_data[_] for _ in element]\n",
    "    PETSc.Sys.syncPrint(f\"[{rank}/{size}] node {element[0]}: {coords[0]}), node {element[1]}: {coords[1]}\")\n",
    "PETSc.Sys.syncFlush()"
   ]
  },
  {
   "cell_type": "code",
   "execution_count": null,
   "metadata": {},
   "outputs": [],
   "source": [
    "%%px --block\n",
    "def get_interface_element_with_contact_point(mesh, V, interface_tag, adj_line_tag):\n",
    "    dm = mesh.topology_dm\n",
    "    edge_label = dm.getLabel(\"Face Sets\")  # 2D Face is Edge\n",
    "    core_label = dm.getLabel(\"pyop2_core\")\n",
    "    owned_label = dm.getLabel(\"pyop2_owned\")\n",
    "\n",
    "    edge_label_values = edge_label.getValueIS().indices\n",
    "    interface_indices = []\n",
    "    if interface_tag in edge_label_values:\n",
    "        interface_indices = edge_label.getStratumIS(interface_tag).indices\n",
    "\n",
    "    adj_line = []\n",
    "    if adj_line_tag in edge_label_values:\n",
    "        adj_line = edge_label.getStratumIS(adj_line_tag).indices\n",
    "\n",
    "    points = np.intersect1d(interface_indices, adj_line)\n",
    "\n",
    "    plex_element = []\n",
    "    if len(points) > 0:\n",
    "        point = points[0]\n",
    "        support = dm.getSupport(point)\n",
    "        for edge in support:\n",
    "            if edge_label.getValue(edge) == interface_tag and \\\n",
    "                (core_label.getValue(edge) == 1 or owned_label.getValue(edge) == 1):\n",
    "                cone = dm.getCone(edge)\n",
    "                adj_point = cone[1] if cone[0] == point else cone[0]\n",
    "                plex_element = [point, adj_point]\n",
    "                break\n",
    "            \n",
    "    local_section = V.global_numbering  # global_numbering is a local section\n",
    "    element = [local_section.getOffset(_) for _ in plex_element]\n",
    "\n",
    "    return element\n",
    "\n",
    "# interface_tag, adj_line_tag = 2, 4   # 2: left boundary, 4: upper boundary\n",
    "\n",
    "V = FunctionSpace(rectangle, 'CG', 1)\n",
    "element = get_interface_element_with_contact_point(rectangle, V, interface_tag=2, adj_line_tag=4)\n",
    "coords_data = rectangle.coordinates.dat.data_ro_with_halos  # This must be outside the if condition (mpi collective)\n",
    "\n",
    "rank, size = rectangle.comm.rank, rectangle.comm.size\n",
    "if len(element) > 0:\n",
    "    coords = [coords_data[_] for _ in element]\n",
    "    PETSc.Sys.syncPrint(f\"[{rank}/{size}] node {element[0]}: {coords[0]}), node {element[1]}: {coords[1]}\")\n",
    "PETSc.Sys.syncFlush()"
   ]
  },
  {
   "cell_type": "markdown",
   "metadata": {},
   "source": [
    "### 三维示例\n",
    "使用 `global_numbering` 寻找界面上与接触线相邻的三角形 (3D mesh)\n",
    "\n",
    "本示例网格文件 [`cylinder.msh`](./gmsh/cylinder.msh) 由几何文件 [`cylinder.geo`](./gmsh/cylinder.geo) 生成,\n",
    "如图: ![cylinder](./gmsh/cylinder.png)"
   ]
  },
  {
   "cell_type": "code",
   "execution_count": null,
   "metadata": {},
   "outputs": [],
   "source": [
    "import matplotlib.pyplot as plt\n",
    "import numpy as np\n",
    "\n",
    "cylinder = Mesh(\"gmsh/cylinder.msh\")\n",
    "fig, axes = plt.subplots(figsize=[4, 3], subplot_kw={'projection': '3d'})\n",
    "triplot(cylinder, axes=axes)\n",
    "axes.set_aspect('equal')\n",
    "cylinder.topology_dm.view()"
   ]
  },
  {
   "cell_type": "code",
   "execution_count": null,
   "metadata": {},
   "outputs": [],
   "source": [
    "%%px --block\n",
    "import matplotlib.pyplot as plt\n",
    "import numpy as np\n",
    "\n",
    "cylinder = Mesh(\"gmsh/cylinder.msh\")\n",
    "fig, axes = plt.subplots(figsize=[4, 3], subplot_kw={'projection': '3d'})\n",
    "triplot(cylinder, axes=axes)\n",
    "axes.set_aspect('equal')\n",
    "cylinder.topology_dm.view()"
   ]
  },
  {
   "cell_type": "code",
   "execution_count": null,
   "metadata": {},
   "outputs": [],
   "source": [
    "def get_interface_element_include_contact_line(mesh, V, interface_tag, contact_line_tag):\n",
    "    dm = mesh.topology_dm\n",
    "\n",
    "    edge_label = dm.getLabel(\"Edge Sets\")\n",
    "    face_label = dm.getLabel(\"Face Sets\")\n",
    "    core_label = dm.getLabel(\"pyop2_core\")\n",
    "    owned_label = dm.getLabel(\"pyop2_owned\")\n",
    "\n",
    "    edge_label_values = edge_label.getValueIS().indices\n",
    "    contact_line = []\n",
    "    if contact_line_tag in edge_label_values:\n",
    "        contact_line = edge_label.getStratumIS(contact_line_tag).indices\n",
    "\n",
    "    faces = []\n",
    "    for seg in contact_line:\n",
    "        for face in dm.getSupport(seg):\n",
    "            if face_label.getValue(face) == interface_tag and \\\n",
    "                (core_label.getValue(face) == 1 or owned_label.getValue(face) == 1):\n",
    "                faces.append(int(face))\n",
    "                break\n",
    "\n",
    "    plex_cell_node_map = np.zeros((len(faces), 3), dtype=np.int32)\n",
    "    for i, (seg, face) in enumerate(zip(contact_line, faces)):\n",
    "        seg_nodes = dm.getCone(seg)\n",
    "        plex_cell_node_map[i, :2] = seg_nodes \n",
    "        plex_cell_node_map[i, 2:] = np.setdiff1d(\n",
    "            np.unique(np.array([dm.getCone(_) for _ in dm.getCone(face)]).flatten()),\n",
    "            seg_nodes)\n",
    "\n",
    "    local_section = V.global_numbering  # global_numbering is a local section\n",
    "    cell_node_map = np.zeros_like(plex_cell_node_map)\n",
    "    for i, cell in enumerate(plex_cell_node_map):\n",
    "        assert np.all(np.array([local_section.getDof(_) for _ in cell]) > 0)\n",
    "        cell_node_map[i, :] = [local_section.getOffset(_) for _ in cell]\n",
    "\n",
    "    return cell_node_map\n",
    "\n",
    "CONTACT_LINE = 1\n",
    "INTERFACE = 3\n",
    "V = FunctionSpace(cylinder, 'CG', 1)\n",
    "cell_node_map = get_interface_element_include_contact_line(cylinder, V, INTERFACE, CONTACT_LINE)"
   ]
  },
  {
   "cell_type": "code",
   "execution_count": null,
   "metadata": {},
   "outputs": [],
   "source": [
    "%%px --block\n",
    "def get_interface_element_include_contact_line(mesh, V, interface_tag, contact_line_tag):\n",
    "    dm = mesh.topology_dm\n",
    "\n",
    "    edge_label = dm.getLabel(\"Edge Sets\")\n",
    "    face_label = dm.getLabel(\"Face Sets\")\n",
    "    core_label = dm.getLabel(\"pyop2_core\")\n",
    "    owned_label = dm.getLabel(\"pyop2_owned\")\n",
    "\n",
    "    edge_label_values = edge_label.getValueIS().indices\n",
    "    contact_line = []\n",
    "    if contact_line_tag in edge_label_values:\n",
    "        contact_line = edge_label.getStratumIS(contact_line_tag).indices\n",
    "\n",
    "    faces = []\n",
    "    for seg in contact_line:\n",
    "        for face in dm.getSupport(seg):\n",
    "            if face_label.getValue(face) == interface_tag and \\\n",
    "                (core_label.getValue(face) == 1 or owned_label.getValue(face) == 1):\n",
    "                faces.append(int(face))\n",
    "                break\n",
    "\n",
    "    plex_cell_node_map = np.zeros((len(faces), 3), dtype=np.int32)\n",
    "    for i, (seg, face) in enumerate(zip(contact_line, faces)):\n",
    "        seg_nodes = dm.getCone(seg)\n",
    "        plex_cell_node_map[i, :2] = seg_nodes  # set the seg nodes first\n",
    "        plex_cell_node_map[i, 2:] = np.setdiff1d(\n",
    "            np.unique(np.array([dm.getCone(_) for _ in dm.getCone(face)]).flatten()),\n",
    "            seg_nodes)\n",
    "\n",
    "    local_section = V.global_numbering  # global_numbering is a local section\n",
    "    cell_node_map = np.zeros_like(plex_cell_node_map)\n",
    "    for i, cell in enumerate(plex_cell_node_map):\n",
    "        assert np.all(np.array([local_section.getDof(_) for _ in cell]) > 0)\n",
    "        cell_node_map[i, :] = [local_section.getOffset(_) for _ in cell]\n",
    "\n",
    "    return cell_node_map\n",
    "\n",
    "CONTACT_LINE = 1\n",
    "INTERFACE = 3\n",
    "V = FunctionSpace(cylinder, 'CG', 1)\n",
    "cell_node_map = get_interface_element_include_contact_line(cylinder, V, INTERFACE, CONTACT_LINE)"
   ]
  },
  {
   "cell_type": "code",
   "execution_count": null,
   "metadata": {},
   "outputs": [],
   "source": [
    "# plot the triangle to check if they are on the interface\n",
    "coords = cylinder.coordinates.dat.data_ro_with_halos\n",
    "if len(cell_node_map) > 0:\n",
    "    assert np.allclose(coords[:, 2][cell_node_map], 0.25)\n",
    "    fig, axes = plt.subplots(figsize=[4, 3])\n",
    "    c = axes.triplot(coords[:, 0], coords[:, 1], triangles=cell_node_map)\n",
    "    lines = [[(coords[_, 0], coords[_, 1]) for _ in __[:2] ] for __ in cell_node_map]\n",
    "    from matplotlib.collections import LineCollection\n",
    "    line_collection = LineCollection(lines, colors='k', linestyles=':')\n",
    "    axes.add_collection(line_collection)\n",
    "    axes.set_xlim([-0.52, 0.52])\n",
    "    axes.set_ylim([-0.52, 0.52])\n",
    "    axes.set_aspect(\"equal\")\n",
    "    axes.grid(\"on\")"
   ]
  },
  {
   "cell_type": "code",
   "execution_count": null,
   "metadata": {},
   "outputs": [],
   "source": [
    "%%px --block\n",
    "# plot the triangle to check if they are on the interface\n",
    "coords = cylinder.coordinates.dat.data_ro_with_halos\n",
    "if len(cell_node_map) > 0:\n",
    "    assert np.allclose(coords[:, 2][cell_node_map], 0.25)\n",
    "    fig, axes = plt.subplots(figsize=[4, 3])\n",
    "    c = axes.triplot(coords[:, 0], coords[:, 1], triangles=cell_node_map)\n",
    "    lines = [[(coords[_, 0], coords[_, 1]) for _ in __[:2] ] for __ in cell_node_map]\n",
    "    from matplotlib.collections import LineCollection\n",
    "    line_collection = LineCollection(lines, colors='k', linestyles=':')\n",
    "    axes.add_collection(line_collection)\n",
    "    axes.set_xlim([-0.52, 0.52])\n",
    "    axes.set_ylim([-0.52, 0.52])\n",
    "    axes.set_aspect(\"equal\")\n",
    "    axes.grid(\"on\")"
   ]
  }
 ],
 "metadata": {
  "language_info": {
   "name": "python"
  }
 },
 "nbformat": 4,
 "nbformat_minor": 2
}
