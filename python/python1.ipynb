{
 "cells": [
  {
   "cell_type": "markdown",
   "id": "d56e31c6-7e76-4a8c-a4bd-ab14d338a385",
   "metadata": {},
   "source": [
    "# Data types"
   ]
  },
  {
   "cell_type": "markdown",
   "id": "51c125e8-1d3c-4583-b4fe-ea15b8ff5101",
   "metadata": {},
   "source": [
    "## tuple\n",
    "\n",
    "### create\n",
    "```\n",
    "a = tuple(range(10))\n",
    "```\n",
    "\n",
    "### slice\n",
    "\n",
    "`a[start:end:step]`"
   ]
  },
  {
   "cell_type": "markdown",
   "id": "b0c163dd-fd9c-4ede-8045-636e749c3ad9",
   "metadata": {},
   "source": [
    "## list\n",
    "\n",
    "### create\n",
    "```\n",
    "a = [i for i in range(10)]\n",
    "b = list((1, 2, 3, 4))\n",
    "```\n",
    "### slice\n",
    "\n",
    "`a[start:end:step]`\n",
    "\n",
    "```\n",
    "a[::2]\n",
    "a[1:3]\n",
    "a[:3]\n",
    "a[-2:]\n",
    "```"
   ]
  },
  {
   "cell_type": "markdown",
   "id": "cf78f0c9-002b-4bbe-8988-774569d9bc97",
   "metadata": {},
   "source": [
    "## dict"
   ]
  },
  {
   "cell_type": "markdown",
   "id": "8a3e0550-0303-428c-a073-aa4ad2aac5ec",
   "metadata": {},
   "source": [
    "### create\n",
    "```\n",
    "a = {'name': 'Yang Zongze', 'id': 1234, 'department': 'AMA'}\n",
    "```\n",
    "\n",
    "### get item\n",
    "```\n",
    "a['name']\n",
    "a.get('age', 30)\n",
    "```\n",
    "\n",
    "```\n",
    "for k, v in a.items():\n",
    "    print(k, v)\n",
    "```"
   ]
  },
  {
   "cell_type": "code",
   "execution_count": null,
   "id": "375fbe5c-ad3a-4731-ac62-e9147638c933",
   "metadata": {},
   "outputs": [],
   "source": [
    "a = {'name': 'Yang Zongze', 'id': 1234, 'department': 'AMA'}\n",
    "for k, v in a.items():\n",
    "    print(k, v)"
   ]
  },
  {
   "cell_type": "markdown",
   "id": "4bf89a88-9955-4174-8e75-bc463684577b",
   "metadata": {},
   "source": [
    "# Builtin functions\n",
    "\n",
    "## `map`"
   ]
  },
  {
   "cell_type": "code",
   "execution_count": null,
   "id": "fbf23162-437b-40d7-9e45-2c71556dbfa4",
   "metadata": {
    "tags": []
   },
   "outputs": [],
   "source": [
    "s = map(lambda x, y: x+y, [1, 2, 3], [4, 5, 6])\n",
    "for i in s:\n",
    "    print(i)"
   ]
  },
  {
   "cell_type": "markdown",
   "id": "c2f663c6-4e87-4146-9c61-ea97ef5d25df",
   "metadata": {
    "tags": []
   },
   "source": [
    "## `reduce`"
   ]
  },
  {
   "cell_type": "code",
   "execution_count": null,
   "id": "10ed2ed6-c773-44b2-91d4-5055a1404cab",
   "metadata": {
    "tags": []
   },
   "outputs": [],
   "source": [
    "from functools import reduce\n",
    "from operator import add, mul\n",
    "from math import sin\n",
    "\n",
    "# reduce(lambda x, y: x+y, [1, 2, 3, 4, 5])\n",
    "\n",
    "# sin(1)*sin(2)*sin(3)\n",
    "reduce(mul, map(sin, [1, 2, 3]))"
   ]
  },
  {
   "cell_type": "markdown",
   "id": "c01f2c0c-6d1e-4880-a4a7-34063da2b92c",
   "metadata": {},
   "source": [
    "# GC\n",
    "\n"
   ]
  },
  {
   "cell_type": "markdown",
   "id": "65c72948-ea6a-425b-9015-92f7274c9ea8",
   "metadata": {
    "tags": []
   },
   "source": [
    "Ref:\n",
    "\n",
    "1. https://devguide.python.org/internals/garbage-collector/index.html\n",
    "1. https://jakevdp.github.io/blog/2014/05/09/why-python-is-slow/\n",
    "2. https://zhuanlan.zhihu.com/p/295062531"
   ]
  },
  {
   "cell_type": "code",
   "execution_count": null,
   "id": "eaebdb96-f709-4ef1-8da3-d5aef2d5352b",
   "metadata": {
    "tags": []
   },
   "outputs": [],
   "source": [
    "# WARNNG: never do this!\n",
    "\n",
    "import ctypes\n",
    "\n",
    "class IntStruct(ctypes.Structure):\n",
    "    _fields_ = [(\"ob_refcnt\", ctypes.c_long),\n",
    "                (\"ob_type\", ctypes.c_void_p),\n",
    "                (\"ob_size\", ctypes.c_ulong),\n",
    "                (\"ob_digit\", ctypes.c_long)]\n",
    "    \n",
    "    def __repr__(self):\n",
    "        return (\"IntStruct(ob_digit={self.ob_digit}, \"\n",
    "                \"refcount={self.ob_refcnt})\").format(self=self)\n",
    "\n",
    "c113 = ctypes.c_long(113)\n",
    "iptr = IntStruct.from_address(id(113))\n",
    "print(f\"113 == 4 is {113 == 4}\")\n",
    "print(f\"id(4) = {id(4)}, id(113) = {id(113)}\")\n",
    "\n",
    "# be careful, remember restore the value, or restart the interpreter\n",
    "iptr.ob_digit = 4  # now Python's 113 contains a 4!\n",
    "print(f\"113 == 4 is {113 == 4}\")\n",
    "print(f\"id(4) = {id(4)}, id(113) = {id(113)}\")\n",
    "\n",
    "# restore the value\n",
    "iptr.ob_digit = c113\n",
    "print(f\"113 == 4 is {113 == 4}\")\n",
    "print(f\"id(4) = {id(4)}, id(113) = {id(113)}\")"
   ]
  },
  {
   "cell_type": "code",
   "execution_count": null,
   "id": "af104663",
   "metadata": {},
   "outputs": [],
   "source": [
    "import numpy"
   ]
  },
  {
   "cell_type": "markdown",
   "id": "08360b0b-7ddc-482b-a211-5ebbbf106c4b",
   "metadata": {
    "tags": []
   },
   "source": [
    "## `id`"
   ]
  },
  {
   "cell_type": "code",
   "execution_count": null,
   "id": "bebafd9d-6b36-4fb5-862c-d320b85c1c77",
   "metadata": {
    "tags": []
   },
   "outputs": [],
   "source": [
    "str1_addr = id('abc')\n",
    "str2_addr = id('abc')"
   ]
  },
  {
   "cell_type": "code",
   "execution_count": null,
   "id": "ae451910-e2d6-4b29-9e14-28a4fcdfe9ec",
   "metadata": {
    "tags": []
   },
   "outputs": [],
   "source": [
    "print(f\"str1 addr: {str1_addr}, str2 addr: {str2_addr}\")\n",
    "str1_addr == str2_addr"
   ]
  },
  {
   "cell_type": "code",
   "execution_count": null,
   "id": "275a3bd1-6295-4228-a0e6-39a20b148f80",
   "metadata": {
    "tags": []
   },
   "outputs": [],
   "source": [
    "import ctypes\n",
    "import gc\n",
    "gc.disable()\n",
    "\n",
    "class Object(ctypes.Structure):\n",
    "    _fields_ = [(\"ob_refcnt\", ctypes.c_long)]"
   ]
  },
  {
   "cell_type": "code",
   "execution_count": null,
   "id": "08dd4812-48d1-432b-a093-578cd20a34ac",
   "metadata": {
    "tags": []
   },
   "outputs": [],
   "source": [
    "l = []\n",
    "l.append(l)"
   ]
  },
  {
   "cell_type": "code",
   "execution_count": null,
   "id": "ea9450e8-7363-4c29-8352-2c2e71b4eafc",
   "metadata": {
    "tags": []
   },
   "outputs": [],
   "source": [
    "l_addr = id(l)"
   ]
  },
  {
   "cell_type": "code",
   "execution_count": null,
   "id": "4a679718-3ed0-46cc-8f45-f39ff1c08449",
   "metadata": {
    "tags": []
   },
   "outputs": [],
   "source": [
    "l_addr"
   ]
  },
  {
   "cell_type": "code",
   "execution_count": null,
   "id": "ea28619d-274c-416e-82c7-a311ea459ded",
   "metadata": {
    "tags": []
   },
   "outputs": [],
   "source": [
    "del l"
   ]
  },
  {
   "cell_type": "code",
   "execution_count": null,
   "id": "b2310f42-703d-424f-a1a4-dec2495c70d4",
   "metadata": {
    "tags": []
   },
   "outputs": [],
   "source": [
    "Object.from_address(l_addr).ob_refcnt"
   ]
  },
  {
   "cell_type": "markdown",
   "id": "b91757bc-35a6-444d-a291-0017eb856056",
   "metadata": {},
   "source": [
    "# Packages in Python"
   ]
  },
  {
   "cell_type": "markdown",
   "id": "95dd0f3a-cdb9-4c54-a2e1-e12dee13730c",
   "metadata": {},
   "source": [
    "## os, sys"
   ]
  },
  {
   "cell_type": "code",
   "execution_count": null,
   "id": "a146bdab-19a7-4c14-8568-94d5747f5d8f",
   "metadata": {},
   "outputs": [],
   "source": [
    "import os\n",
    "import sys\n",
    "\n",
    "# walk\n",
    "# path\n",
    "# join\n",
    "for pth, dirs, files in os.walk('.'):\n",
    "    print(pth, dirs, files)\n",
    "    break"
   ]
  },
  {
   "cell_type": "markdown",
   "id": "cac5b22c-c563-41e4-ac13-e58be537af37",
   "metadata": {},
   "source": [
    "## signal"
   ]
  },
  {
   "cell_type": "code",
   "execution_count": null,
   "id": "38397675-f1e6-4073-b6cc-7d051aa5177a",
   "metadata": {},
   "outputs": [],
   "source": [
    "import signal\n",
    "from time import sleep\n",
    "\n",
    "gframe = None\n",
    "def handler(sig_num, frame):\n",
    "    global gframe\n",
    "    print('Sig received with number %d'%sig_num)\n",
    "    gframe = frame\n",
    "\n",
    "signal.signal(signal.SIGINT, handler)\n",
    "\n",
    "print('Start ...')\n",
    "signal.raise_signal(2)\n",
    "print('End ...')"
   ]
  },
  {
   "cell_type": "code",
   "execution_count": null,
   "id": "c1eebc0a-03cc-42ae-92c5-ab862b7f844e",
   "metadata": {},
   "outputs": [],
   "source": [
    "gframe"
   ]
  },
  {
   "cell_type": "markdown",
   "id": "2111b38d-c9f9-404c-b942-eef28ef7afb7",
   "metadata": {},
   "source": [
    "## ipyparallel\n",
    "\n",
    "TODO"
   ]
  },
  {
   "cell_type": "markdown",
   "id": "729a4d35-44ca-49fd-a344-20d470f31b9d",
   "metadata": {
    "tags": []
   },
   "source": [
    "## numpy"
   ]
  },
  {
   "cell_type": "code",
   "execution_count": null,
   "id": "bd93f173",
   "metadata": {},
   "outputs": [],
   "source": [
    "import numpy as np"
   ]
  },
  {
   "cell_type": "code",
   "execution_count": null,
   "id": "0f167f3e-3d2b-4eec-abfb-6bccf2d57d06",
   "metadata": {},
   "outputs": [],
   "source": [
    "np.isinf(np.inf) or np.isnan"
   ]
  },
  {
   "cell_type": "markdown",
   "id": "38907668-299a-4b5b-b6ad-54d6c0c41d54",
   "metadata": {
    "tags": []
   },
   "source": [
    "## psutil"
   ]
  },
  {
   "cell_type": "code",
   "execution_count": null,
   "id": "f70cd080-bb57-4b6a-bb33-f12279638ec6",
   "metadata": {},
   "outputs": [],
   "source": [
    "import os\n",
    "import psutil\n",
    "pid = os.getpid()\n",
    "python_process = psutil.Process(pid)\n",
    "memoryUse = python_process.memory_info()"
   ]
  },
  {
   "cell_type": "code",
   "execution_count": null,
   "id": "3aa418bc-263b-401e-adf7-a7a6dc9c0d51",
   "metadata": {},
   "outputs": [],
   "source": [
    "memoryUse"
   ]
  },
  {
   "cell_type": "markdown",
   "id": "4848dac3-0142-4156-a9ec-affb2c7ed1d9",
   "metadata": {},
   "source": [
    "## Json\n",
    "\n",
    "```python\n",
    "import base64\n",
    "import json\n",
    "import numpy as np\n",
    "\n",
    "class MyEncoder(json.JSONEncoder):\n",
    "    def default(self, obj):\n",
    "        if isinstance(obj, complex):\n",
    "            return str(obj)\n",
    "        \n",
    "        return json.JSONEncoder(self, obj)\n",
    "\n",
    "json._default_encoder = MyEncoder()\n",
    "```"
   ]
  },
  {
   "cell_type": "markdown",
   "id": "c15bd4be-8da1-4541-84ac-3ab7ce2fbfb1",
   "metadata": {},
   "source": [
    "# Onedrive API"
   ]
  },
  {
   "cell_type": "markdown",
   "id": "2f8c50ab-34f3-4915-aad9-2918bc8dac84",
   "metadata": {},
   "source": [
    "## Download from onedrive"
   ]
  },
  {
   "cell_type": "code",
   "execution_count": null,
   "id": "d8117843-4dc7-4cd0-89c6-472c4c30d104",
   "metadata": {},
   "outputs": [],
   "source": [
    "share_url = 'https://1drv.ms/u/s!Au1wcoQGYu6djJofAu3qVd577D-xgg?e=wASCui'"
   ]
  },
  {
   "cell_type": "code",
   "execution_count": null,
   "id": "9f2ebb55-1465-4a22-a6ad-1605f3ccf2f8",
   "metadata": {},
   "outputs": [],
   "source": [
    "import base64\n",
    "def create_onedrive_directdownload (onedrive_link):\n",
    "    data_bytes64 = base64.b64encode(bytes(onedrive_link, 'utf-8'))\n",
    "    data_bytes64_String = data_bytes64.decode('utf-8').replace('/','_').replace('+','-').rstrip(\"=\")\n",
    "    resultUrl = f\"https://api.onedrive.com/v1.0/shares/u!{data_bytes64_String}/root/content\"\n",
    "    return resultUrl"
   ]
  },
  {
   "cell_type": "code",
   "execution_count": null,
   "id": "5f41279d-e8ec-4907-96dc-f9d457de5a66",
   "metadata": {},
   "outputs": [],
   "source": [
    "create_onedrive_directdownload(share_url)"
   ]
  },
  {
   "cell_type": "markdown",
   "id": "1baedfc6-a30a-4c86-bf96-a161706172f4",
   "metadata": {},
   "source": [
    "## Uploader"
   ]
  },
  {
   "cell_type": "code",
   "execution_count": null,
   "id": "8d4771fa-02ed-4c14-bc96-3364938541bf",
   "metadata": {
    "tags": []
   },
   "outputs": [],
   "source": [
    "# file: uploader\n",
    "import os\n",
    "import requests\n",
    "import tqdm\n",
    "import click\n",
    "\n",
    "# Here, we get the token from https://developer.microsoft.com/en-us/graph/graph-explorer\n",
    "# and save it in file access_token\n",
    "# TODO: get the token automaticly.\n",
    "def load_access_token(path=None):\n",
    "    if path is None:\n",
    "        path = os.getcwd()\n",
    "    with open(os.path.join(path, \"access_token\"), \"r\") as f:\n",
    "        access_token = f.readline().strip('\\n')\n",
    "\n",
    "    return access_token\n",
    "\n",
    "\n",
    "def upload(file_to_upload, file_name, access_token, unit=1):\n",
    "    local_name = file_to_upload\n",
    "\n",
    "    if file_name is None:\n",
    "        file_name = os.path.basename(local_name)\n",
    "\n",
    "\n",
    "    request_body = {\n",
    "    }\n",
    "\n",
    "    base_url = \"https://graph.microsoft.com/v1.0\"\n",
    "    # folder_id = \"01VGN2QX6TWD75CHGPGRG2UCZAOOHFOKEM\"\n",
    "\n",
    "    url_put = base_url + f\"/me/drive/root:/{file_name}:/createUploadSession\"\n",
    "\n",
    "    headers = {\n",
    "        \"Authorization\": \"Bearer \" + access_token\n",
    "    }\n",
    "\n",
    "    response_upload_session = requests.post(\n",
    "        url_put, headers=headers, json=request_body\n",
    "    )\n",
    "\n",
    "    try:\n",
    "        upload_url = response_upload_session.json()['uploadUrl']\n",
    "    except Exception as e:\n",
    "        raise e\n",
    "\n",
    "    with open(local_name, \"rb\") as upload:\n",
    "        total_file_size = os.path.getsize(local_name)\n",
    "        chunk_size = 327680*unit\n",
    "        chunk_number = total_file_size // chunk_size\n",
    "        chunk_leftover = total_file_size - chunk_size * chunk_number\n",
    "        counter = 0\n",
    "        \n",
    "        bar = tqdm.tqdm(total=chunk_number + 1, \n",
    "                        desc=\"upload\")\n",
    "\n",
    "        while True:\n",
    "            chunk_data = upload.read(chunk_size)\n",
    "            start_index = counter * chunk_size\n",
    "            end_index = start_index + chunk_size\n",
    "\n",
    "            if not chunk_data:\n",
    "                break\n",
    "\n",
    "            if counter == chunk_number:\n",
    "                end_index = start_index + chunk_leftover\n",
    "\n",
    "            upload_headers = {\n",
    "                \"Content-Length\": f'{chunk_size}',\n",
    "                \"Content-Range\": f'bytes {start_index}-{end_index-1}/{total_file_size}'\n",
    "            }\n",
    "\n",
    "            chunk_data_upload_status = requests.put(\n",
    "                upload_url, \n",
    "                headers=upload_headers,\n",
    "                data=chunk_data)\n",
    "            # print('Upload Progress: {0}'.format(chunk_data_upload_status.json()['nextExpectedRanges']))\n",
    "            bar.update()\n",
    "\n",
    "            counter += 1\n",
    "        bar.close()\n",
    "        \n",
    "    requests.delete(upload_url)\n",
    "\n",
    "\n",
    "@click.command()\n",
    "@click.option('--token_path', default=None, help='access_token path')\n",
    "@click.option('--unit', default=16, help='access_token path')\n",
    "@click.option('--name', default=None, help='remote file name')\n",
    "@click.argument('file_to_upload')\n",
    "def main(file_to_upload, name, token_path, unit):\n",
    "    token = load_access_token(token_path)\n",
    "    print(token)\n",
    "    upload(file_to_upload, name, token, unit)\n",
    "\n",
    "# if __name__ == '__main__':\n",
    "#     main()"
   ]
  },
  {
   "cell_type": "markdown",
   "id": "103a1417-3527-42b0-817c-db355ed0c79e",
   "metadata": {},
   "source": [
    "# Jupyter notes"
   ]
  },
  {
   "cell_type": "markdown",
   "id": "c191b167-78f9-41ea-bae5-169797f337b0",
   "metadata": {},
   "source": [
    "## Creating Custom Templates for nbconvert\n",
    "\n",
    "https://nbconvert.readthedocs.io/en/latest/customizing.html"
   ]
  }
 ],
 "metadata": {
  "language_info": {
   "name": "python"
  }
 },
 "nbformat": 4,
 "nbformat_minor": 5
}
