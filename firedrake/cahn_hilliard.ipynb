{
 "cells": [
  {
   "attachments": {},
   "cell_type": "markdown",
   "metadata": {},
   "source": [
    "# Cahn–Hilliard 方程"
   ]
  },
  {
   "cell_type": "markdown",
   "metadata": {},
   "source": [
    "## 算子分裂方法\n",
    "\n",
    "TODO Add more details\n",
    "\n",
    "file: [py/cahn_hilliard.py](py/cahn_hilliard.py)"
   ]
  },
  {
   "cell_type": "code",
   "execution_count": null,
   "metadata": {},
   "outputs": [],
   "source": [
    "import os\n",
    "os.environ[\"OMP_NUM_THREADS\"]= \"1\"\n",
    "\n",
    "from firedrake import *\n",
    "from firedrake.petsc import PETSc\n",
    "import matplotlib.pyplot as plt"
   ]
  },
  {
   "cell_type": "code",
   "execution_count": null,
   "metadata": {},
   "outputs": [],
   "source": [
    "opts = PETSc.Options()\n",
    "degree = opts.getInt('degree', default=1)\n",
    "N = opts.getInt('N', default=64)\n",
    "M = opts.getInt('M', default=1024)  # M = 1600\n",
    "tau = opts.getReal('tau', default=2**(-13))\n",
    "epsilon = opts.getReal('epsilon', default=0.05)\n",
    "periodic = opts.getBool('periodic', default=True)\n",
    "\n",
    "dt = Constant(tau)"
   ]
  },
  {
   "cell_type": "code",
   "execution_count": null,
   "metadata": {},
   "outputs": [],
   "source": [
    "if periodic:\n",
    "    filename = 'pvd/test_ch_periodic.pvd'\n",
    "    mesh = PeriodicRectangleMesh(N, N, 2, 2)\n",
    "else:\n",
    "    filename = 'pvd/test_ch_neumann.pvd'\n",
    "    mesh = RectangleMesh(N, N, 2, 2)\n",
    "\n",
    "mesh.coordinates.dat.data[:] = mesh.coordinates.dat.data_ro - 1"
   ]
  },
  {
   "cell_type": "code",
   "execution_count": null,
   "metadata": {},
   "outputs": [],
   "source": [
    "V = FunctionSpace(mesh, 'CG', degree)\n",
    "W = V*V\n",
    "v, v_test = Function(W), TestFunction(W)\n",
    "u, w = split(v)\n",
    "u_test, w_test = split(v_test)\n",
    "\n",
    "vn = Function(W)\n",
    "un, wn = vn.subfunctions\n",
    "un.rename('u')\n",
    "wn.rename('w')"
   ]
  },
  {
   "cell_type": "code",
   "execution_count": null,
   "metadata": {},
   "outputs": [],
   "source": [
    "t = 0\n",
    "x, y = SpatialCoordinate(mesh)\n",
    "u0 = 0.05*cos(2*pi*x)*cos(2*pi*y)\n",
    "un.interpolate(u0)"
   ]
  },
  {
   "cell_type": "code",
   "execution_count": null,
   "metadata": {},
   "outputs": [],
   "source": [
    "# plot init value\n",
    "# colorbar: \n",
    "#   https://matplotlib.org/stable/gallery/images_contours_and_fields/contourf_demo.html\n",
    "fig, ax = plt.subplots(figsize=[5, 4])\n",
    "cs = tricontourf(un, axes=ax)\n",
    "cbar = fig.colorbar(cs)\n",
    "cbar.ax.set_ylabel('Density')"
   ]
  },
  {
   "attachments": {},
   "cell_type": "markdown",
   "metadata": {},
   "source": [
    "定义变分形式和非线性求解器"
   ]
  },
  {
   "cell_type": "code",
   "execution_count": null,
   "metadata": {},
   "outputs": [],
   "source": [
    "def f_plus(u):\n",
    "    return u**3\n",
    "\n",
    "def f_minus(u):\n",
    "    return u"
   ]
  },
  {
   "cell_type": "code",
   "execution_count": null,
   "metadata": {},
   "outputs": [],
   "source": [
    "a = 1/dt*inner(u - un, u_test)*dx + inner(grad(w), grad(u_test))*dx \\\n",
    "    + inner(w, w_test)*dx - epsilon**2*inner(grad(u), grad(w_test))*dx \\\n",
    "    - inner(f_plus(u) - f_minus(un), w_test)*dx\n",
    "\n",
    "prob = NonlinearVariationalProblem(a, v)\n",
    "solver = NonlinearVariationalSolver(prob,\n",
    "                                    options_prefix=\"ch\",\n",
    "                                    # solver_parameters={'snes_monitor': None, 'snes_view': None}\n",
    "                                    )"
   ]
  },
  {
   "cell_type": "code",
   "execution_count": null,
   "metadata": {},
   "outputs": [],
   "source": [
    "PETSc.Sys.Print(f'Will save result in {filename}')\n",
    "output = VTKFile(filename)\n",
    "output.write(un, wn, time=t)"
   ]
  },
  {
   "attachments": {},
   "cell_type": "markdown",
   "metadata": {},
   "source": [
    "时间层循环"
   ]
  },
  {
   "cell_type": "code",
   "execution_count": null,
   "metadata": {},
   "outputs": [],
   "source": [
    "for i in range(M):\n",
    "    t = (i+1)*tau\n",
    "    solver.solve()\n",
    "    \n",
    "    vn.assign(v)\n",
    "    if (i+1)%100 == 0:\n",
    "        output.write(un, wn, time=t)"
   ]
  },
  {
   "cell_type": "code",
   "execution_count": null,
   "metadata": {},
   "outputs": [],
   "source": [
    "fig, ax = plt.subplots(figsize=[5, 4])\n",
    "cs = tricontourf(un, axes=ax)\n",
    "cbar = fig.colorbar(cs)\n",
    "cbar.ax.set_ylabel('Density')\n",
    "ax.set_title(f'T = {M*tau}')"
   ]
  },
  {
   "cell_type": "markdown",
   "metadata": {},
   "source": [
    "## Second order method"
   ]
  },
  {
   "cell_type": "code",
   "execution_count": null,
   "metadata": {},
   "outputs": [],
   "source": []
  }
 ],
 "metadata": {
  "language_info": {
   "name": "python"
  }
 },
 "nbformat": 4,
 "nbformat_minor": 2
}
