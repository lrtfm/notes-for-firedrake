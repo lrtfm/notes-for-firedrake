{
 "cells": [
  {
   "cell_type": "markdown",
   "id": "d56e31c6-7e76-4a8c-a4bd-ab14d338a385",
   "metadata": {},
   "source": [
    "# Data types"
   ]
  },
  {
   "cell_type": "markdown",
   "id": "51c125e8-1d3c-4583-b4fe-ea15b8ff5101",
   "metadata": {},
   "source": [
    "## tuple\n",
    "\n",
    "### create\n",
    "```\n",
    "a = tuple(range(10))\n",
    "```\n",
    "\n",
    "### slice\n",
    "\n",
    "`a[start:end:step]`"
   ]
  },
  {
   "cell_type": "markdown",
   "id": "b0c163dd-fd9c-4ede-8045-636e749c3ad9",
   "metadata": {},
   "source": [
    "## list\n",
    "\n",
    "### create\n",
    "```\n",
    "a = [i for i in range(10)]\n",
    "b = list((1, 2, 3, 4))\n",
    "```\n",
    "### slice\n",
    "\n",
    "`a[start:end:step]`\n",
    "\n",
    "```\n",
    "a[::2]\n",
    "a[1:3]\n",
    "a[:3]\n",
    "a[-2:]\n",
    "```"
   ]
  },
  {
   "cell_type": "markdown",
   "id": "cf78f0c9-002b-4bbe-8988-774569d9bc97",
   "metadata": {},
   "source": [
    "## dict"
   ]
  },
  {
   "cell_type": "markdown",
   "id": "8a3e0550-0303-428c-a073-aa4ad2aac5ec",
   "metadata": {},
   "source": [
    "### create\n",
    "```\n",
    "a = {'name': 'Yang Zongze', 'id': 1234, 'department': 'AMA'}\n",
    "```\n",
    "\n",
    "### get item\n",
    "```\n",
    "a['name']\n",
    "a.get('age', 30)\n",
    "```\n",
    "\n",
    "```\n",
    "for k, v in a.items():\n",
    "    print(k, v)\n",
    "```"
   ]
  },
  {
   "cell_type": "code",
   "execution_count": 6,
   "id": "375fbe5c-ad3a-4731-ac62-e9147638c933",
   "metadata": {},
   "outputs": [
    {
     "name": "stdout",
     "output_type": "stream",
     "text": [
      "name Yang Zongze\n",
      "id 1234\n",
      "department AMA\n"
     ]
    }
   ],
   "source": [
    "a = {'name': 'Yang Zongze', 'id': 1234, 'department': 'AMA'}\n",
    "for k, v in a.items():\n",
    "    print(k, v)"
   ]
  },
  {
   "cell_type": "markdown",
   "id": "b91757bc-35a6-444d-a291-0017eb856056",
   "metadata": {},
   "source": [
    "# Packages in Python"
   ]
  },
  {
   "cell_type": "markdown",
   "id": "cac5b22c-c563-41e4-ac13-e58be537af37",
   "metadata": {},
   "source": [
    "## signal"
   ]
  },
  {
   "cell_type": "code",
   "execution_count": 18,
   "id": "38397675-f1e6-4073-b6cc-7d051aa5177a",
   "metadata": {},
   "outputs": [
    {
     "name": "stdout",
     "output_type": "stream",
     "text": [
      "Start ...\n",
      "Sig received with number 2\n",
      "End ...\n"
     ]
    }
   ],
   "source": [
    "import signal\n",
    "from time import sleep\n",
    "\n",
    "gframe = None\n",
    "def handler(sig_num, frame):\n",
    "    global gframe\n",
    "    print('Sig received with number %d'%sig_num)\n",
    "    gframe = frame\n",
    "\n",
    "signal.signal(signal.SIGINT, handler)\n",
    "\n",
    "print('Start ...')\n",
    "signal.raise_signal(2)\n",
    "print('End ...')"
   ]
  },
  {
   "cell_type": "code",
   "execution_count": 19,
   "id": "c1eebc0a-03cc-42ae-92c5-ab862b7f844e",
   "metadata": {},
   "outputs": [
    {
     "data": {
      "text/plain": [
       "<frame at 0x218ff90, file '/tmp/ipykernel_1747/3869011539.py', line 13, code <cell line: 13>>"
      ]
     },
     "execution_count": 19,
     "metadata": {},
     "output_type": "execute_result"
    }
   ],
   "source": [
    "gframe"
   ]
  },
  {
   "cell_type": "markdown",
   "id": "2111b38d-c9f9-404c-b942-eef28ef7afb7",
   "metadata": {},
   "source": [
    "## ipyparallel"
   ]
  },
  {
   "cell_type": "code",
   "execution_count": null,
   "id": "d60c9845-018b-4c79-8e0d-622bdef82e7d",
   "metadata": {},
   "outputs": [],
   "source": []
  }
 ],
 "metadata": {
  "kernelspec": {
   "display_name": "Python 3 (ipykernel)",
   "language": "python",
   "name": "python3"
  },
  "language_info": {
   "codemirror_mode": {
    "name": "ipython",
    "version": 3
   },
   "file_extension": ".py",
   "mimetype": "text/x-python",
   "name": "python",
   "nbconvert_exporter": "python",
   "pygments_lexer": "ipython3",
   "version": "3.8.10"
  },
  "toc-autonumbering": true
 },
 "nbformat": 4,
 "nbformat_minor": 5
}
