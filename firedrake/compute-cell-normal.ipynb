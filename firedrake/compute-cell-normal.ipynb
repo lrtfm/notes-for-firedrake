{
 "cells": [
  {
   "cell_type": "markdown",
   "id": "02a6c48f-bc75-4d86-9cfc-501383aab17f",
   "metadata": {},
   "source": [
    "# Several ways to get the normal vectors on nodes of a mesh\n",
    "\n",
    "I would like to use the normal vector on nodes(dofs) of the mesh. But we only know the normal vector for the cell of mesh.\n",
    "The normal vector on the nodes is undefined (multi-value). Here are some ways to obtian it.\n",
    "\n",
    "1. By the expression of the surface if we know it\n",
    "    \n",
    "   Just project the mesh points to the surface, and compute the normal vector.\n",
    "   \n",
    "2. Compute the curvature of the mesh, and then normalize it.\n",
    "\n",
    "3. Interpolat or project the cell nomal to nodes.\n",
    "\n",
    "    In Firedrake, we can use `CellNormal` which is a ufl object.\n",
    "    \n",
    "4. Weight average of the cell normal   # TODO\n",
    "\n",
    "5. Recovery from the mesh  # TODO\n",
    "   \n",
    "   Fit a local polynomial surface to the patch including the nodes, and use the normal of the polynomial surface.\n",
    "\n",
    "**Q1: Should be 3 and 4 classed into one category?**  \n",
    "**Q2: Which one will give the more accuray results?**"
   ]
  },
  {
   "cell_type": "code",
   "execution_count": null,
   "id": "487e0fe7-a2d3-4403-8c5e-9ff5f7b523c4",
   "metadata": {},
   "outputs": [],
   "source": [
    "from firedrake import *\n",
    "import matplotlib.pyplot as plt\n",
    "\n",
    "order = 2\n",
    "refinement_level = 2\n",
    "domain = IcosahedralSphereMesh(radius=6371, refinement_level=refinement_level, degree=order)\n",
    "domain.init_cell_orientations(SpatialCoordinate(domain))\n",
    "\n",
    "def get_error_max(fun1, fun2):\n",
    "    data1 = fun1.dat.data\n",
    "    data2 = fun2.dat.data\n",
    "    err = data1 - data2\n",
    "    v = [sqrt(__) for __ in sum([err[:, _]**2 for _ in range(0, 3)]) ]\n",
    "    return max(v), err\n",
    "\n",
    "def get_vector_norm(fun):\n",
    "    data = fun.dat.data\n",
    "    v = [sqrt(__) for __ in sum([data[:, _]**2 for _ in range(0, 3)]) ]\n",
    "    return v\n",
    "\n",
    "def get_vector_norm_minus_one(fun):\n",
    "    data = fun.dat.data\n",
    "    v = [sqrt(__) - 1 for __ in sum([data[:, _]**2 for _ in range(0, 3)]) ]\n",
    "    return v\n",
    "\n",
    "# normalize vector function\n",
    "def normalize_vfun(k_h, name=None):\n",
    "    k_hat = k_h/sqrt(k_h[0]**2 + k_h[1]**2+k_h[2]**2)\n",
    "    k_new = Function(k_h.function_space(), name=name)\n",
    "    k_new.interpolate(k_hat)\n",
    "    return k_new\n",
    "\n",
    "def plot_3d_2d(fun, vec):\n",
    "    plt.figure(figsize=(12, 4))\n",
    "    ax1 = plt.subplot(1, 2, 1, projection='3d')\n",
    "    trisurf(fun, axes=ax1)\n",
    "    ax2 = plt.subplot(1, 2, 2)\n",
    "    ax2.plot(vec)"
   ]
  },
  {
   "cell_type": "markdown",
   "id": "adeab13f-7505-4ea6-a00d-b37bbefbf7b9",
   "metadata": {},
   "source": [
    "## By the expression of the surface"
   ]
  },
  {
   "cell_type": "code",
   "execution_count": null,
   "id": "b1c60c13-1b71-45a5-88e7-5d7d1715d332",
   "metadata": {},
   "outputs": [],
   "source": [
    "x, y, z = SpatialCoordinate(domain)\n",
    "r = sqrt(x**2 + y**2+z**2)\n",
    "k_expr = as_vector((x/r, y/r, z/r))   # we can use this in the variational form."
   ]
  },
  {
   "cell_type": "code",
   "execution_count": null,
   "id": "b9b1c509-e79b-406d-8c14-320d5011c933",
   "metadata": {
    "tags": []
   },
   "outputs": [],
   "source": [
    "# to plot `k`, we should interpolate it to some space\n",
    "V_k = VectorFunctionSpace(domain, \"CG\", order)\n",
    "k_inter_from_expr = Function(V_k, name='k_inter_from_expr')\n",
    "k_inter_from_expr.interpolate(k_expr)\n",
    "# k_h_norm = get_vector_norm(k_h)\n",
    "k_inter_from_expr_norm_minus_one = get_vector_norm_minus_one(k_inter_from_expr)\n",
    "\n",
    "plot_3d_2d(k_inter_from_expr, k_inter_from_expr_norm_minus_one)"
   ]
  },
  {
   "cell_type": "markdown",
   "id": "507c7e0c-04ff-4e45-9207-24149a6c6c39",
   "metadata": {},
   "source": [
    "## Compute the curvature of the mesh"
   ]
  },
  {
   "cell_type": "code",
   "execution_count": null,
   "id": "7484f63c-f788-4373-a637-f9e8830f21c8",
   "metadata": {},
   "outputs": [],
   "source": [
    "x, y, z = SpatialCoordinate(domain)\n",
    "X = as_vector((x, y, z))\n",
    "\n",
    "V_kappa = VectorFunctionSpace(domain, 'DG' if order == 0 else 'CG', order)\n",
    "\n",
    "kappa_trial = TrialFunction(V_kappa)\n",
    "kappa_test = TestFunction(V_kappa)\n",
    "\n",
    "a_kappa = dot(kappa_trial, kappa_test)*dx\n",
    "f_kappa = inner(grad(X), grad(kappa_test))*dx\n",
    "\n",
    "kappa = Function(V_kappa, name='kappa')\n",
    "solve(a_kappa == f_kappa, kappa)\n",
    "\n",
    "kappa_normalize = normalize_vfun(kappa, name='kappa_normalize')\n"
   ]
  },
  {
   "cell_type": "code",
   "execution_count": null,
   "id": "fc03d52a-76bf-475f-b772-3900868871f6",
   "metadata": {},
   "outputs": [],
   "source": [
    "err_max, err  = get_error_max(k_inter_from_expr, kappa_normalize)\n",
    "err_fun = Function(V_kappa, name='err')\n",
    "with err_fun.dat.vec as vec:\n",
    "    vec.setArray(err)"
   ]
  },
  {
   "cell_type": "code",
   "execution_count": null,
   "id": "40acb89b-8199-460b-92bc-bbc78427c7d3",
   "metadata": {},
   "outputs": [],
   "source": [
    "outfile = VTKFile(\"data/kappa-order\" + str(order) + \".pvd\")\n",
    "outfile.write(kappa, kappa_normalize, k_inter_from_expr, err_fun)"
   ]
  },
  {
   "cell_type": "code",
   "execution_count": null,
   "id": "5da8daf0-e96a-4af3-8e83-a6e26655c939",
   "metadata": {
    "tags": []
   },
   "outputs": [],
   "source": [
    "# plot\n",
    "kappa_norm = get_vector_norm(kappa)\n",
    "kappa_normalize_norm = get_vector_norm(kappa_normalize)\n",
    "\n",
    "plot_3d_2d(kappa, kappa_norm)\n",
    "plot_3d_2d(kappa_normalize, kappa_normalize_norm)"
   ]
  },
  {
   "cell_type": "markdown",
   "id": "e43ec55c-e00c-4b0f-b6e6-12d013c7fc0f",
   "metadata": {},
   "source": [
    "## Interpolate or project the cell normal to nodes"
   ]
  },
  {
   "cell_type": "code",
   "execution_count": null,
   "id": "bb66905c-d447-4ba2-bb74-49cf0bb2127a",
   "metadata": {},
   "outputs": [],
   "source": [
    "def get_cell_normal(mesh, method='interpolate', order=1):\n",
    "    k = CellNormal(mesh)\n",
    "    V_k = VectorFunctionSpace(mesh, 'DG' if order == 0 else 'CG', order)\n",
    "    if method == 'interpolate':\n",
    "        k_h = Function(V_k, name='k_inte_'+str(order))\n",
    "        k_h.interpolate(k)\n",
    "    elif method == 'project':\n",
    "        k_trial = TrialFunction(V_k)\n",
    "        k_test = TestFunction(V_k)\n",
    "        k_h = Function(V_k, name='k_proj_'+str(order))\n",
    "        a = dot(k_test, k_trial)*dx\n",
    "        f = dot(k, k_test)*dx\n",
    "        solve(a == f, k_h)\n",
    "    else:\n",
    "        raise Exception(\"get_cell_normal: unknow method %s\" % method)\n",
    "    \n",
    "    return k_h\n",
    "\n",
    "def get_k_by_interpolation_and_projection(mesh, order):\n",
    "    '''Compute cell normal by interpolation and projection from CellNormal'''\n",
    "    k = CellNormal(mesh)\n",
    "    V_k = VectorFunctionSpace(mesh, 'DG' if order == 0 else 'CG', order)\n",
    "        \n",
    "    k_trial = TrialFunction(V_k)\n",
    "    k_test = TestFunction(V_k)\n",
    "    \n",
    "    k_proj = Function(V_k, name='k_proj_'+str(order))\n",
    "    k_inte = Function(V_k, name='k_inte_'+str(order))\n",
    "\n",
    "    a = dot(k_test, k_trial)*dx\n",
    "    f = dot(k, k_test)*dx\n",
    "    solve(a == f, k_proj)\n",
    "    k_inte.interpolate(k)\n",
    "    return k_inte, k_proj\n",
    "\n",
    "def show_normal_vector_minus_one(domain, method='interpolate', order=1):\n",
    "    \n",
    "    k_h = get_cell_normal(domain, method=method, order=order)\n",
    "    k_hat = k_h/sqrt(k_h[0]**2 + k_h[1]**2+k_h[2]**2)\n",
    "    k_new = Function(k_h.function_space())\n",
    "    k_new.interpolate(k_hat)\n",
    "    \n",
    "    k_h_norm_minus_one = get_vector_norm_minus_one(k_h)\n",
    "    k_new_norm_minus_one = get_vector_norm_minus_one(k_new)\n",
    "    \n",
    "    plt.figure(figsize=(10, 4)) \n",
    "    plt.subplot(1, 2, 1)\n",
    "    plt.plot(k_h_norm_minus_one)\n",
    "    plt.title(method + ' ' + str(order))\n",
    "    plt.subplot(1, 2, 2)\n",
    "    plt.plot(k_new_norm_minus_one)\n",
    "    plt.title('normlization ' + method + ' ' + str(order))"
   ]
  },
  {
   "cell_type": "code",
   "execution_count": null,
   "id": "230ce809-39b2-4c77-9c77-ef9dbaee3169",
   "metadata": {},
   "outputs": [],
   "source": [
    "show_normal_vector_minus_one(domain, method='interpolate', order=1)"
   ]
  },
  {
   "cell_type": "code",
   "execution_count": null,
   "id": "d5bd0b64-8c1c-4957-bb57-ffd038cb9681",
   "metadata": {},
   "outputs": [],
   "source": [
    "outfile = VTKFile(\"data/normal-vector.pvd\")\n",
    "ks = []\n",
    "for i in range(0, 4):\n",
    "    k_inte, k_proj = get_k_by_interpolation_and_projection(domain, i)\n",
    "    ks.extend([k_inte, k_proj])\n",
    "    # print('done: order' + str(i))\n",
    "\n",
    "outfile.write(*ks)"
   ]
  }
 ],
 "metadata": {
  "language_info": {
   "name": "python"
  }
 },
 "nbformat": 4,
 "nbformat_minor": 5
}
