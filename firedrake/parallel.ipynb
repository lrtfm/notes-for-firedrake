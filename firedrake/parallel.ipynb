{
 "cells": [
  {
   "attachments": {},
   "cell_type": "markdown",
   "metadata": {},
   "source": [
    "# Firedrake 中的并行计算"
   ]
  },
  {
   "cell_type": "markdown",
   "metadata": {},
   "source": [
    "## 终端中并行执行 Firedrake 程序\n",
    "\n",
    "Firedrake 启动并行计算只需在终端中运行以下命令:\n",
    "\n",
    "```\n",
    "mpiexec -n <number-of-process> python3 /path/to/your/script.py\n",
    "```\n",
    "\n",
    "下面以求解 Poisson 方程的程序为例, 将以下代码保存为文件 `poisson.py`\n",
    "\n",
    "```python\n",
    "from firedrake import *\n",
    "\n",
    "N = 8\n",
    "test_mesh = RectangleMesh(nx=N, ny=N, Lx=1, Ly=1)\n",
    "x, y = SpatialCoordinate(test_mesh)\n",
    "f = sin(pi*x)*sin(pi*y)\n",
    "g = Constant(0)\n",
    "\n",
    "V = FunctionSpace(test_mesh, 'CG', degree=1)\n",
    "\n",
    "u, v = TrialFunction(V), TestFunction(V)\n",
    "a = inner(grad(u), grad(v))*dx\n",
    "L = inner(f, v)*dx\n",
    "\n",
    "bc = DirichletBC(V, g=g, sub_domain='on_boundary')\n",
    "\n",
    "u_h = Function(V, name='u_h')\n",
    "solve(a == L, u_h, bcs=bc)\n",
    "output = VTKFile('data/result.pvd')\n",
    "output.write(u_h)\n",
    "```\n",
    "\n",
    "如果想使用 2 个进程进行计算, 激活 Firedrake 环境后，运行如下命令：\n",
    "```\n",
    "mpiexec -n 2 python3 poisson.py\n",
    "```\n",
    "\n",
    "求解结果将保存在 `data/result.pvd` 文件中. 在 `data` 目录下会生成一个 `result` 文件夹,\n",
    "真正的计算结果文件保存在该文件夹中, 每个进程对应一个结果文件. `result.pvd` 文件只是这些结果文件的索引.\n",
    "\n",
    "Firedrake 使用 PETSc 的 DMPlex 来管理网格.\n",
    "在并行计算中, 计算区域会被划分为多个子区域 (默认情况下区域间有交叠),\n",
    "并分配给不同的进程, 因此每个进程的结果文件仅包含该进程对应区域的结果.\n",
    "\n",
    "<!--\n",
    "```bash\n",
    "MPICH_NO_LOCAL=1 mpiexec -n 16 -bind-to core -map-by socket python /path/to/script.py\n",
    "```\n",
    "-->\n",
    "\n",
    "### 并行时的一些注意事项\n",
    "\n",
    "\n",
    "#### 并行输出\n",
    "\n",
    "参考 [py/intro_utils.py](py/intro_utils.py)\n",
    "\n",
    "1. 并行时只输出一次\n",
    "\n",
    "   ```\n",
    "   PETSc.Sys.Print(\"This is the message will only show once!\")\n",
    "   ```\n",
    "\n",
    "2. 每个进程都输出\n",
    "\n",
    "   ```\n",
    "   rank, size = COMM_WORLD.rank, COMM_WORLD.size\n",
    "   PETSc.Sys.syncPrint(f\"[{rank}/{size}] This is the message from rank {rank}!\")\n",
    "   PETSc.Sys.syncFlush()\n",
    "   ```\n",
    "\n",
    "#### 指定进程操作\n",
    "\n",
    "如果需要在某个特定进程上执行某些操作或计算, 可以使用条件语句. 例如, 只在第 0 号进程上进行绘图操作:\n",
    "\n",
    "```python\n",
    "if COMM_WORLD.rank == 0:\n",
    "    triplot(...)\n",
    "```"
   ]
  },
  {
   "attachments": {},
   "cell_type": "markdown",
   "metadata": {},
   "source": [
    "## 在 Jupyter-notebook/Jupyter-lab 中并行执行 Firedrake 代码\n",
    "\n",
    "在 Jupyter 交互环境中, 我们可以方便地对串行代码进行测试, 从而进行快速验证.\n",
    "为了在 Jupyter 环境下运行并行程序, `ipyparallel` 包提供了强大的支持,\n",
    "它能够帮助我们在 Jupyter 中验证并行代码, 同时加深我们对 Firedrake 并行机制的理解.\n"
   ]
  },
  {
   "attachments": {},
   "cell_type": "markdown",
   "metadata": {},
   "source": [
    "### 安装配置 `ipyparallel`\n",
    "\n",
    "1. 激活 Firedrake 环境.\n",
    "    ```bash\n",
    "    source /path/to/firedrake/bin/activate\n",
    "    ```\n",
    "\n",
    "2. 安装 `ipyparallel`\n",
    "    \n",
    "    ```bash\n",
    "    pip install ipyparallel\n",
    "    ```\n",
    "\n",
    "3. 创建 `mpi` 配置文件 (profile)\n",
    "    \n",
    "    ```bash\n",
    "    ipython profile create --parallel --profile=mpi\n",
    "    ```\n",
    "    \n",
    "    运行此命令后，你将看到类似如下的输出\n",
    "    \n",
    "    ```bash\n",
    "    [ProfileCreate] Generating default config file: \n",
    "        PosixPath('/home/<your-user-name>/.ipython/profile_mpi/ipython_config.py')\n",
    "    [ProfileCreate] Generating default config file: \n",
    "        PosixPath('/home/<your-user-name>/.ipython/profile_mpi/ipython_kernel_config.py')\n",
    "    [ProfileCreate] Generating default config file: \n",
    "        PosixPath('/home/<your-user-name>/.ipython/profile_mpi/ipcontroller_config.py')\n",
    "    [ProfileCreate] Generating default config file: \n",
    "        PosixPath('/home/<your-user-name>/.ipython/profile_mpi/ipengine_config.py')\n",
    "    [ProfileCreate] Generating default config file: \n",
    "        PosixPath('/home/<your-user-name>/.ipython/profile_mpi/ipcluster_config.py')\n",
    "    ```\n",
    "\n",
    "4. 在文件 `.ipython/profile_mpi/ipengine_config.py` 的开头添加以下代码\n",
    "    \n",
    "    ```python\n",
    "    from firedrake import *\n",
    "    from firedrake.petsc import PETSc\n",
    "    ```\n",
    "\n",
    "5. 在 `.ipython/profile_mpi/ipcluster_config.py` 中设置默认引擎 (engines) 为 `mpi`. \n",
    "\n",
    "   可以在文件中搜索 `engine_launcher_class`, 并将其编辑为如下内容\n",
    "    \n",
    "    ```python\n",
    "    #    - sshproxy: ipyparallel.cluster.launcher.SSHProxyEngineSetLauncher\n",
    "    #    - winhpc: ipyparallel.cluster.launcher.WindowsHPCEngineSetLauncher\n",
    "    #  Default: 'ipyparallel.cluster.launcher.LocalEngineSetLauncher'\n",
    "    c.Cluster.engine_launcher_class = 'mpi'\n",
    "    ```"
   ]
  },
  {
   "cell_type": "markdown",
   "metadata": {},
   "source": [
    "### 测试 `ipyparallel`\n",
    "\n",
    "启动并连接 `Cluster`."
   ]
  },
  {
   "cell_type": "code",
   "execution_count": 1,
   "metadata": {},
   "outputs": [
    {
     "name": "stdout",
     "output_type": "stream",
     "text": [
      "Starting 2 engines with <class 'ipyparallel.cluster.launcher.MPIEngineSetLauncher'>\n",
      "100%|██████████| 2/2 [00:05<00:00,  2.90s/engine]\n"
     ]
    }
   ],
   "source": [
    "import ipyparallel as ipp\n",
    "\n",
    "cluster = ipp.Cluster(profile=\"mpi\", n=2)\n",
    "client = cluster.start_and_connect_sync()"
   ]
  },
  {
   "cell_type": "markdown",
   "metadata": {},
   "source": [
    "在配置好 `ipyparallel` 并启动集群后, 可以通过 Jupyter 中的魔法指令 `%%px` 在多个进程上并行执行代码.\n",
    "`%%px` 是 `ipyparallel` 提供的魔法命令, 能够在所有并行引擎上同时执行代码.\n",
    "`--block` 参数用于同步执行代码, 确保代码在所有进程上完成后再继续执行后续命令."
   ]
  },
  {
   "cell_type": "code",
   "execution_count": 2,
   "metadata": {},
   "outputs": [
    {
     "data": {
      "text/plain": [
       "[stdout:0] This will only show onece!\n",
       "[0/2] This is the message from rank 0!\n",
       "[1/2] This is the message from rank 1!\n"
      ]
     },
     "metadata": {},
     "output_type": "display_data"
    }
   ],
   "source": [
    "%%px --block\n",
    "from firedrake import *\n",
    "from firedrake.petsc import PETSc\n",
    "from mpi4py import MPI\n",
    "\n",
    "mesh = RectangleMesh(8, 8, 1, 1)\n",
    "PETSc.Sys.Print(\"This will only show onece!\")\n",
    "\n",
    "rank, size = mesh.comm.rank, mesh.comm.size\n",
    "PETSc.Sys.syncPrint(f\"[{rank}/{size}] This is the message from rank {rank}!\")\n",
    "PETSc.Sys.syncFlush()\n",
    "PETSc.Sys.syncFlush()"
   ]
  },
  {
   "cell_type": "markdown",
   "metadata": {},
   "source": [
    "## 使用 ipyparallel 观察串行和并行过程"
   ]
  },
  {
   "cell_type": "markdown",
   "metadata": {},
   "source": [
    "### 生成网格并画出网格"
   ]
  },
  {
   "cell_type": "markdown",
   "metadata": {},
   "source": [
    "#### 串行"
   ]
  },
  {
   "cell_type": "code",
   "execution_count": 3,
   "metadata": {},
   "outputs": [
    {
     "name": "stderr",
     "output_type": "stream",
     "text": [
      "firedrake:WARNING OMP_NUM_THREADS is not set or is set to a value greater than 1, we suggest setting OMP_NUM_THREADS=1 to improve performance\n"
     ]
    },
    {
     "name": "stdout",
     "output_type": "stream",
     "text": [
      "DM Object: firedrake_default_topology 1 MPI process\n",
      "  type: plex\n",
      "firedrake_default_topology in 2 dimensions:\n",
      "  Number of 0-cells per rank: 25\n",
      "  Number of 1-cells per rank: 56\n",
      "  Number of 2-cells per rank: 32\n",
      "Labels:\n",
      "  celltype: 3 strata with value/size (0 (25), 3 (32), 1 (56))\n",
      "  depth: 3 strata with value/size (0 (25), 1 (56), 2 (32))\n",
      "  Face Sets: 4 strata with value/size (1 (4), 3 (4), 4 (4), 2 (4))\n",
      "  exterior_facets: 1 strata with value/size (1 (16))\n",
      "  interior_facets: 1 strata with value/size (1 (40))\n"
     ]
    },
    {
     "data": {
      "image/png": "[encoded data removed]",
      "text/plain": [
       "<Figure size 400x300 with 1 Axes>"
      ]
     },
     "metadata": {},
     "output_type": "display_data"
    }
   ],
   "source": [
    "from firedrake import *\n",
    "from firedrake.pyplot import triplot\n",
    "from firedrake.petsc import PETSc\n",
    "from mpi4py import MPI\n",
    "\n",
    "import matplotlib.pyplot as plt\n",
    "\n",
    "mesh = RectangleMesh(4, 4, 1, 1)\n",
    "mesh.topology_dm.view()\n",
    "fig, axes = plt.subplots(figsize=[4, 3])\n",
    "c = triplot(mesh, axes=axes)\n",
    "xlim = axes.set_xlim([-0.1,1.1])\n",
    "ylim = axes.set_ylim([-0.1,1.1])"
   ]
  },
  {
   "cell_type": "markdown",
   "metadata": {},
   "source": [
    "#### 并行"
   ]
  },
  {
   "cell_type": "code",
   "execution_count": 4,
   "metadata": {},
   "outputs": [
    {
     "data": {
      "text/plain": [
       "[output:1]"
      ]
     },
     "metadata": {},
     "output_type": "display_data"
    },
    {
     "data": {
      "image/png": "[encoded data removed]",
      "text/plain": [
       "<Figure size 400x300 with 1 Axes>"
      ]
     },
     "metadata": {
      "engine": 1
     },
     "output_type": "display_data"
    },
    {
     "data": {
      "text/plain": [
       "[stdout:0] DM Object: firedrake_default_topology 2 MPI processes\n",
       "  type: plex\n",
       "firedrake_default_topology in 2 dimensions:\n",
       "  Number of 0-cells per rank: 15 15\n",
       "  Number of 1-cells per rank: 30 30\n",
       "  Number of 2-cells per rank: 16 16\n",
       "Labels:\n",
       "  depth: 3 strata with value/size (0 (15), 1 (30), 2 (16))\n",
       "  celltype: 3 strata with value/size (0 (15), 1 (30), 3 (16))\n",
       "  Face Sets: 3 strata with value/size (1 (2), 2 (2), 4 (4))\n",
       "  exterior_facets: 1 strata with value/size (1 (8))\n",
       "  interior_facets: 1 strata with value/size (1 (22))\n"
      ]
     },
     "metadata": {},
     "output_type": "display_data"
    },
    {
     "data": {
      "text/plain": [
       "[output:0]"
      ]
     },
     "metadata": {},
     "output_type": "display_data"
    },
    {
     "data": {
      "image/png": "[encoded data removed]",
      "text/plain": [
       "<Figure size 400x300 with 1 Axes>"
      ]
     },
     "metadata": {
      "engine": 0
     },
     "output_type": "display_data"
    }
   ],
   "source": [
    "%%px --block\n",
    "from firedrake import *\n",
    "from firedrake.pyplot import triplot\n",
    "from firedrake.petsc import PETSc\n",
    "from mpi4py import MPI\n",
    "\n",
    "import matplotlib.pyplot as plt\n",
    "\n",
    "mesh = RectangleMesh(4, 4, 1, 1)\n",
    "mesh.topology_dm.view()\n",
    "fig, axes = plt.subplots(figsize=[4, 3])\n",
    "c = triplot(mesh, axes=axes)\n",
    "xlim = axes.set_xlim([-0.1,1.1])\n",
    "ylim = axes.set_ylim([-0.1,1.1])"
   ]
  },
  {
   "cell_type": "markdown",
   "metadata": {},
   "source": [
    "可以看到上面并行中两个网格图是整体网格的一部分, 且有重叠部分."
   ]
  },
  {
   "cell_type": "markdown",
   "metadata": {},
   "source": [
    "### 定义变分问题"
   ]
  },
  {
   "cell_type": "markdown",
   "metadata": {},
   "source": [
    "#### 串行"
   ]
  },
  {
   "cell_type": "code",
   "execution_count": 5,
   "metadata": {},
   "outputs": [],
   "source": [
    "V1 = VectorFunctionSpace(mesh, 'CG', 1)\n",
    "V2 = FunctionSpace(mesh, 'CG', 2)\n",
    "W = MixedFunctionSpace([V1, V2])  # W = V1*V2\n",
    "u1, u2 = TrialFunctions(W)\n",
    "v1, v2 = TestFunctions(W)\n",
    "a = dot(u1, v1)*dx + u2*v2*dx\n",
    "\n",
    "x, y = SpatialCoordinate(mesh)\n",
    "f = dot(as_vector((sin(x), cos(y))), v1)*dx + cos(y)*v2*dx\n",
    "\n",
    "bc = DirichletBC(W.sub(0), 0, 1)\n",
    "uh = Function(W)\n",
    "problem = LinearVariationalProblem(a, f, uh, bcs=bc)"
   ]
  },
  {
   "cell_type": "markdown",
   "metadata": {},
   "source": [
    "#### 并行"
   ]
  },
  {
   "cell_type": "code",
   "execution_count": 6,
   "metadata": {},
   "outputs": [],
   "source": [
    "%%px --block\n",
    "V1 = VectorFunctionSpace(mesh, 'CG', 1)\n",
    "V2 = FunctionSpace(mesh, 'CG', 2)\n",
    "W = MixedFunctionSpace([V1, V2])  # W = V1*V2\n",
    "u1, u2 = TrialFunctions(W)\n",
    "v1, v2 = TestFunctions(W)\n",
    "a = dot(u1, v1)*dx + u2*v2*dx\n",
    "\n",
    "x, y = SpatialCoordinate(mesh)\n",
    "f = dot(as_vector((sin(x), cos(y))), v1)*dx + cos(y)*v2*dx\n",
    "\n",
    "bc = DirichletBC(W.sub(0), 0, 1)\n",
    "uh = Function(W)\n",
    "problem = LinearVariationalProblem(a, f, uh, bcs=bc)"
   ]
  },
  {
   "cell_type": "markdown",
   "metadata": {},
   "source": [
    "### 函数空间维度\n",
    "\n",
    "函数空间 V1 和 V2 中的自由度, 可以通过调用函数 dim 得到"
   ]
  },
  {
   "cell_type": "code",
   "execution_count": 7,
   "metadata": {},
   "outputs": [
    {
     "name": "stdout",
     "output_type": "stream",
     "text": [
      "Number of dofs of V1: 50\n",
      "[0/1] V1 Node count: 25; V1 Dof count: 50\n"
     ]
    }
   ],
   "source": [
    "rank, size = mesh.comm.rank, mesh.comm.size\n",
    "PETSc.Sys.Print(f'Number of dofs of V1: {V1.dim()}')\n",
    "PETSc.Sys.syncPrint(f'[{rank}/{size}] V1 Node count: {V1.node_count}; V1 Dof count: {V1.dof_count}')\n",
    "PETSc.Sys.syncFlush()"
   ]
  },
  {
   "cell_type": "code",
   "execution_count": 8,
   "metadata": {},
   "outputs": [
    {
     "data": {
      "text/plain": [
       "[stdout:0] Number of dofs of V1: 50\n",
       "[0/2] V1 Node count: 19; V1 Dof count: 38\n",
       "[1/2] V1 Node count: 19; V1 Dof count: 38\n"
      ]
     },
     "metadata": {},
     "output_type": "display_data"
    }
   ],
   "source": [
    "%%px --block\n",
    "rank, size = mesh.comm.rank, mesh.comm.size\n",
    "PETSc.Sys.Print(f'Number of dofs of V1: {V1.dim()}')\n",
    "PETSc.Sys.syncPrint(f'[{rank}/{size}] V1 Node count: {V1.node_count}; V1 Dof count: {V1.dof_count}')\n",
    "PETSc.Sys.syncFlush()"
   ]
  },
  {
   "cell_type": "markdown",
   "metadata": {},
   "source": [
    "### 节点集和自由度数据集"
   ]
  },
  {
   "cell_type": "code",
   "execution_count": 9,
   "metadata": {},
   "outputs": [
    {
     "name": "stdout",
     "output_type": "stream",
     "text": [
      "[0/1] V1: OP2 Set: set_#x13c2089b0 with size 25\n",
      "[0/1]     Set((np.int64(25), np.int64(25), np.int64(25)), 'set_#x13c2089b0')\n",
      "[0/1] V1: OP2 DataSet: None_nodes_dset on set OP2 Set: set_#x13c2089b0 with size 25, with dim (2,)\n",
      "[0/1]     DataSet(Set((np.int64(25), np.int64(25), np.int64(25)), 'set_#x13c2089b0'), (2,), 'None_nodes_dset')\n"
     ]
    }
   ],
   "source": [
    "PETSc.Sys.syncPrint(f'[{rank}/{size}] V1: {str(V1.node_set)}')\n",
    "PETSc.Sys.syncPrint(f'[{rank}/{size}]     {repr(V1.node_set)}')\n",
    "PETSc.Sys.syncPrint(f'[{rank}/{size}] V1: {str(V1.dof_dset)}')\n",
    "PETSc.Sys.syncPrint(f'[{rank}/{size}]     {repr(V1.dof_dset)}')\n",
    "PETSc.Sys.syncFlush()"
   ]
  },
  {
   "cell_type": "code",
   "execution_count": 10,
   "metadata": {},
   "outputs": [
    {
     "data": {
      "text/plain": [
       "[stdout:0] [0/2] V1: OP2 Set: set_#x16876ffb0 with size 10\n",
       "[0/2]     Set((np.int64(5), np.int64(10), np.int64(19)), 'set_#x16876ffb0')\n",
       "[0/2] V1: OP2 DataSet: None_nodes_dset on set OP2 Set: set_#x16876ffb0 with size 10, with dim (2,)\n",
       "[0/2]     DataSet(Set((np.int64(5), np.int64(10), np.int64(19)), 'set_#x16876ffb0'), (2,), 'None_nodes_dset')\n",
       "[1/2] V1: OP2 Set: set_#x17065ecc0 with size 15\n",
       "[1/2]     Set((np.int64(10), np.int64(15), np.int64(19)), 'set_#x17065ecc0')\n",
       "[1/2] V1: OP2 DataSet: None_nodes_dset on set OP2 Set: set_#x17065ecc0 with size 15, with dim (2,)\n",
       "[1/2]     DataSet(Set((np.int64(10), np.int64(15), np.int64(19)), 'set_#x17065ecc0'), (2,), 'None_nodes_dset')\n"
      ]
     },
     "metadata": {},
     "output_type": "display_data"
    }
   ],
   "source": [
    "%%px --block\n",
    "PETSc.Sys.syncPrint(f'[{rank}/{size}] V1: {str(V1.node_set)}')\n",
    "PETSc.Sys.syncPrint(f'[{rank}/{size}]     {repr(V1.node_set)}')\n",
    "PETSc.Sys.syncPrint(f'[{rank}/{size}] V1: {str(V1.dof_dset)}')\n",
    "PETSc.Sys.syncPrint(f'[{rank}/{size}]     {repr(V1.dof_dset)}')\n",
    "PETSc.Sys.syncFlush()"
   ]
  },
  {
   "cell_type": "markdown",
   "metadata": {},
   "source": [
    "#### Size of Set and Data Set"
   ]
  },
  {
   "cell_type": "code",
   "execution_count": 11,
   "metadata": {},
   "outputs": [],
   "source": [
    "# Reference:\n",
    "#   https://github.com/OP2/PyOP2/blob/31471a606a852aed250b05574d1fc2a2874eec31/pyop2/types/set.py#L30\n",
    "#\n",
    "# The division of set elements is:\n",
    "#\n",
    "#        [0, CORE)\n",
    "#        [CORE, OWNED)\n",
    "#        [OWNED, GHOST)\n",
    "#\n",
    "# Attribute of dof_dset\n",
    "#   core_size: Core set size.  Owned elements not touching halo elements.\n",
    "#   size: Set size, owned elements.\n",
    "#   total_size: Set size including ghost elements.\n",
    "#   sizes: (core_size, size, total_size)"
   ]
  },
  {
   "cell_type": "code",
   "execution_count": 12,
   "metadata": {},
   "outputs": [
    {
     "name": "stdout",
     "output_type": "stream",
     "text": [
      "[0/1] core size: 25, size: 25, total size: 25\n"
     ]
    }
   ],
   "source": [
    "node_set = V1.node_set\n",
    "msg = f'core size: {node_set.core_size}, size: {node_set.size}, total size: {node_set.total_size}'\n",
    "# another size: node_set.constrained_size\n",
    "PETSc.Sys.syncPrint(f'[{rank}/{size}] {msg}')\n",
    "PETSc.Sys.syncFlush()"
   ]
  },
  {
   "cell_type": "code",
   "execution_count": 13,
   "metadata": {},
   "outputs": [
    {
     "data": {
      "text/plain": [
       "[stdout:0] [0/2] core size: 5, size: 10, total size: 19\n",
       "[1/2] core size: 10, size: 15, total size: 19\n"
      ]
     },
     "metadata": {},
     "output_type": "display_data"
    }
   ],
   "source": [
    "%%px --block\n",
    "node_set = V1.node_set\n",
    "msg = f'core size: {node_set.core_size}, size: {node_set.size}, total size: {node_set.total_size}'\n",
    "PETSc.Sys.syncPrint(f'[{rank}/{size}] {msg}')\n",
    "PETSc.Sys.syncFlush()"
   ]
  },
  {
   "cell_type": "code",
   "execution_count": 14,
   "metadata": {},
   "outputs": [
    {
     "name": "stdout",
     "output_type": "stream",
     "text": [
      "[0/1] core size: 25, size: 25, total size: 25, dim: (2,), cdim: 2\n"
     ]
    }
   ],
   "source": [
    "dof_dset = V1.dof_dset\n",
    "size_msg = f'core size: {dof_dset.core_size}, size: {dof_dset.size}, total size: {dof_dset.total_size}'\n",
    "# dim: shape tuple of the values for each element, cdim: product of dim tuple\n",
    "dim_msg = f'dim: {dof_dset.dim}, cdim: {dof_dset.cdim}'\n",
    "PETSc.Sys.syncPrint(f'[{rank}/{size}] {size_msg}, {dim_msg}')\n",
    "PETSc.Sys.syncFlush()"
   ]
  },
  {
   "cell_type": "code",
   "execution_count": 15,
   "metadata": {},
   "outputs": [
    {
     "data": {
      "text/plain": [
       "[stdout:0] [0/2] core size: 5, size: 10, total size: 19, dim: (2,), cdim: 2\n",
       "[1/2] core size: 10, size: 15, total size: 19, dim: (2,), cdim: 2\n"
      ]
     },
     "metadata": {},
     "output_type": "display_data"
    }
   ],
   "source": [
    "%%px --block\n",
    "dof_dset = V1.dof_dset\n",
    "size_msg = f'core size: {dof_dset.core_size}, size: {dof_dset.size}, total size: {dof_dset.total_size}'\n",
    "# dim: shape tuple of the values for each element, cdim: product of dim tuple\n",
    "dim_msg = f'dim: {dof_dset.dim}, cdim: {dof_dset.cdim}'\n",
    "PETSc.Sys.syncPrint(f'[{rank}/{size}] {size_msg}, {dim_msg}')\n",
    "PETSc.Sys.syncFlush()"
   ]
  },
  {
   "cell_type": "markdown",
   "metadata": {},
   "source": [
    "#### ISES of Data Set"
   ]
  },
  {
   "cell_type": "code",
   "execution_count": 16,
   "metadata": {},
   "outputs": [],
   "source": [
    "# Reference:\n",
    "#   https://github.com/OP2/PyOP2/blob/31471a606a852aed250b05574d1fc2a2874eec31/pyop2/types/dataset.py#L145\n",
    "#\n",
    "# field_ises:\n",
    "#   A list of PETSc ISes defining the global indices for each set in the DataSet.\n",
    "#   Used when extracting blocks from matrices for solvers.\n",
    "#\n",
    "# local_ises:\n",
    "#   A list of PETSc ISes defining the local indices for each set in the DataSet.\n",
    "#   Used when extracting blocks from matrices for assembly."
   ]
  },
  {
   "cell_type": "code",
   "execution_count": 17,
   "metadata": {},
   "outputs": [
    {
     "name": "stdout",
     "output_type": "stream",
     "text": [
      "[0/1] [array([ 0,  1,  2,  3,  4,  5,  6,  7,  8,  9, 10, 11, 12, 13, 14, 15, 16,\n",
      "       17, 18, 19, 20, 21, 22, 23, 24, 25, 26, 27, 28, 29, 30, 31, 32, 33,\n",
      "       34, 35, 36, 37, 38, 39, 40, 41, 42, 43, 44, 45, 46, 47, 48, 49],\n",
      "      dtype=int32), array([ 50,  51,  52,  53,  54,  55,  56,  57,  58,  59,  60,  61,  62,\n",
      "        63,  64,  65,  66,  67,  68,  69,  70,  71,  72,  73,  74,  75,\n",
      "        76,  77,  78,  79,  80,  81,  82,  83,  84,  85,  86,  87,  88,\n",
      "        89,  90,  91,  92,  93,  94,  95,  96,  97,  98,  99, 100, 101,\n",
      "       102, 103, 104, 105, 106, 107, 108, 109, 110, 111, 112, 113, 114,\n",
      "       115, 116, 117, 118, 119, 120, 121, 122, 123, 124, 125, 126, 127,\n",
      "       128, 129, 130], dtype=int32)]\n"
     ]
    }
   ],
   "source": [
    "local_ises_msg = f'{[_.getIndices() for _ in W.dof_dset.local_ises]}'\n",
    "PETSc.Sys.syncPrint(f'[{rank}/{size}] {local_ises_msg}')\n",
    "PETSc.Sys.syncFlush()"
   ]
  },
  {
   "cell_type": "code",
   "execution_count": 18,
   "metadata": {},
   "outputs": [
    {
     "data": {
      "text/plain": [
       "[stdout:0] [0/2] [array([ 0,  1,  2,  3,  4,  5,  6,  7,  8,  9, 10, 11, 12, 13, 14, 15, 16,\n",
       "       17, 18, 19, 20, 21, 22, 23, 24, 25, 26, 27, 28, 29, 30, 31, 32, 33,\n",
       "       34, 35, 36, 37], dtype=int32), array([38, 39, 40, 41, 42, 43, 44, 45, 46, 47, 48, 49, 50, 51, 52, 53, 54,\n",
       "       55, 56, 57, 58, 59, 60, 61, 62, 63, 64, 65, 66, 67, 68, 69, 70, 71,\n",
       "       72, 73, 74, 75, 76, 77, 78, 79, 80, 81, 82, 83, 84, 85, 86, 87, 88,\n",
       "       89, 90, 91, 92, 93, 94], dtype=int32)]\n",
       "[1/2] [array([ 0,  1,  2,  3,  4,  5,  6,  7,  8,  9, 10, 11, 12, 13, 14, 15, 16,\n",
       "       17, 18, 19, 20, 21, 22, 23, 24, 25, 26, 27, 28, 29, 30, 31, 32, 33,\n",
       "       34, 35, 36, 37], dtype=int32), array([38, 39, 40, 41, 42, 43, 44, 45, 46, 47, 48, 49, 50, 51, 52, 53, 54,\n",
       "       55, 56, 57, 58, 59, 60, 61, 62, 63, 64, 65, 66, 67, 68, 69, 70, 71,\n",
       "       72, 73, 74, 75, 76, 77, 78, 79, 80, 81, 82, 83, 84, 85, 86, 87, 88,\n",
       "       89, 90, 91, 92, 93, 94], dtype=int32)]\n"
      ]
     },
     "metadata": {},
     "output_type": "display_data"
    }
   ],
   "source": [
    "%%px --block\n",
    "local_ises_msg = f'{[_.getIndices() for _ in W.dof_dset.local_ises]}'\n",
    "PETSc.Sys.syncPrint(f'[{rank}/{size}] {local_ises_msg}')\n",
    "PETSc.Sys.syncFlush()"
   ]
  },
  {
   "cell_type": "code",
   "execution_count": 19,
   "metadata": {},
   "outputs": [
    {
     "name": "stdout",
     "output_type": "stream",
     "text": [
      "[0/1] [array([ 0,  1,  2,  3,  4,  5,  6,  7,  8,  9, 10, 11, 12, 13, 14, 15, 16,\n",
      "       17, 18, 19, 20, 21, 22, 23, 24, 25, 26, 27, 28, 29, 30, 31, 32, 33,\n",
      "       34, 35, 36, 37, 38, 39, 40, 41, 42, 43, 44, 45, 46, 47, 48, 49],\n",
      "      dtype=int32), array([ 50,  51,  52,  53,  54,  55,  56,  57,  58,  59,  60,  61,  62,\n",
      "        63,  64,  65,  66,  67,  68,  69,  70,  71,  72,  73,  74,  75,\n",
      "        76,  77,  78,  79,  80,  81,  82,  83,  84,  85,  86,  87,  88,\n",
      "        89,  90,  91,  92,  93,  94,  95,  96,  97,  98,  99, 100, 101,\n",
      "       102, 103, 104, 105, 106, 107, 108, 109, 110, 111, 112, 113, 114,\n",
      "       115, 116, 117, 118, 119, 120, 121, 122, 123, 124, 125, 126, 127,\n",
      "       128, 129, 130], dtype=int32)]\n"
     ]
    }
   ],
   "source": [
    "field_ises_msg = f'{[_.getIndices() for _ in W.dof_dset.field_ises]}'\n",
    "PETSc.Sys.syncPrint(f'[{rank}/{size}] {field_ises_msg}')\n",
    "PETSc.Sys.syncFlush()"
   ]
  },
  {
   "cell_type": "code",
   "execution_count": 20,
   "metadata": {},
   "outputs": [
    {
     "data": {
      "text/plain": [
       "[stdout:0] [0/2] [array([ 0,  1,  2,  3,  4,  5,  6,  7,  8,  9, 10, 11, 12, 13, 14, 15, 16,\n",
       "       17, 18, 19], dtype=int32), array([20, 21, 22, 23, 24, 25, 26, 27, 28, 29, 30, 31, 32, 33, 34, 35, 36,\n",
       "       37, 38, 39, 40, 41, 42, 43, 44, 45, 46, 47, 48, 49, 50, 51, 52, 53,\n",
       "       54, 55], dtype=int32)]\n",
       "[1/2] [array([56, 57, 58, 59, 60, 61, 62, 63, 64, 65, 66, 67, 68, 69, 70, 71, 72,\n",
       "       73, 74, 75, 76, 77, 78, 79, 80, 81, 82, 83, 84, 85], dtype=int32), array([ 86,  87,  88,  89,  90,  91,  92,  93,  94,  95,  96,  97,  98,\n",
       "        99, 100, 101, 102, 103, 104, 105, 106, 107, 108, 109, 110, 111,\n",
       "       112, 113, 114, 115, 116, 117, 118, 119, 120, 121, 122, 123, 124,\n",
       "       125, 126, 127, 128, 129, 130], dtype=int32)]\n"
      ]
     },
     "metadata": {},
     "output_type": "display_data"
    }
   ],
   "source": [
    "%%px --block\n",
    "field_ises_msg = f'{[_.getIndices() for _ in W.dof_dset.field_ises]}'\n",
    "PETSc.Sys.syncPrint(f'[{rank}/{size}] {field_ises_msg}')\n",
    "PETSc.Sys.syncFlush()"
   ]
  },
  {
   "cell_type": "markdown",
   "metadata": {},
   "source": [
    "#### Local to Global Map"
   ]
  },
  {
   "cell_type": "code",
   "execution_count": 33,
   "metadata": {},
   "outputs": [
    {
     "data": {
      "text/plain": [
       "[array([ 0,  1,  2,  3,  4,  5,  6,  7,  8,  9, 10, 11, 12, 13, 14, 15, 16,\n",
       "        17, 18, 19, 20, 21, 22, 23, 24, 25, 26, 27, 28, 29, 30, 31, 32, 33,\n",
       "        34, 35, 36, 37, 38, 39, 40, 41, 42, 43, 44, 45, 46, 47, 48, 49],\n",
       "       dtype=int32),\n",
       " array([ 50,  51,  52,  53,  54,  55,  56,  57,  58,  59,  60,  61,  62,\n",
       "         63,  64,  65,  66,  67,  68,  69,  70,  71,  72,  73,  74,  75,\n",
       "         76,  77,  78,  79,  80,  81,  82,  83,  84,  85,  86,  87,  88,\n",
       "         89,  90,  91,  92,  93,  94,  95,  96,  97,  98,  99, 100, 101,\n",
       "        102, 103, 104, 105, 106, 107, 108, 109, 110, 111, 112, 113, 114,\n",
       "        115, 116, 117, 118, 119, 120, 121, 122, 123, 124, 125, 126, 127,\n",
       "        128, 129, 130], dtype=int32)]"
      ]
     },
     "execution_count": 33,
     "metadata": {},
     "output_type": "execute_result"
    }
   ],
   "source": [
    "[W.dof_dset.lgmap.apply(_) for _ in W.dof_dset.local_ises]"
   ]
  },
  {
   "cell_type": "code",
   "execution_count": 34,
   "metadata": {},
   "outputs": [
    {
     "data": {
      "text/plain": [
       "\u001b[0;31mOut[1:12]: \u001b[0m\n",
       "[array([56, 57, 58, 59, 60, 61, 62, 63, 64, 65, 66, 67, 68, 69, 70, 71, 72,\n",
       "        73, 74, 75, 76, 77, 78, 79, 80, 81, 82, 83, 84, 85, 18, 19, 16, 17,\n",
       "        14, 15, 12, 13], dtype=int32),\n",
       " array([ 86,  87,  88,  89,  90,  91,  92,  93,  94,  95,  96,  97,  98,\n",
       "         99, 100, 101, 102, 103, 104, 105, 106, 107, 108, 109, 110, 111,\n",
       "        112, 113, 114, 115, 116, 117, 118, 119, 120, 121, 122, 123, 124,\n",
       "        125, 126, 127, 128, 129, 130,  55,  54,  53,  51,  50,  49,  47,\n",
       "         46,  45,  43,  42,  40], dtype=int32)]"
      ]
     },
     "metadata": {
      "after": null,
      "completed": null,
      "data": {},
      "engine_id": 1,
      "engine_uuid": "318933b4-33ba7468c156e990782939ae",
      "error": null,
      "execute_input": "[W.dof_dset.lgmap.apply(_) for _ in W.dof_dset.local_ises]\n",
      "execute_result": {
       "data": {
        "text/plain": "[array([56, 57, 58, 59, 60, 61, 62, 63, 64, 65, 66, 67, 68, 69, 70, 71, 72,\n        73, 74, 75, 76, 77, 78, 79, 80, 81, 82, 83, 84, 85, 18, 19, 16, 17,\n        14, 15, 12, 13], dtype=int32),\n array([ 86,  87,  88,  89,  90,  91,  92,  93,  94,  95,  96,  97,  98,\n         99, 100, 101, 102, 103, 104, 105, 106, 107, 108, 109, 110, 111,\n        112, 113, 114, 115, 116, 117, 118, 119, 120, 121, 122, 123, 124,\n        125, 126, 127, 128, 129, 130,  55,  54,  53,  51,  50,  49,  47,\n         46,  45,  43,  42,  40], dtype=int32)]"
       },
       "execution_count": 12,
       "metadata": {}
      },
      "follow": null,
      "msg_id": null,
      "outputs": [],
      "received": null,
      "started": null,
      "status": null,
      "stderr": "",
      "stdout": "",
      "submitted": "2024-10-30T18:09:51.972985Z"
     },
     "output_type": "display_data"
    },
    {
     "data": {
      "text/plain": [
       "\u001b[0;31mOut[0:12]: \u001b[0m\n",
       "[array([ 0,  1,  2,  3,  4,  5,  6,  7,  8,  9, 10, 11, 12, 13, 14, 15, 16,\n",
       "        17, 18, 19, 84, 85, 82, 83, 74, 75, 80, 81, 70, 71, 78, 79, 66, 67,\n",
       "        76, 77, 62, 63], dtype=int32),\n",
       " array([ 20,  21,  22,  23,  24,  25,  26,  27,  28,  29,  30,  31,  32,\n",
       "         33,  34,  35,  36,  37,  38,  39,  40,  41,  42,  43,  44,  45,\n",
       "         46,  47,  48,  49,  50,  51,  52,  53,  54,  55, 130, 129, 121,\n",
       "        120, 128, 119, 127, 116, 112, 126, 111, 125, 108, 104, 124, 103,\n",
       "        123, 122, 100,  96,  94], dtype=int32)]"
      ]
     },
     "metadata": {
      "after": null,
      "completed": null,
      "data": {},
      "engine_id": 0,
      "engine_uuid": "e1efc491-7134533c9d3cc85608e6f841",
      "error": null,
      "execute_input": "[W.dof_dset.lgmap.apply(_) for _ in W.dof_dset.local_ises]\n",
      "execute_result": {
       "data": {
        "text/plain": "[array([ 0,  1,  2,  3,  4,  5,  6,  7,  8,  9, 10, 11, 12, 13, 14, 15, 16,\n        17, 18, 19, 84, 85, 82, 83, 74, 75, 80, 81, 70, 71, 78, 79, 66, 67,\n        76, 77, 62, 63], dtype=int32),\n array([ 20,  21,  22,  23,  24,  25,  26,  27,  28,  29,  30,  31,  32,\n         33,  34,  35,  36,  37,  38,  39,  40,  41,  42,  43,  44,  45,\n         46,  47,  48,  49,  50,  51,  52,  53,  54,  55, 130, 129, 121,\n        120, 128, 119, 127, 116, 112, 126, 111, 125, 108, 104, 124, 103,\n        123, 122, 100,  96,  94], dtype=int32)]"
       },
       "execution_count": 12,
       "metadata": {}
      },
      "follow": null,
      "msg_id": null,
      "outputs": [],
      "received": null,
      "started": null,
      "status": null,
      "stderr": "",
      "stdout": "",
      "submitted": "2024-10-30T18:09:51.972585Z"
     },
     "output_type": "display_data"
    }
   ],
   "source": [
    "%%px --block\n",
    "[W.dof_dset.lgmap.apply(_) for _ in W.dof_dset.local_ises]"
   ]
  },
  {
   "cell_type": "markdown",
   "metadata": {},
   "source": [
    "#### Layout Vector of Data Set"
   ]
  },
  {
   "cell_type": "code",
   "execution_count": 21,
   "metadata": {},
   "outputs": [
    {
     "name": "stdout",
     "output_type": "stream",
     "text": [
      "[0/1] Local Size: 50, Size: 50\n"
     ]
    }
   ],
   "source": [
    "# dof_dset.layout_vec.getSizes()\n",
    "vec_msg = f'Local Size: {dof_dset.layout_vec.getLocalSize()}, Size: {dof_dset.layout_vec.getSize()}'\n",
    "PETSc.Sys.syncPrint(f'[{rank}/{size}] {vec_msg}')\n",
    "PETSc.Sys.syncFlush()"
   ]
  },
  {
   "cell_type": "code",
   "execution_count": 22,
   "metadata": {},
   "outputs": [
    {
     "data": {
      "text/plain": [
       "[stdout:0] [0/2] Local Size: 20, Size: 50\n",
       "[1/2] Local Size: 30, Size: 50\n"
      ]
     },
     "metadata": {},
     "output_type": "display_data"
    }
   ],
   "source": [
    "%%px --block\n",
    "# dof_dset.layout_vec.getSizes()\n",
    "vec_msg = f'Local Size: {dof_dset.layout_vec.getLocalSize()}, Size: {dof_dset.layout_vec.getSize()}'\n",
    "PETSc.Sys.syncPrint(f'[{rank}/{size}] {vec_msg}')\n",
    "PETSc.Sys.syncFlush()"
   ]
  },
  {
   "cell_type": "markdown",
   "metadata": {},
   "source": [
    "### 定义 Solver"
   ]
  },
  {
   "cell_type": "code",
   "execution_count": 37,
   "metadata": {},
   "outputs": [
    {
     "name": "stdout",
     "output_type": "stream",
     "text": [
      "post function callback begin\n",
      "post function callback end\n",
      "post jacobian callback begin\n",
      "[0/1] bc nodes: [0]\n",
      "post jacobian callback end\n"
     ]
    }
   ],
   "source": [
    "def post_jacobian_callback(X, J):\n",
    "    # X: vector (gauss value)\n",
    "    # J: mat\n",
    "    #\n",
    "    # mat reference:\n",
    "    #   https://petsc.org/main/petsc4py/reference/petsc4py.PETSc.Mat.html\n",
    "\n",
    "    PETSc.Sys.Print(\"post jacobian callback begin\")\n",
    "    rank, size = COMM_WORLD.rank, COMM_WORLD.size\n",
    "    bc = DirichletBC(W.sub(0), 0, ((1, 3),))\n",
    "    PETSc.Sys.syncPrint(f\"[{rank}/{size}] bc nodes: {bc.nodes}\")\n",
    "    PETSc.Sys.syncFlush()\n",
    "\n",
    "    # J.setValue(i, j, 1, PETSc.InsertMode.ADD_VALUES)\n",
    "    # J.setValueLocal(i, j, 1)\n",
    "    # J.setValueLocal(i, j, 1, PETSc.InsertMode.ADD_VALUES)\n",
    "    # J.assemble()\n",
    "    PETSc.Sys.Print(\"post jacobian callback end\")\n",
    "\n",
    "\n",
    "def post_function_callback(X, F):\n",
    "    # X: vector (gauss value)\n",
    "    # F: vector\n",
    "    #\n",
    "    # vec reference:\n",
    "    #   https://petsc.org/main/petsc4py/reference/petsc4py.PETSc.Vec.html\n",
    "\n",
    "    PETSc.Sys.Print(\"post function callback begin\")\n",
    "    F.zeroEntries()\n",
    "    PETSc.Sys.Print(\"post function callback end\")\n",
    "\n",
    "solver = LinearVariationalSolver(problem,\n",
    "                                 post_jacobian_callback=post_jacobian_callback,\n",
    "                                 post_function_callback=post_function_callback)\n",
    "solver.solve()"
   ]
  },
  {
   "cell_type": "code",
   "execution_count": 36,
   "metadata": {},
   "outputs": [
    {
     "data": {
      "text/plain": [
       "[stdout:0] post function callback begin\n",
       "post function callback end\n",
       "post jacobian callback begin\n",
       "[0/2] bc nodes: []\n",
       "[1/2] bc nodes: [0]\n",
       "post jacobian callback end\n"
      ]
     },
     "metadata": {},
     "output_type": "display_data"
    }
   ],
   "source": [
    "%%px --block\n",
    "def post_jacobian_callback(X, J):\n",
    "    # X: vector (gauss value)\n",
    "    # J: mat\n",
    "    #\n",
    "    # mat reference:\n",
    "    #   https://petsc.org/main/petsc4py/reference/petsc4py.PETSc.Mat.html\n",
    "\n",
    "    PETSc.Sys.Print(\"post jacobian callback begin\")\n",
    "    rank, size = COMM_WORLD.rank, COMM_WORLD.size\n",
    "    bc = DirichletBC(W.sub(0), 0, ((1, 3),))\n",
    "    PETSc.Sys.syncPrint(f\"[{rank}/{size}] bc nodes: {bc.nodes}\")\n",
    "    PETSc.Sys.syncFlush()\n",
    "\n",
    "    # J.setValue(i, j, 1, PETSc.InsertMode.ADD_VALUES)\n",
    "    # J.setValueLocal(i, j, 1)\n",
    "    # J.setValueLocal(i, j, 1, PETSc.InsertMode.ADD_VALUES)\n",
    "    # J.assemble()\n",
    "    PETSc.Sys.Print(\"post jacobian callback end\")\n",
    "\n",
    "\n",
    "def post_function_callback(X, F):\n",
    "    # X: vector (gauss value)\n",
    "    # F: vector\n",
    "    #\n",
    "    # vec reference:\n",
    "    #   https://petsc.org/main/petsc4py/reference/petsc4py.PETSc.Vec.html\n",
    "\n",
    "    PETSc.Sys.Print(\"post function callback begin\")\n",
    "    F.zeroEntries()\n",
    "    PETSc.Sys.Print(\"post function callback end\")\n",
    "\n",
    "solver = LinearVariationalSolver(problem,\n",
    "                                 post_jacobian_callback=post_jacobian_callback,\n",
    "                                 post_function_callback=post_function_callback)\n",
    "solver.solve()"
   ]
  },
  {
   "cell_type": "markdown",
   "metadata": {},
   "source": [
    "#### Context of the Solver"
   ]
  },
  {
   "cell_type": "code",
   "execution_count": 41,
   "metadata": {},
   "outputs": [
    {
     "data": {
      "text/plain": [
       "((131, 131), (131, 131))"
      ]
     },
     "execution_count": 41,
     "metadata": {},
     "output_type": "execute_result"
    }
   ],
   "source": [
    "ctx = solver._ctx\n",
    "ctx._jac.petscmat.getSizes()"
   ]
  },
  {
   "cell_type": "code",
   "execution_count": 42,
   "metadata": {},
   "outputs": [
    {
     "data": {
      "text/plain": [
       "\u001b[0;31mOut[1:15]: \u001b[0m((75, 131), (75, 131))"
      ]
     },
     "metadata": {
      "after": null,
      "completed": null,
      "data": {},
      "engine_id": 1,
      "engine_uuid": "318933b4-33ba7468c156e990782939ae",
      "error": null,
      "execute_input": "ctx = solver._ctx\nctx._jac.petscmat.getSizes()\n",
      "execute_result": {
       "data": {
        "text/plain": "((75, 131), (75, 131))"
       },
       "execution_count": 15,
       "metadata": {}
      },
      "follow": null,
      "msg_id": null,
      "outputs": [],
      "received": null,
      "started": null,
      "status": null,
      "stderr": "",
      "stdout": "",
      "submitted": "2024-10-30T18:28:16.664793Z"
     },
     "output_type": "display_data"
    },
    {
     "data": {
      "text/plain": [
       "\u001b[0;31mOut[0:15]: \u001b[0m((56, 131), (56, 131))"
      ]
     },
     "metadata": {
      "after": null,
      "completed": null,
      "data": {},
      "engine_id": 0,
      "engine_uuid": "e1efc491-7134533c9d3cc85608e6f841",
      "error": null,
      "execute_input": "ctx = solver._ctx\nctx._jac.petscmat.getSizes()\n",
      "execute_result": {
       "data": {
        "text/plain": "((56, 131), (56, 131))"
       },
       "execution_count": 15,
       "metadata": {}
      },
      "follow": null,
      "msg_id": null,
      "outputs": [],
      "received": null,
      "started": null,
      "status": null,
      "stderr": "",
      "stdout": "",
      "submitted": "2024-10-30T18:28:16.664649Z"
     },
     "output_type": "display_data"
    }
   ],
   "source": [
    "%%px --block\n",
    "ctx = solver._ctx\n",
    "ctx._jac.petscmat.getSizes()"
   ]
  }
 ],
 "metadata": {
  "kernelspec": {
   "display_name": "firedrake-real-int32-debug",
   "language": "python",
   "name": "python3"
  },
  "language_info": {
   "codemirror_mode": {
    "name": "ipython",
    "version": 3
   },
   "file_extension": ".py",
   "mimetype": "text/x-python",
   "name": "python",
   "nbconvert_exporter": "python",
   "pygments_lexer": "ipython3",
   "version": "3.12.6"
  },
  "orig_nbformat": 4
 },
 "nbformat": 4,
 "nbformat_minor": 2
}
