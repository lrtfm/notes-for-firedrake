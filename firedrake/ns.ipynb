{
 "cells": [
  {
   "attachments": {},
   "cell_type": "markdown",
   "metadata": {},
   "source": [
    "# NS 方程"
   ]
  },
  {
   "cell_type": "markdown",
   "metadata": {},
   "source": [
    "## 方腔流"
   ]
  },
  {
   "attachments": {},
   "cell_type": "markdown",
   "metadata": {},
   "source": [
    "Navier-Stocks 方程:\n",
    "\\begin{equation}\n",
    "\\left\\{\n",
    "\\begin{aligned}\n",
    "&\\partial_t u - \\mu\\Delta u + (u\\cdot\\nabla)u + \\nabla p = f, && {\\rm in} \\quad \\Omega\\times(0, T]\\\\\n",
    "&\\nabla\\cdot u = 0, && {\\rm in} \\quad \\Omega\\times(0, T]\n",
    "\\end{aligned}\n",
    "\\right.\n",
    "\\end{equation}\n",
    "\n",
    "边界条件除上边界外为滑移边界条件, 上边界速度为 $u=(1, 0)$.\n",
    "初边值条件 0."
   ]
  },
  {
   "cell_type": "code",
   "execution_count": 19,
   "metadata": {},
   "outputs": [],
   "source": [
    "from firedrake import *\n",
    "from firedrake.output import VTKFile as File\n",
    "\n",
    "mu = 1\n",
    "T = 0.25\n",
    "\n",
    "N_S = 16\n",
    "N_T = 128\n",
    "\n",
    "tau = T/N_T\n",
    "h = 1/N_S\n",
    "\n",
    "mesh = RectangleMesh(N_S, N_S, 1, 1)\n",
    "\n",
    "u_0 = as_vector((0, 0))\n",
    "u_D = as_vector((1, 0))\n",
    "f = as_vector([0, 0])"
   ]
  },
  {
   "attachments": {},
   "cell_type": "markdown",
   "metadata": {},
   "source": [
    "## 函数空间"
   ]
  },
  {
   "attachments": {},
   "cell_type": "markdown",
   "metadata": {},
   "source": [
    "采用 MINI 元, 即 P1 $\\times$ P1b.\n",
    "\n",
    "P1b 由 P1 加上 Bubble 组成.\n",
    "\n",
    "`NodalEnrichedElement`, `EnrichedElement`"
   ]
  },
  {
   "attachments": {},
   "cell_type": "markdown",
   "metadata": {},
   "source": [
    "`VectorFunctionSpace` 构造向量空间"
   ]
  },
  {
   "cell_type": "code",
   "execution_count": 20,
   "metadata": {},
   "outputs": [],
   "source": [
    "cell = mesh.ufl_cell()\n",
    "tdim = cell.topological_dimension()\n",
    "\n",
    "# Mini element: P1 X P1b\n",
    "P1 = FiniteElement(\"CG\", cell, 1)\n",
    "B = FiniteElement(\"B\", cell, tdim+1)\n",
    "P1b = P1 + B # or P1b = NodalEnrichedElement(P1, B)\n",
    "\n",
    "V_u = VectorFunctionSpace(mesh, P1b)\n",
    "V_p = FunctionSpace(mesh, \"CG\", 1)\n",
    "V = MixedFunctionSpace([V_u, V_p])"
   ]
  },
  {
   "attachments": {},
   "cell_type": "markdown",
   "metadata": {},
   "source": [
    "## 弱形式\n",
    "\n",
    "线性格式:\n",
    "\\begin{equation}\n",
    "\\left\\{\n",
    "    \\begin{aligned}\n",
    "        &\\frac{1}{\\tau}(u^n - u^{n-1}, v) + \\mu(\\nabla u^n, \\nabla v) + \n",
    "          \\frac{1}{2}(((u^{n-1}\\cdot\\nabla)u^n, v) - ((u^{n-1}\\cdot\\nabla)v, u^n)) - (p^n, \\nabla\\cdot v) = (f^n, v)\\\\\n",
    "        &(q, \\nabla\\cdot u^n) = 0\n",
    "    \\end{aligned}\n",
    "\\right.\n",
    "\\end{equation}\n",
    "\n",
    "非线性格式\n",
    "\\begin{equation}\n",
    "\\left\\{\n",
    "    \\begin{aligned}\n",
    "        &\\frac{1}{\\tau}(u^n - u^{n-1}, v) + \\mu(\\nabla u^n, \\nabla v) + \n",
    "          \\frac{1}{2}(((u^n\\cdot\\nabla)u^n, v) - ((u^n\\cdot\\nabla)v, u^n)) - (p^n, \\nabla\\cdot v) = (f^n, v)\\\\\n",
    "        &(q, \\nabla\\cdot u^n) = 0\n",
    "    \\end{aligned}\n",
    "\\right.\n",
    "\\end{equation}"
   ]
  },
  {
   "attachments": {},
   "cell_type": "markdown",
   "metadata": {},
   "source": [
    "+ `TrialFunctions`, `TestFunctions`: \n",
    "\n",
    "  以 `tuple` 返回函数空间中的试验/测试函数,\n",
    "\n",
    "  主要用于 `MixedFunctionSpace`.\n",
    "  \n",
    "+ `split`\n",
    "    + `split`: 以索引的方式获取 `MixedFunctionSpace` 中函数的分量 (保留 UFL 关联信息, 用于定义变分形式)"
   ]
  },
  {
   "attachments": {},
   "cell_type": "markdown",
   "metadata": {},
   "source": [
    "由于该问题是非线性问题, 我们打算用 `NonlinearVariationalSolver` 进行求解, 所以下面定义 `w` 使用了 `Function` 而不是 `TrialFunction`/`TrialFunctions`."
   ]
  },
  {
   "cell_type": "code",
   "execution_count": 21,
   "metadata": {},
   "outputs": [],
   "source": [
    "w = Function(V) # u and p\n",
    "u, p = split(w)\n",
    "\n",
    "v, q = TestFunctions(V)\n",
    "\n",
    "w_nm1 = Function(V)\n",
    "u_nm1, p_nm1 = w_nm1.subfunctions\n",
    "u_nm1.rename('u_h') # for visualization in paraview\n",
    "p_nm1.rename('p_h')\n",
    "\n",
    "F = (\n",
    "      Constant(1/tau)*inner(u - u_nm1, v)*dx\n",
    "    + mu*inner(grad(u), grad(v))*dx\n",
    "    + 1/2*inner(dot(grad(u), u/2), v)*dx\n",
    "    - 1/2*inner(dot(grad(v), u/2), u)*dx\n",
    "    - p*div(v)*dx\n",
    "    + div(u)*q*dx\n",
    "    - inner(f, v)*dx(domain=mesh)\n",
    ")"
   ]
  },
  {
   "attachments": {},
   "cell_type": "markdown",
   "metadata": {},
   "source": [
    "## 定义 Solver"
   ]
  },
  {
   "attachments": {},
   "cell_type": "markdown",
   "metadata": {},
   "source": [
    "类似于纯 Neumann 问题, 我们将使用 `nullspace` 参数.\n",
    "\n",
    "注意下面混合空间中, 边界条件和 `nullspace` 的定义."
   ]
  },
  {
   "cell_type": "code",
   "execution_count": 36,
   "metadata": {},
   "outputs": [],
   "source": [
    "bc1 = DirichletBC(V.sub(0).sub(0), 0, (1, 2))\n",
    "bc2 = DirichletBC(V.sub(0).sub(1), 0, (3, 4))\n",
    "bc3 = DirichletBC(V.sub(0).sub(0), 1, 4)  # upper boundary\n",
    "\n",
    "nullspace = MixedVectorSpaceBasis(V, [V.sub(0), VectorSpaceBasis(constant=True, comm=mesh.comm)])\n",
    "\n",
    "problem = NonlinearVariationalProblem(F, w, bcs=[bc1, bc2, bc3])  # F = 0\n",
    "solver = NonlinearVariationalSolver(problem,\n",
    "                                    options_prefix='ns',\n",
    "                                    solver_parameters=None, # {'snes_converged_reason': None, 'snes_max_it': 100},\n",
    "                                    nullspace=nullspace\n",
    "                                   )"
   ]
  },
  {
   "attachments": {},
   "cell_type": "markdown",
   "metadata": {},
   "source": [
    "## 时间循环和保存结果到 `pvd` 文件"
   ]
  },
  {
   "cell_type": "code",
   "execution_count": 37,
   "metadata": {},
   "outputs": [
    {
     "name": "stderr",
     "output_type": "stream",
     "text": [
      "\u001b[?25l\r"
     ]
    },
    {
     "name": "stderr",
     "output_type": "stream",
     "text": [
      "Time ▣▣▣▣▣▣▣▣▣▣▣▣▣▣▣▣▣▣▣▣▣▣▣▣▣▣▣▣▣▣▣▣▣▣▣▣▣▣▣▣▣▣▣▣▣▣▣▣▣▣ 128/128 [0:00:07]\n",
      "\u001b[?25h"
     ]
    }
   ],
   "source": [
    "u_, p_ = w.subfunctions\n",
    "\n",
    "output = File('pvd/ns-equation.pvd')\n",
    "\n",
    "u_nm1.assign(0)\n",
    "output.write(u_nm1, p_nm1, time=0)\n",
    "\n",
    "# for i in range(N_T):\n",
    "for i in ProgressBar('Time').iter(range(N_T)):\n",
    "    t = tau*(i+1)\n",
    "    \n",
    "    solver.solve()\n",
    "    \n",
    "    u_nm1.assign(u_)\n",
    "    p_nm1.assign(p_)\n",
    "\n",
    "    if (i+1)%32 == 0:\n",
    "        output.write(u_nm1, p_nm1, time=t)"
   ]
  },
  {
   "cell_type": "markdown",
   "metadata": {},
   "source": [
    "## TODO: 随时间变系数问题"
   ]
  },
  {
   "cell_type": "markdown",
   "metadata": {},
   "source": [
    "```\n",
    "from firedrake import *\n",
    "c = Constant(0)\n",
    "\n",
    "for i in range(5):\n",
    "    c.assign(i*0.1)\n",
    "    print(f\"i = {i}, c = {c}\")\n",
    "```"
   ]
  },
  {
   "attachments": {},
   "cell_type": "markdown",
   "metadata": {},
   "source": [
    "## ParaView 可视化计算结果"
   ]
  },
  {
   "attachments": {},
   "cell_type": "markdown",
   "metadata": {},
   "source": [
    "Pipeline 和 Filter\n",
    "\n",
    "### 二维结果 (surf 图)\n",
    "\n",
    "Filter: Wrap by scalar\n",
    "\n",
    "### 选择部分区域显示\n",
    "\n",
    "View -> Find Data\n",
    "\n"
   ]
  },
  {
   "attachments": {},
   "cell_type": "markdown",
   "metadata": {},
   "source": [
    "### 并行数据显示各进程区域\n",
    "\n",
    "Filter -> Connectivity"
   ]
  }
 ],
 "metadata": {
  "kernelspec": {
   "display_name": "firedrake-real-int32-debug",
   "language": "python",
   "name": "python3"
  },
  "language_info": {
   "codemirror_mode": {
    "name": "ipython",
    "version": 3
   },
   "file_extension": ".py",
   "mimetype": "text/x-python",
   "name": "python",
   "nbconvert_exporter": "python",
   "pygments_lexer": "ipython3",
   "version": "3.11.8"
  },
  "orig_nbformat": 4
 },
 "nbformat": 4,
 "nbformat_minor": 2
}
