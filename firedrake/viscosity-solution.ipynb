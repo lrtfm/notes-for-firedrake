{
 "cells": [
  {
   "cell_type": "markdown",
   "metadata": {},
   "source": [
    "# Viscosity solution"
   ]
  },
  {
   "cell_type": "code",
   "execution_count": null,
   "metadata": {},
   "outputs": [],
   "source": [
    "from firedrake import *\n",
    "from firedrake.pyplot import triplot, trisurf, tricontourf\n",
    "from matplotlib import pyplot as plt"
   ]
  },
  {
   "cell_type": "code",
   "execution_count": null,
   "metadata": {},
   "outputs": [],
   "source": [
    "# mesh = IntervalMesh(4, -1, 1)\n",
    "mesh = RectangleMesh(64, 64, 1, 1)\n",
    "U = FunctionSpace(mesh, 'CG', 1)\n",
    "\n",
    "u, v = Function(U), TestFunction(U)\n",
    "\n",
    "eps = Constant(1)\n",
    "F = inner(eps*grad(u), grad(v))*dx + inner(sqrt(inner(grad(u), grad(u))), v)*dx - inner(1, v)*dx\n",
    "bc = DirichletBC(U, 0, 'on_boundary')\n",
    "x, y = SpatialCoordinate(mesh)\n",
    "# u.interpolate((x-1)*(x+1)) # How to choose the initial value?\n",
    "u.interpolate(sin(2*pi*x)*sin(2*pi*y))\n",
    "# plot(mesh.coordinates.dat.data, u.dat.data)\n",
    "prob = NonlinearVariationalProblem(F, u, bcs=bc)\n",
    "solver = NonlinearVariationalSolver(\n",
    "    prob,\n",
    "    options_prefix='test',\n",
    "    solver_parameters={\n",
    "        # 'snes_view': None,\n",
    "        # 'mat_view': None,\n",
    "        'snes_monitor': None,\n",
    "        'pc_factor_mat_solver_type': 'superlu_dist',\n",
    "        'ksp_error_if_not_converged': None,\n",
    "    })"
   ]
  },
  {
   "cell_type": "code",
   "execution_count": null,
   "metadata": {},
   "outputs": [],
   "source": [
    "for i in range(10):\n",
    "    eps.assign(2**(-i))\n",
    "    solver.solve()\n",
    "\n",
    "# plot(mesh.coordinates.dat.data, u.dat.data)"
   ]
  },
  {
   "cell_type": "code",
   "execution_count": null,
   "metadata": {},
   "outputs": [],
   "source": [
    "fig, ax = plt.subplots()\n",
    "v = tricontourf(u, axes=ax)\n",
    "fig.colorbar(v)"
   ]
  },
  {
   "cell_type": "code",
   "execution_count": null,
   "metadata": {},
   "outputs": [],
   "source": []
  }
 ],
 "metadata": {
  "language_info": {
   "name": "python"
  }
 },
 "nbformat": 4,
 "nbformat_minor": 2
}
