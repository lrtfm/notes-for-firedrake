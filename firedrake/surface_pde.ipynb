{
 "cells": [
  {
   "attachments": {},
   "cell_type": "markdown",
   "metadata": {},
   "source": [
    "# Surface problems"
   ]
  },
  {
   "attachments": {},
   "cell_type": "markdown",
   "metadata": {},
   "source": [
    "## Line in plane"
   ]
  },
  {
   "attachments": {},
   "cell_type": "markdown",
   "metadata": {},
   "source": [
    "### Cell orientation for line in plane"
   ]
  },
  {
   "cell_type": "code",
   "execution_count": null,
   "metadata": {},
   "outputs": [],
   "source": [
    "def set_cell_orientations(mesh):\n",
    "    from ufl.classes import ReferenceGrad\n",
    "    import firedrake as fd\n",
    "\n",
    "    V0 = fd.FunctionSpace(mesh, 'DG', 0)\n",
    "    X = fd.SpatialCoordinate(mesh)\n",
    "    flag = fd.Function(V0)\n",
    "    flag.interpolate(fd.dot(X, fd.as_vector((-ReferenceGrad(X)[1, 0], ReferenceGrad(X)[0, 0]))))\n",
    "    cell_orientations = fd.Function(V0, dtype=np.int32)\n",
    "    cell_orientations.dat.data[:] = (flag.dat.data_ro < 0)\n",
    "    mesh.topology._cell_orientations = cell_orientations\n",
    "\n",
    "\n",
    "def plot_orientations_1d(mesh):\n",
    "    import matplotlib.pyplot as plt\n",
    "\n",
    "    plt.figure(figsize=[4, 4])\n",
    "    Vc = mesh.coordinates.function_space()\n",
    "    cell_orientations = mesh.cell_orientations()\n",
    "    for i, index in enumerate(Vc.cell_node_list):\n",
    "        coord = mesh.coordinates.dat.data_ro_with_halos[index].real\n",
    "        o = cell_orientations.dat.data_ro_with_halos[i]\n",
    "\n",
    "        _x = coord[:, 0]\n",
    "        _y = coord[:, 1]\n",
    "        if o > 1/2:\n",
    "            plt.arrow(_x[0], _y[0], (_x[1]-_x[0])/2, (_y[1]-_y[0])/2, head_width=0.05, head_length=0.05, fc='k', ec='k')\n",
    "        else:\n",
    "            plt.arrow(_x[1], _y[1], (_x[0]-_x[1])/2, (_y[0]-_y[1])/2, head_width=0.05, head_length=0.05, fc='k', ec='k')\n",
    "    bbox = plt.axis('equal')"
   ]
  },
  {
   "cell_type": "code",
   "execution_count": null,
   "metadata": {},
   "outputs": [],
   "source": [
    "from firedrake import *\n",
    "import matplotlib.pyplot as plt\n",
    "\n",
    "# mesh = Mesh(\"gmsh/circle_1d.msh\", dim=2)\n",
    "# set_cell_orientations(mesh) \n",
    "\n",
    "mesh = CircleManifoldMesh(16)\n",
    "x = SpatialCoordinate(mesh)\n",
    "# mesh.init_cell_orientations(x)\n",
    "\n",
    "set_cell_orientations(mesh)\n",
    "\n",
    "V = VectorFunctionSpace(mesh, 'CG', degree=1)\n",
    "n_h = Function(V, name='n_h')\n",
    "n_h.project(as_vector([-x[1], x[0]]))\n",
    "\n",
    "plt.figure(figsize=[4, 4])\n",
    "for coord, vector in zip(mesh.coordinates.dat.data_ro.real, n_h.dat.data_ro.real):\n",
    "    plt.arrow(coord[0], coord[1], 0.2*vector[0], 0.2*vector[1], head_width=0.05, head_length=0.05, fc='k', ec='k')\n",
    "bbox = plt.axis('equal')"
   ]
  },
  {
   "cell_type": "code",
   "execution_count": null,
   "metadata": {},
   "outputs": [],
   "source": [
    "def test_cell_orientation_curve():\n",
    "    m = CircleManifoldMesh(3)\n",
    "    x = SpatialCoordinate(m)\n",
    "    # m.init_cell_orientations(x)\n",
    "    set_cell_orientations(m)\n",
    "    \n",
    "    U = VectorFunctionSpace(m, 'CG', degree=1)\n",
    "    V = VectorFunctionSpace(m, 'CG', degree=2)\n",
    "    f = project(CellNormal(m), U)\n",
    "\n",
    "    g = interpolate(f, V)\n",
    "    h = project(f, V)\n",
    "\n",
    "    assert abs(g.dat.data - h.dat.data).max() < 1e-2\n",
    "    \n",
    "    print(g.dat.data - h.dat.data)"
   ]
  },
  {
   "cell_type": "code",
   "execution_count": null,
   "metadata": {},
   "outputs": [],
   "source": [
    "test_cell_orientation_curve()"
   ]
  },
  {
   "attachments": {},
   "cell_type": "markdown",
   "metadata": {},
   "source": [
    "## Surface in 3D space"
   ]
  }
 ],
 "metadata": {
  "language_info": {
   "name": "python"
  }
 },
 "nbformat": 4,
 "nbformat_minor": 2
}
