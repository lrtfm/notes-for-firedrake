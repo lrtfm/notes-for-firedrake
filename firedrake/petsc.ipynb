{
 "cells": [
  {
   "cell_type": "markdown",
   "metadata": {},
   "source": [
    "# PETSc\n",
    "\n",
    "> PETSc, the Portable, Extensible Toolkit for Scientific Computation, pronounced\n",
    "> PET-see (/ˈpɛt-siː/), is for the scalable (parallel) solution of scientific\n",
    "> applications modeled by partial differential equations."
   ]
  },
  {
   "cell_type": "markdown",
   "metadata": {},
   "source": [
    "\n",
    "PETSc 是由阿贡国家实验室开发的便携可扩展科学计算工具包, 提供了并行求解大规模方程组的许多算法, 并且可调用外部包对方程组进行求解.\n",
    "另外, PETSc 也提供了用于数值求解偏微分方程的组件, 包括结构化网格数据结构, 非结构化网格数据结构, 和有限元空间等.\n",
    "\n",
    "`Firedrake` 可以看作是 `PETSc` 的高层次封装. 在 Firedrake 中, 一般无需操作 `PETSc` 对象, 但有些特殊情况必须直接操纵 PETSc 对象, 并且有时候直接操纵 `PETSc` 对象会更高效.\n",
    "\n",
    "`PETSc` 是 c 语言包, 也提供了 Fortran 接口. `petsc4py` 是 `PETSc` 的 `python` 封装.\n",
    "\n",
    "学习 PETSc 可以从 Texas Advanced Computing Center (TACC) 发布的 PETSc 入门课程开始\n",
    "\n",
    "1. 视频: https://youtu.be/4Y8g-DcTreY \n",
    "2. 讲义: https://web.corral.tacc.utexas.edu/CompEdu/pdf/pcse/petsc_p_course.pdf\n",
    "\n",
    "PETSc 网站的手册和入门讲义\n",
    "\n",
    "1. 手册: https://petsc.org/release/manual/\n",
    "2. 入门讲义: https://petsc.org/release/tutorials/\n",
    "    + https://petsc.org/release/tutorials/guide_to_examples_by_physics/\n",
    "    + https://petsc.org/release/tutorials/handson/\n",
    "3. C/Fortran API: https://petsc.org/release/manualpages/\n",
    "    + DMPlex: https://petsc.org/release/manualpages/DMPlex/\n",
    "    + PetscSection: https://petsc.org/release/manualpages/PetscSection/\n",
    "    + KSP: https://petsc.org/release/manualpages/KSP/\n",
    "    + Visualization: https://petsc.org/release/manualpages/Visualization/\n",
    "4. petsc4py: https://petsc.org/release/petsc4py/\n",
    "    + https://petsc.org/release/petsc4py/reference.html\n",
    "    + https://petsc.org/release/petsc4py/petsc_python_types.html\n",
    "    + https://petsc.org/release/petsc4py/petsc_options.html\n",
    "\n",
    "PETSc 代码库有许多示例可以作为学习材料, 如 PETSc 仓库中 petsc4py 的示例:\n",
    "\n",
    "1. https://gitlab.com/petsc/petsc/-/tree/main/src/binding/petsc4py/demo\n"
   ]
  },
  {
   "cell_type": "markdown",
   "metadata": {},
   "source": [
    "\n",
    "````{tip}\n",
    "PETSc 目录中有用的工具, 如 `h5dump`, `petsc_gen_xdmf.py`, `PetscBinaryIO.py` 等.\n",
    "\n",
    "在 PETSc 环境中, 运行如下命令添加这些工具所在路径到 `PATH`:\n",
    "```bash\n",
    "export PATH=\"$PATH:$PETSC_DIR/lib/petsc/bin\"\n",
    "export PATH=\"$PATH:$PETSC_DIR/${PETSC_ARCH-default}/bin\"\n",
    "```\n",
    "\n",
    "在激活的 Firedrake 环境可以运行如下命令的输出, 添加工具所在路径到环境变量 `PATH`.\n",
    "```bash\n",
    "python -c \"from firedrake import *; \\\n",
    "           import os; \\\n",
    "           PETSC_DIR = os.environ['PETSC_DIR']; \\\n",
    "           PETSC_ARCH = os.environ['PETSC_ARCH']; \\\n",
    "           print('\\nRun the follwoing code to add petsc/bin to path:\\n'); \\\n",
    "           print(f'  export PATH=\\\"\\$PATH:{PETSC_DIR}/lib/petsc/bin\\\"'); \\\n",
    "           print(f'  export PATH=\\\"\\$PATH:{PETSC_DIR}/{PETSC_ARCH}/bin\\\"'); \\\n",
    "           print('');\"\n",
    "```\n",
    "````\n"
   ]
  },
  {
   "cell_type": "markdown",
   "metadata": {},
   "source": [
    "## Vector and Matirx\n",
    "\n",
    "保存矩阵到文件: [matvecio.py](https://gitlab.com/petsc/petsc/-/blob/main/src/binding/petsc4py/demo/binary-io/matvecio.py)"
   ]
  },
  {
   "cell_type": "code",
   "execution_count": null,
   "metadata": {},
   "outputs": [],
   "source": [
    "from firedrake import *\n",
    "from firedrake.petsc import PETSc\n",
    "\n",
    "test_mesh = RectangleMesh(nx=4, ny=4, Lx=1, Ly=1)\n",
    "x, y = SpatialCoordinate(test_mesh)\n",
    "f = sin(pi*x)*sin(pi*y)\n",
    "\n",
    "V = FunctionSpace(test_mesh, 'CG', degree=1)\n",
    "\n",
    "u, v = TrialFunction(V), TestFunction(V)\n",
    "\n",
    "a = inner(grad(u), grad(v))*dx\n",
    "L = inner(f, v)*dx"
   ]
  },
  {
   "cell_type": "code",
   "execution_count": null,
   "metadata": {},
   "outputs": [],
   "source": [
    "A = assemble(a)\n",
    "b = assemble(L)\n",
    "type(A), type(b)"
   ]
  },
  {
   "cell_type": "markdown",
   "metadata": {},
   "source": [
    "### Matrix"
   ]
  },
  {
   "cell_type": "code",
   "execution_count": null,
   "metadata": {},
   "outputs": [],
   "source": [
    "type(A.petscmat)"
   ]
  },
  {
   "cell_type": "markdown",
   "metadata": {},
   "source": [
    "单进程运行且矩阵不大时, 可以把 PETSc 矩阵转换为 `numpy` 数组"
   ]
  },
  {
   "cell_type": "code",
   "execution_count": null,
   "metadata": {},
   "outputs": [],
   "source": [
    "import numpy as np\n",
    "from scipy.sparse import csr_matrix\n",
    "\n",
    "m, n = A.petscmat.getSize()\n",
    "indptr, indices, data = A.petscmat.getValuesCSR()\n",
    "\n",
    "A_numpy = csr_matrix((data, indices, indptr), shape=(m, n)).toarray()"
   ]
  },
  {
   "cell_type": "code",
   "execution_count": null,
   "metadata": {},
   "outputs": [],
   "source": [
    "A.petscmat.getRow(0), A_numpy[0, :]"
   ]
  },
  {
   "cell_type": "markdown",
   "metadata": {},
   "source": [
    "保存矩阵到文件 MatViewFromOptions\n",
    "\n",
    "https://petsc.org/main/manualpages/Mat/MatViewFromOptions/\n",
    "\n",
    "在代码中加入如下行\n",
    "\n",
    "```python\n",
    "A.petscmat.viewFromOptions('-A_view')\n",
    "```\n",
    "\n",
    "那么在命令行可以通过选项 `-A_view binary:A.bin` 保存 `A` 到文件 `A.bin`."
   ]
  },
  {
   "cell_type": "markdown",
   "metadata": {},
   "source": [
    "### Convert petsc matrix to csr_matrix and compute determinant"
   ]
  },
  {
   "cell_type": "markdown",
   "metadata": {},
   "source": [
    "```python\n",
    "# %load py/poisson_example1.py\n",
    "from firedrake import *\n",
    "from firedrake.petsc import PETSc\n",
    "from scipy.sparse import csr_matrix\n",
    "from scipy.sparse.linalg import splu\n",
    "import numpy as np\n",
    "\n",
    "N = 8\n",
    "test_mesh = RectangleMesh(nx=N, ny=N, Lx=1, Ly=1)\n",
    "x, y = SpatialCoordinate(test_mesh)\n",
    "f = sin(pi*x)*sin(pi*y)\n",
    "g = Constant(0)\n",
    "\n",
    "V = FunctionSpace(test_mesh, 'CG', degree=1)\n",
    "\n",
    "u, v = TrialFunction(V), TestFunction(V)\n",
    "\n",
    "a = inner(grad(u), grad(v))*dx\n",
    "L = inner(f, v)*dx                    # or f*v*dx\n",
    "\n",
    "bc = DirichletBC(V, g=g, sub_domain='on_boundary')\n",
    "\n",
    "u_h = Function(V, name='u_h')\n",
    "\n",
    "problem = LinearVariationalProblem(a, L, u_h, bcs=bc)\n",
    "solver = LinearVariationalSolver(problem, options_prefix='')\n",
    "\n",
    "solver.solve()\n",
    "\n",
    "ksp = solver.snes.getKSP()\n",
    "A, P = ksp.getOperators()\n",
    "\n",
    "m, n = A.getSize()\n",
    "indptr, indices, data = A.getValuesCSR()\n",
    "\n",
    "A_numpy = csr_matrix((data, indices, indptr), shape=(m, n)).toarray()\n",
    "\n",
    "print(A_numpy)\n",
    "print(data)\n",
    "\n",
    "lu = splu(A_numpy)\n",
    "diagL = lu.L.diagonal()\n",
    "diagU = lu.U.diagonal()\n",
    "det=diagL.prod()*diagU.prod()\n",
    "print(det)\n",
    "```\n",
    "\n",
    "```bash\n",
    "mpiexec --bind-to none -n 1 \\\n",
    "        python3 a.py \\\n",
    "        -ksp_view \\\n",
    "        -ksp_error_if_not_converged \\\n",
    "        -mat_mumps_icntl_33 1 \\\n",
    "        -mat_mumps_icntl_4 4 \\\n",
    "        -ksp_monitor 2>&1 | tee \"my-$(date +%Y%m%d-%H:%M:%S).log\"\n",
    "```"
   ]
  },
  {
   "cell_type": "markdown",
   "metadata": {},
   "source": [
    "### Vector"
   ]
  },
  {
   "cell_type": "code",
   "execution_count": null,
   "metadata": {},
   "outputs": [],
   "source": [
    "with b.dat.vec_ro as vec:\n",
    "    print(type(vec))"
   ]
  },
  {
   "cell_type": "markdown",
   "metadata": {},
   "source": [
    "### ISLocalToGlobalMapping"
   ]
  },
  {
   "cell_type": "markdown",
   "metadata": {},
   "source": [
    "Create a local to global map"
   ]
  },
  {
   "cell_type": "code",
   "execution_count": null,
   "metadata": {},
   "outputs": [],
   "source": [
    "import firedrake as fd\n",
    "from firedrake.petsc import PETSc\n",
    "from pyop2.datatypes import IntType, ScalarType\n",
    "import numpy as np\n",
    "\n",
    "\n",
    "rank = COMM_WORLD.rank\n",
    "\n",
    "owned_sz = np.array(rank+3, dtype=IntType)\n",
    "offset = np.empty_like(owned_sz)\n",
    "COMM_WORLD.Scan(owned_sz, offset)\n",
    "offset -= owned_sz\n",
    "indices = np.arange(offset, offset + owned_sz, dtype=IntType)\n",
    "\n",
    "\n",
    "lgmap = PETSc.LGMap()\n",
    "lgmap.create(indices, bsize=1, comm=COMM_WORLD)\n",
    "lgmap.view()"
   ]
  },
  {
   "cell_type": "markdown",
   "metadata": {},
   "source": [
    "## KSP"
   ]
  },
  {
   "cell_type": "markdown",
   "metadata": {},
   "source": [
    "自定义 KSP 进行线性方程组求解请参考 PETSc 的文档\n",
    "\n",
    "1. 求解完成需要检查是否收敛"
   ]
  },
  {
   "cell_type": "code",
   "execution_count": null,
   "metadata": {},
   "outputs": [],
   "source": [
    "from firedrake.exceptions import ConvergenceError\n",
    "from firedrake.petsc import PETSc\n",
    "from firedrake.solving_utils import KSPReasons\n",
    "import numpy as np\n",
    "\n",
    "try:\n",
    "    from petsctools.options import OptionsManager\n",
    "except ImportError:\n",
    "    from firedrake.petsc import OptionsManager\n",
    "\n",
    "def _make_reasons(reasons):\n",
    "    return dict([(getattr(reasons, r), r)\n",
    "                 for r in dir(reasons) if not r.startswith('_')])\n",
    "\n",
    "PCFailedReason = _make_reasons(PETSc.PC.FailedReason())\n",
    "\n",
    "def get_ksp_reason(ksp):\n",
    "    r = ksp.getConvergedReason()\n",
    "    pc = ksp.getPC()\n",
    "    r_pc = pc.getFailedReason()\n",
    "    return KSPReasons[r], PCFailedReason[r_pc]\n",
    "\n",
    "A = PETSc.Mat()\n",
    "A.create(PETSc.COMM_WORLD)\n",
    "A.setSizes([2, 2])\n",
    "A.setType('aij') # sparse\n",
    "# A.setPreallocationNNZ(4)\n",
    "A.setUp()\n",
    "A.setValue(1, 0, 1)\n",
    "A.setValue(0, 1, np.inf) # to make the solver failed\n",
    "A.assemble()\n",
    "\n",
    "ksp = PETSc.KSP().create()\n",
    "ksp.setOperators(A) # solve A*x=b by ksp.solve(b,x)\n",
    "\n",
    "om = OptionsManager(\n",
    "    {\n",
    "        'ksp_type': 'preonly',\n",
    "        'pc_type': 'lu',\n",
    "        # 'ksp_view': None,\n",
    "        'pc_factor_mat_solver_type': 'mumps',\n",
    "        # 'ksp_error_if_not_converged': None,\n",
    "    },\n",
    "    options_prefix='test')\n",
    "om.set_from_options(ksp)\n",
    "\n",
    "x, b = A.createVecs()\n",
    "b.setValue(0, 1)\n",
    "# ksp.view()\n",
    "with om.inserted_options():\n",
    "    try:\n",
    "        ksp.solve(b, x)\n",
    "        r = ksp.getConvergedReason()\n",
    "        if r < 0:\n",
    "            raise ConvergenceError(KSPReasons[r])\n",
    "    except ConvergenceError as e:\n",
    "        r, r_pc = get_ksp_reason(ksp)\n",
    "        PETSc.Sys.Print(f\"Error: solver did not converged: {r}, PC: {r_pc}\")\n",
    "    except PETSc.Error as e:\n",
    "        if e.ierr == 91: # https://petsc.org/release/include/petscerror.h.html\n",
    "            PETSc.Sys.Print(f\"Error from PETSc: solver did not converged: {KSPReasons[ksp.getConvergedReason()]}\")\n",
    "        elif e.ierr == 76:\n",
    "            PETSc.Sys.Print(f\"Error from PETSc:\")\n",
    "            PETSc.Sys.Print(f\"  ksp reason: {KSPReasons[ksp.getConvergedReason()]}\")\n",
    "            PETSc.Sys.Print(f\"  error in library called by PETSc:\")\n",
    "            PETSc.Sys.Print(\" \"*4 + str(e).replace(\"\\n\", \"\\n\" + \" \"*4))\n",
    "        # We should terminate the process when an error occured in petsc\n",
    "        # as suggested by Matt https://lists.mcs.anl.gov/pipermail/petsc-users/2023-March/048146.html\n",
    "        raise    "
   ]
  },
  {
   "cell_type": "markdown",
   "metadata": {},
   "source": [
    "2. 查看特征值和残差变化, 并保存图片\n",
    "\n",
    "```bash\n",
    "python test.py -ksp_type gmres -pc_type jacobi -ksp_view_eigenvalues draw -ksp_monitor draw::draw_lg -draw_save .png\n",
    "```"
   ]
  },
  {
   "cell_type": "markdown",
   "metadata": {},
   "source": [
    "### Check ksp status in Firedrake"
   ]
  },
  {
   "cell_type": "code",
   "execution_count": null,
   "metadata": {},
   "outputs": [],
   "source": [
    "from firedrake import *\n",
    "from firedrake.petsc import PETSc\n",
    "from firedrake.solving_utils import KSPReasons\n",
    "import numpy as np\n",
    "\n",
    "def printf(*args, **kwargs):\n",
    "    PETSc.Sys.Print(*args, **kwargs)\n",
    "\n",
    "def get_ksp_reason(solver):\n",
    "    r = solver.snes.getKSP().getConvergedReason()\n",
    "    return KSPReasons[r]\n",
    "\n",
    "rank, size = COMM_WORLD.rank, COMM_WORLD.size\n",
    "\n",
    "opts = PETSc.Options()\n",
    "N = opts.getInt('N', 32*size)\n",
    "\n",
    "test_mesh = RectangleMesh(nx=N, ny=N, Lx=1, Ly=1)\n",
    "x, y = SpatialCoordinate(test_mesh)\n",
    "f = sin(pi*x)*sin(pi*y)\n",
    "\n",
    "V = FunctionSpace(test_mesh, 'CG', degree=1)\n",
    "u, v = TrialFunction(V), TestFunction(V)\n",
    "a = inner(grad(u), grad(v))*dx - inner(f, v)*dx\n",
    "bc = DirichletBC(V, 0, sub_domain='on_boundary')\n",
    "\n",
    "u_h = Function(V, name='u_h')\n",
    "problem = LinearVariationalProblem(lhs(a), rhs(a), u_h, bcs=bc)\n",
    "\n",
    "solver_parameters = {'ksp_type': 'cg',\n",
    "                     'ksp_max_it': 4,\n",
    "                     'ksp_converged_reason': None,\n",
    "                     # 'ksp_error_if_not_converged': None,\n",
    "                     'pc_type': 'none'}\n",
    "solver = LinearVariationalSolver(problem, solver_parameters=solver_parameters, options_prefix='')\n",
    "\n",
    "for i in range(3):\n",
    "    printf(f\"Loop i = {i}\")\n",
    "    try:\n",
    "        solver.solve()\n",
    "    except ConvergenceError:\n",
    "        printf(f\"  Error from Firedrake: solver did not converged: {get_ksp_reason(solver)}\")\n",
    "    except PETSc.Error as e:\n",
    "        if e.ierr == 91: # https://petsc.org/release/include/petscerror.h.html\n",
    "            printf(f\"  Error from PETSc: solver did not converged: {get_ksp_reason(solver)}\")\n",
    "        elif e.ierr == 76:\n",
    "            PETSc.Sys.Print(f\"Error from PETSc:\")\n",
    "            PETSc.Sys.Print(f\"  ksp reason: {KSPReasons[ksp.getConvergedReason()]}\")\n",
    "            PETSc.Sys.Print(f\"  error in library called by PETSc:\")\n",
    "            PETSc.Sys.Print(\" \"*4 + str(e).replace(\"\\n\", \"\\n\" + \" \"*4))\n",
    "        # We should terminate the process when an error occured in petsc\n",
    "        # as suggested by Matt https://lists.mcs.anl.gov/pipermail/petsc-users/2023-March/048146.html\n",
    "        raise"
   ]
  },
  {
   "cell_type": "markdown",
   "metadata": {
    "tags": [
     "dmplex"
    ]
   },
   "source": [
    "## DMPlex"
   ]
  },
  {
   "cell_type": "markdown",
   "metadata": {},
   "source": [
    "`DMPlex` 是管理非结构化网格的数据结构, 内部使用有向无环图表示网格的拓扑关系 {cite}`LangeMitchellKnepleyGorman2016,HaplaKnepleyAfanasievBoehmEtAl2021`.\n",
    "`DMPlex` 中的 `Plex` 表示 `Complex`. 并行计算时, 网格会被划分成不同的块, 分配到各个进程."
   ]
  },
  {
   "cell_type": "markdown",
   "metadata": {},
   "source": [
    "### 网格粗化\n",
    "\n",
    "```python\n",
    "import sys\n",
    "import petsc4py\n",
    "petsc4py.init(sys.argv)\n",
    "from petsc4py import PETSc\n",
    "\n",
    "def output_vtk(dmplex, filename):\n",
    "    viewer = PETSc.Viewer().createVTK(filename, 'w')\n",
    "    viewer.view(dmplex)\n",
    "\n",
    "opts = PETSc.Options()\n",
    "N = opts.getInt('N', 4)\n",
    "dim = opts.getInt('dim', 3)\n",
    "overlap = opts.getInt('overlap', 1)\n",
    "\n",
    "faces = [N for _ in range(dim)]\n",
    "plex = PETSc.DMPlex().createBoxMesh(faces, simplex=True)\n",
    "plex.setName('Init DM')\n",
    "plex.viewFromOptions('-init_dm_view')\n",
    "\n",
    "sf = plex.distribute(overlap=overlap)\n",
    "plex.setName('Distribue DM')\n",
    "plex.viewFromOptions('-dist_dm_view')\n",
    "\n",
    "new_plex = plex.coarsen()\n",
    "new_plex.setName('Coarsen DM')\n",
    "new_plex.viewFromOptions('-coarsen_dm_view')\n",
    "\n",
    "# mpiexec -n 2 python test_coarsen.py -dim 3 -overlap 0 -dm_adaptor parmmg -coarsen_dm_view vtk:data/test.vtu\n",
    "```"
   ]
  },
  {
   "cell_type": "markdown",
   "metadata": {},
   "source": [
    "## Viewer\n",
    "\n",
    "1. https://petsc.org/main/manualpages/Sys/PetscObjectViewFromOptions/\n",
    "\n",
    "Option values for Viewer:\n",
    "\n",
    "```bash\n",
    "If no value is provided ascii:stdout is used\n",
    "\n",
    "ascii[:[filename][:[format][:append]]]    defaults to stdout - format can be one of ascii_info, ascii_info_detail, or ascii_matlab,\n",
    "                                          for example ascii::ascii_info prints just the information about the object not all details\n",
    "                                          unless :append is given filename opens in write mode, overwriting what was already there\n",
    "binary[:[filename][:[format][:append]]]   defaults to the file binaryoutput\n",
    "draw[:drawtype[:filename]]                for example, draw:tikz, draw:tikz:figure.tex or draw:x\n",
    "socket[:port]                             defaults to the standard output port\n",
    "saws[:communicatorname]                   publishes object to the Scientific Application \n",
    "                                          Webserver (SAWs)\n",
    "```\n",
    "\n",
    "2. https://petsc.org/main/manualpages/Draw/PetscDrawSetFromOptions/\n",
    "\n",
    "\n",
    "```bash\n",
    "-nox                                        - do not use X graphics (ignore graphics calls, but run program correctly)\n",
    "-nox_warning                                - when X Windows support is not installed this prevents the warning message from being printed\n",
    "-draw_pause <pause amount>                 -- -1 indicates wait for mouse input, \n",
    "                                              -2 indicates pause when window is to be destroyed\n",
    "-draw_marker_type - <x,point>\n",
    "-draw_save [optional filename]              - (X Windows only) saves each image before it is cleared to a file\n",
    "-draw_save_final_image [optional filename]  - (X Windows only) saves the final image displayed in a window\n",
    "-draw_save_movie                            - converts image files to a movie  at the end of the run. See PetscDrawSetSave()\n",
    "-draw_save_single_file                      - saves each new image in the same file, normally each new image is saved in a new file with 'filename/filename_%d.ext'\n",
    "-draw_save_on_clear                         - saves an image on each clear, mainly for debugging\n",
    "-draw_save_on_flush                         - saves an image on each flush, mainly for debugging\n",
    "```"
   ]
  },
  {
   "cell_type": "markdown",
   "metadata": {},
   "source": [
    "### Load mesh file and view (petsc4py)"
   ]
  },
  {
   "cell_type": "code",
   "execution_count": null,
   "metadata": {},
   "outputs": [],
   "source": [
    "import os\n",
    "import sys\n",
    "import petsc4py\n",
    "petsc4py.init(sys.argv)\n",
    "\n",
    "from petsc4py import PETSc\n",
    "import numpy as np\n",
    "\n",
    "dm = PETSc.DMPlex().createFromFile('gmsh/Lshape.msh', plexname='test')\n",
    "dm.view()\n",
    "\n",
    "# make sure dir \"data\" exists\n",
    "os.makedirs(\"data\", exist_ok=True)\n",
    "\n",
    "# hdf5 for load\n",
    "viewer = PETSc.Viewer().createHDF5('data/Lshape.h5', mode='w')\n",
    "viewer(dm)\n",
    "\n",
    "# hdf5 for visualization:\n",
    "# You can generate xdmf file from this file by\n",
    "#     `petsc/lib/petsc/bin/petsc_gen_xdmf.py`\n",
    "# Then load the xdmf file to paraview to visualize the mesh.\n",
    "viewer = PETSc.Viewer().createHDF5('data/Lshape_xdmf.h5', mode='w')\n",
    "viewer.pushFormat(viewer.Format.HDF5_XDMF)\n",
    "viewer(dm)\n",
    "viewer.popFormat()\n",
    "\n",
    "# vtk file\n",
    "viewer = PETSc.Viewer().createVTK('data/Lshape.vtk', mode='w')\n",
    "viewer(dm)\n",
    "\n",
    "# draw on X window\n",
    "# viewer = PETSc.Viewer().createDraw()\n",
    "# viewer(dm)"
   ]
  },
  {
   "cell_type": "code",
   "execution_count": null,
   "metadata": {},
   "outputs": [],
   "source": [
    "# since the petsc_draw is not in petsc4py, we use options to save the images\n",
    "\n",
    "opts = PETSc.Options()\n",
    "opts_old = opts.getAll()\n",
    "opts.insertString('-dm_view draw:tikz:data/Lshape.tex')\n",
    "dm.viewFromOptions('-dm_view')"
   ]
  },
  {
   "cell_type": "markdown",
   "metadata": {},
   "source": [
    "### View mesh of firedrake by DMPlex"
   ]
  },
  {
   "cell_type": "code",
   "execution_count": null,
   "metadata": {},
   "outputs": [],
   "source": [
    "import ipyparallel as ipp\n",
    "\n",
    "cluster = ipp.Cluster(profile=\"mpi\", n=2)\n",
    "client = cluster.start_and_connect_sync()"
   ]
  },
  {
   "cell_type": "code",
   "execution_count": null,
   "metadata": {},
   "outputs": [],
   "source": [
    "%%px --block\n",
    "from firedrake import *\n",
    "\n",
    "mesh = RectangleMesh(8, 8, 1, 1)\n",
    "mesh.topology_dm.view()"
   ]
  },
  {
   "cell_type": "markdown",
   "metadata": {},
   "source": [
    "## Star Forest 结构体 `PetscSF`\n",
    "\n",
    "`PetscSF` 是 `PETSc` 中用于进程间数据交换的数据结构.\n",
    "它存储了根节点(当前进程上)和叶子节点(任意进程上)的对应关系, 可以把数据从根节点发送到叶子节点, 也可以把数据从叶子节点收集到根节点 {cite}`ZhangBrownBalayFaibussowitschEtAl2022`."
   ]
  },
  {
   "cell_type": "code",
   "execution_count": null,
   "metadata": {},
   "outputs": [],
   "source": [
    "%%px --block\n",
    "from firedrake import *\n",
    "from firedrake.petsc import PETSc\n",
    "\n",
    "from petsc4py import PETSc\n",
    "import numpy as np\n",
    "\n",
    "# 6--------7--------8\n",
    "# |        |        |\n",
    "# 3--------4--------5\n",
    "# |        |        |\n",
    "# 0--------1--------2\n",
    "\n",
    "def test_SFDistributeSection():\n",
    "    comm = COMM_WORLD\n",
    "    if comm.rank == 0:\n",
    "        cells = np.asarray(\n",
    "            [[0, 1, 3],\n",
    "             [1, 2, 4],\n",
    "             [1, 4, 3],\n",
    "             [2, 5, 4],\n",
    "             [3, 4, 6],\n",
    "             [4, 5, 7],\n",
    "             [4, 7, 6],\n",
    "             [5, 8, 7]], dtype=np.int32)\n",
    "        coords = np.asarray(\n",
    "            [[0. , 0. ],\n",
    "             [0.5, 0. ],\n",
    "             [1. , 0. ],\n",
    "             [0. , 0.5],\n",
    "             [0.5, 0.5],\n",
    "             [1.0, 0.5],\n",
    "             [0. , 1. ],\n",
    "             [0.5, 1. ],\n",
    "             [1. , 1. ]], dtype=np.double)\n",
    "    else:\n",
    "        cells = np.zeros([0, 3], dtype=np.int32)\n",
    "        coords = np.zeros([0, 2], dtype=np.double)\n",
    "    dim = 2\n",
    "    plex = PETSc.DMPlex().createFromCellList(dim, cells, coords, comm=comm)\n",
    "    rootSection = PETSc.Section().create(comm=comm)\n",
    "    pStart, pEnd = plex.getHeightStratum(2)\n",
    "    rootSection.setChart(*plex.getChart())\n",
    "    for p in range(pStart, pEnd):\n",
    "        rootSection.setDof(p, 1)\n",
    "    rootSection.setUp()\n",
    "    rootSection.viewFromOptions('-section_view')\n",
    "\n",
    "    dplex = plex.clone()\n",
    "    msf = dplex.distribute()\n",
    "\n",
    "    if msf is None:\n",
    "        PETSc.Sys.Print(\"Warning: plex has not been distributed!\")\n",
    "        return\n",
    "    dplex.viewFromOptions('-dm_view')\n",
    "\n",
    "    def isEqualSF(ssf0, ssf1):\n",
    "        nroots0, local0, remote0 = ssf0.getGraph()\n",
    "        nroots1, local1, remote1 = ssf1.getGraph()\n",
    "        return (nroots0 == nroots1) \\\n",
    "                and np.array_equal(local0, local1) \\\n",
    "                and np.array_equal(remote0, remote1)\n",
    "\n",
    "    remoteOffsets0, leafSection0 = msf.distributeSection(rootSection)\n",
    "    ssf0 = msf.createSectionSF(rootSection, remoteOffsets0, leafSection0)\n",
    "\n",
    "    remoteOffsets1, leafSection1 = msf.distributeSection(rootSection, None)\n",
    "    ssf1 = msf.createSectionSF(rootSection, remoteOffsets1, leafSection1)\n",
    "\n",
    "    leafSection2 = PETSc.Section()\n",
    "    remoteOffsets2, leafSection2 = msf.distributeSection(rootSection, leafSection2)\n",
    "    ssf2 = msf.createSectionSF(rootSection, remoteOffsets2, leafSection2)\n",
    "\n",
    "    leafSection3 = PETSc.Section()\n",
    "    remoteOffsets3, _ = msf.distributeSection(rootSection, leafSection3)\n",
    "    ssf3 = msf.createSectionSF(rootSection, remoteOffsets3, leafSection3)\n",
    "\n",
    "    leafSection4 = PETSc.Section().create(dplex.getComm())\n",
    "    remoteOffsets4, leafSection4 = msf.distributeSection(rootSection, leafSection4)\n",
    "    ssf4 = msf.createSectionSF(rootSection, remoteOffsets4, leafSection4)\n",
    "\n",
    "    leafSection5 = PETSc.Section().create(dplex.getComm())\n",
    "    remoteOffsets5, _ = msf.distributeSection(rootSection, leafSection5)\n",
    "    ssf5 = msf.createSectionSF(rootSection, remoteOffsets5, leafSection5)\n",
    "\n",
    "    assert isEqualSF(ssf0, ssf1)\n",
    "    assert isEqualSF(ssf0, ssf2)\n",
    "    assert isEqualSF(ssf0, ssf3)\n",
    "    assert isEqualSF(ssf0, ssf4)\n",
    "    ssf0.view()\n"
   ]
  },
  {
   "cell_type": "code",
   "execution_count": null,
   "metadata": {},
   "outputs": [],
   "source": [
    "%%px --block\n",
    "# Add back after upgrad the firedrake\n",
    "test_SFDistributeSection()"
   ]
  },
  {
   "cell_type": "markdown",
   "metadata": {},
   "source": [
    "## `PCPatch`"
   ]
  },
  {
   "cell_type": "markdown",
   "metadata": {},
   "source": [
    "\n",
    "`PCPatch` 在单元片上生成的预处理子. 用户可以使用 `PETSc` 提供的单元片类型 (`star`, `vanka`, `pardecomp`), 也可以自行构造.\n",
    "\n",
    "它根据用户输入的关于解向量的 `dm` 和 `sf` 信息, 构造各个单元片上的自由度和全局自由度的对应关系. `PCPatch` 内部有以下变量\n",
    "\n",
    "```c\n",
    "/* Topology */\n",
    "PetscInt     dim, codim;   /* Dimension or codimension of mesh points to loop over; only one of them can be set */\n",
    "PetscSection cellCounts;   /* Maps patch -> # cells in patch */\n",
    "IS           cells;        /* [patch][cell in patch]: Cell number */\n",
    "PetscSection pointCounts;   /* Maps patch -> # points with dofs in patch */\n",
    "IS           points;        /* [patch][point in patch]: Point number */\n",
    "PetscSection intFacetCounts;\n",
    "PetscSection extFacetCounts;\n",
    "PetscSection cellNumbering; /* Plex: NULL Firedrake: Numbering of cells in DM */\n",
    "/* Dof layout */\n",
    "PetscInt      nsubspaces;      /* Number of fields */\n",
    "PetscSF       sectionSF;       /* Combined SF mapping process local to global */\n",
    "PetscSection *dofSection;      /* ?? For each field, patch -> # dofs in patch */\n",
    "PetscInt     *subspaceOffsets; /* Plex: NULL Firedrake: offset of each field in concatenated process local numbering for mixed spaces */\n",
    "PetscInt    **cellNodeMap;     /* [field][cell][dof in cell]: global dofs in cell TODO Free this after its use in PCPatchCreateCellPatchDiscretisationInfo() */\n",
    "IS            dofs;            /* [patch][cell in patch][dof in cell]: patch local dof */\n",
    "IS            offs;            /* [patch][point in patch]: patch local offset (same layout as 'points', used for filling up patchSection) */\n",
    "PetscSection  gtolCounts;               /* ?? Indices to extract from local to patch vectors */\n",
    "IS            gtol;\n",
    "```\n",
    "\n",
    "`gtol` 是从本进程自由度编号 (相对整个解来说是局部自由度, 但相对 patch 为全局自由度) 到单个 patch 上局部自由度的映射.\n",
    "\n",
    "`dofs` Patch 上局部的自由度映射关系 (可以看作 patch 上的 cell_node_map, 和传入的 map 一致)"
   ]
  },
  {
   "cell_type": "markdown",
   "metadata": {},
   "source": [
    "````{only} html or text\n",
    "```{rubric} References\n",
    "```\n",
    "````\n",
    "\n",
    "```{bibliography}\n",
    ":filter: docname in docnames\n",
    "```"
   ]
  }
 ],
 "metadata": {
  "language_info": {
   "name": "python"
  }
 },
 "nbformat": 4,
 "nbformat_minor": 4
}
