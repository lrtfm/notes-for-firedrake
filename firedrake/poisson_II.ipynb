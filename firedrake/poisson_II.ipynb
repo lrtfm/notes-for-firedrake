{
 "cells": [
  {
   "cell_type": "markdown",
   "metadata": {
    "tags": []
   },
   "source": [
    "# Poisson 方程 II"
   ]
  },
  {
   "cell_type": "markdown",
   "metadata": {
    "tags": []
   },
   "source": [
    "## 构造等参元"
   ]
  },
  {
   "cell_type": "markdown",
   "metadata": {},
   "source": [
    "Firedrake 中坐标是通过函数 `Function` 给出的, 可以通过更改该函数的值来移动网格或者构造等参元对应的映射."
   ]
  },
  {
   "cell_type": "markdown",
   "metadata": {},
   "source": [
    "### 修改网格坐标 (移动网格)\n",
    "\n",
    "坐标的存储 (numpy 数组)\n",
    "\n",
    "```python\n",
    "mesh = RectangleMesh(10, 10, 1, 1)\n",
    "mesh.coordinates.dat.data\n",
    "mesh.coordinates.dat.data_ro\n",
    "mesh.coordinates.dat.data_with_halos\n",
    "mesh.coordinates.dat.data_ro_with_halos\n",
    "```\n",
    "\n",
    "单进程运行时 `data` 和 `data_with_halos` 相同. 关于 `halos` 请参考 https://op2.github.io/PyOP2/mpi.html."
   ]
  },
  {
   "cell_type": "code",
   "execution_count": null,
   "metadata": {},
   "outputs": [],
   "source": [
    "from firedrake import RectangleMesh, triplot\n",
    "import numpy as np\n",
    "\n",
    "import matplotlib.pyplot as plt\n",
    "\n",
    "# test_mesh = UnitDiskMesh(refinement_level=3)\n",
    "test_mesh = RectangleMesh(10, 10, 1, 1)\n",
    "\n",
    "fig, ax = plt.subplots(1, 2, figsize=[8, 4])\n",
    "handle = triplot(test_mesh, axes=ax[0])\n",
    "\n",
    "theta = np.pi/6\n",
    "R = np.array([[np.cos(theta), - np.sin(theta)], \n",
    "              [np.sin(theta),   np.cos(theta)]])\n",
    "\n",
    "# test_mesh.coordinates.dat.datas[:] = test_mesh.coordinates.dat.data_ro[:]@R\n",
    "test_mesh.coordinates.dat.data_with_halos[:] = test_mesh.coordinates.dat.data_ro_with_halos[:]@R\n",
    "\n",
    "handle = triplot(test_mesh, axes=ax[1])\n",
    "fig.tight_layout()"
   ]
  },
  {
   "cell_type": "markdown",
   "metadata": {},
   "source": [
    "### 简单映射边界点\n",
    "\n",
    "等参元映射通过更改坐标向量场实现: 从线性网格开始构造, 把边界上的自由度移动到边界上. 以单位圆为例:\n",
    "\n",
    "```python\n",
    "def points2bdy(points):\n",
    "    r = np.linalg.norm(points, axis=1).reshape([-1, 1])\n",
    "    return points/r\n",
    "\n",
    "def make_high_order_mesh_map_bdy(m, p):\n",
    "    coords = m.coordinates\n",
    "    V_p = VectorFunctionSpace(m, 'CG', p)\n",
    "    coords_p = Function(V_p, name=f'coords_p{i}').interpolate(coords)\n",
    "    \n",
    "    bc = DirichletBC(V_p, 0, 'on_boundary')\n",
    "    points = coords_p.dat.data_ro_with_halos[bc.nodes]\n",
    "    coords_p.dat.data_with_halos[bc.nodes] = points2bdy(points)\n",
    "    \n",
    "    return Mesh(coords_p)\n",
    "```"
   ]
  },
  {
   "cell_type": "markdown",
   "metadata": {},
   "source": [
    "### 同时移动边界单元的内点\n",
    "\n",
    "等参元映射通过更改坐标向量场实现: 从线性网格开始构造, 把边界上的自由度移动到边界上, 同时移动边界单元的内部自由度.\n",
    "\n",
    "```python\n",
    "def make_high_order_mesh_simple(m, p):\n",
    "    if p == 1:\n",
    "        return m\n",
    "\n",
    "    coords_1 = m.coordinates\n",
    "    coords_i = coords_1\n",
    "    for i in range(2, p+1):\n",
    "        coords_im1 = coords_i\n",
    "        V_i = VectorFunctionSpace(m, 'CG', i)\n",
    "        bc = DirichletBC(V_i, 0, 'on_boundary')\n",
    "        coords_i = Function(V_i, name=f'coords_p{i}').interpolate(coords_im1)\n",
    "        coords_i.dat.data_with_halos[bc.nodes] = \\\n",
    "            points2bdy(coords_i.dat.data_ro_with_halos[bc.nodes])\n",
    "\n",
    "    return Mesh(coords_i)\n",
    "```\n",
    "\n",
    "这是一个简单的实现, 并不完全符合文献 {cite}`Lenoir1986` 中等参元映射构造方式, 一个完整的实现方式见文件 [py/make_mesh_circle_in_rect.py](py/make_mesh_circle_in_rect.py) 中的函数 `make_high_order_coords_for_circle_in_rect`: 该函数实现了内部具有一个圆形界面的矩形区域上的等参映射."
   ]
  },
  {
   "cell_type": "markdown",
   "metadata": {},
   "source": [
    "### 数值实验\n",
    "\n",
    "假设精确解为 $u =  1 - (x^2 + y^2)^{3.5}$.\n",
    "\n",
    "在 `jupyter-lab` 执行运行文件 `possion_convergence_circle.py`\n",
    "\n",
    "```python\n",
    "%run py/possion_convergence_circle.py -max_degree 3 -exact \"1 - (x[0]**2 + x[1]**2)**3.5\"\n",
    "```\n",
    "\n",
    "或在命令行运行\n",
    "\n",
    "```console\n",
    "python py/possion_convergence_circle.py -max_degree 3 -exact \"1 - (x[0]**2 + x[1]**2)**3.5\"\n",
    "```\n",
    "\n",
    "有输出如下:\n",
    "\n",
    "```console\n",
    "$ python py/possion_convergence_circle.py -max_degree 3 -exact \"1 - (x[0]**2 + x[1]**2)**3.5\"\n",
    "Exact solution:  1 - (x[0]**2 + x[1]**2)**3.5 \n",
    "\n",
    "p = 1; Use iso: False; Only move bdy: False.\n",
    "    Rel. H1 errors: [0.21472147 0.10953982 0.05505367]\n",
    "            orders: [0.99748178 1.00490702]\n",
    "    Rel. L2 errors: [0.02973733 0.00764636 0.00192565]\n",
    "            orders: [2.01284532 2.01420929]\n",
    "\n",
    "p = 2; Use iso: False; Only move bdy: False.\n",
    "    Rel. H1 errors: [0.02567607 0.00823192 0.00274559]\n",
    "            orders: [1.68586184 1.60384374]\n",
    "    Rel. L2 errors: [0.00804638 0.00197793 0.00048968]\n",
    "            orders: [2.07953304 2.0391775 ]\n",
    "\n",
    "p = 2; Use iso: True; Only move bdy: False.\n",
    "    Rel. H1 errors: [0.02049517 0.00516031 0.0012846 ]\n",
    "            orders: [2.04399704 2.03112667]\n",
    "    Rel. L2 errors: [1.32436157e-03 1.65779996e-04 2.05806815e-05]\n",
    "            orders: [3.07968268 3.04739627]\n",
    "\n",
    "p = 3; Use iso: False; Only move bdy: False.\n",
    "    Rel. H1 errors: [0.01465085 0.00517696 0.00182789]\n",
    "            orders: [1.54172011 1.52063516]\n",
    "    Rel. L2 errors: [0.00786267 0.00195543 0.00048687]\n",
    "            orders: [2.06225863 2.03084755]\n",
    "\n",
    "p = 3; Use iso: True; Only move bdy: True.\n",
    "    Rel. H1 errors: [2.88080070e-03 5.12223863e-04 9.06665015e-05]\n",
    "            orders: [2.5595478  2.52924769]\n",
    "    Rel. L2 errors: [1.06566715e-04 9.18124027e-06 7.97431433e-07]\n",
    "            orders: [3.63334435 3.56916446]\n",
    "\n",
    "p = 3; Use iso: True; Only move bdy: False.\n",
    "    Rel. H1 errors: [1.02564343e-03 1.25126956e-04 1.52758197e-05]\n",
    "            orders: [3.11780384 3.07186088]\n",
    "    Rel. L2 errors: [4.46595130e-05 2.69981492e-06 1.63948920e-07]\n",
    "            orders: [4.15838886 4.09188043]\n",
    "```"
   ]
  },
  {
   "cell_type": "markdown",
   "metadata": {
    "tags": []
   },
   "source": [
    "## 间断有限元方法\n",
    "\n",
    "### UFL 符号\n",
    "+ `+`:  \n",
    "\n",
    "    `u('-')`\n",
    "\n",
    "+ `-`:  \n",
    "\n",
    "    `u('+')`\n",
    "\n",
    "+ avg:  \n",
    "\n",
    "    `(u('+') + u('-'))/2`\n",
    "\n",
    "+ jump: \n",
    "    \n",
    "    `jump(u, n) = u('+')*n('+') + u('-')*n('-')`\n",
    "    \n",
    "    `jump(u) = u('+') - u('-')`\n",
    "\n",
    "+ FacetNormal:\n",
    "\n",
    "    边界法向\n",
    "\n",
    "+ CellDiameter:\n",
    "    \n",
    "    网格尺寸"
   ]
  },
  {
   "cell_type": "markdown",
   "metadata": {},
   "source": [
    "### UFL 测度\n",
    "1. `ds` 外部边\n",
    "2. `dS` 内部边"
   ]
  },
  {
   "cell_type": "markdown",
   "metadata": {},
   "source": [
    "### 变分形式"
   ]
  },
  {
   "cell_type": "markdown",
   "metadata": {},
   "source": [
    "\\begin{equation}\n",
    "\\begin{aligned}\n",
    "    \\int_\\Omega \\nabla u \\cdot \\nabla v \n",
    "    &- \\int_{EI} (\\{\\nabla u\\}[vn] + [un]\\{\\nabla v\\})\n",
    "     - \\frac{\\alpha}{h}\\int_{EI} [un][vn] \\\\\n",
    "    &- \\int_{EO} (v n \\nabla u  + u n \\nabla v)\n",
    "     - \\frac{\\alpha}{h}\\int_{EO} uv \\\\\n",
    "    &- \\int_\\Omega f v   - \\int_{\\partial\\Omega_N} g_N v = 0\n",
    "\\end{aligned}\n",
    "\\end{equation}\n",
    "其中 $[vn] = v^+n^+ + v^-n^-, \\{u\\} = (u^+ + u^-)/2$"
   ]
  },
  {
   "cell_type": "code",
   "execution_count": null,
   "metadata": {},
   "outputs": [],
   "source": [
    "from firedrake import *\n",
    "import matplotlib.pyplot as plt\n",
    "\n",
    "mesh = RectangleMesh(8, 8, 1, 1)\n",
    "\n",
    "DG1 = FunctionSpace(mesh, 'DG', 1)\n",
    "u, v = TrialFunction(DG1), TestFunction(DG1)\n",
    "\n",
    "x, y = SpatialCoordinate(mesh)\n",
    "f = sin(pi*x)*sin(pi*y)\n",
    "\n",
    "h = Constant(2.0)*Circumradius(mesh)\n",
    "alpha = Constant(1)\n",
    "gamma = Constant(1)\n",
    "\n",
    "n = FacetNormal(mesh)\n",
    "\n",
    "a = inner(grad(u), grad(v))*dx \\\n",
    "  - dot(avg(grad(u)), jump(v, n))*dS \\\n",
    "  - dot(jump(u, n), avg(grad(v)))*dS \\\n",
    "  + alpha/avg(h)*dot(jump(u, n), jump(v, n))*dS \\\n",
    "  - dot(grad(u), v*n)*ds \\\n",
    "  - dot(u*n, grad(v))*ds \\\n",
    "  + gamma/h*u*v*ds\n",
    "\n",
    "L = f*v*dx\n",
    "\n",
    "u_h = Function(DG1, name='u_h')\n",
    "bc = DirichletBC(DG1, 0, 'on_boundary')\n",
    "solve(a == L, u_h, bcs=bc)"
   ]
  },
  {
   "cell_type": "code",
   "execution_count": null,
   "metadata": {},
   "outputs": [],
   "source": [
    "fig, ax = plt.subplots(figsize=[8, 4], subplot_kw=dict(projection='3d'))\n",
    "ts = trisurf(u_h, axes=ax)"
   ]
  },
  {
   "cell_type": "markdown",
   "metadata": {},
   "source": [
    "### Positive and negative part of inner boundary"
   ]
  },
  {
   "cell_type": "code",
   "execution_count": null,
   "metadata": {},
   "outputs": [],
   "source": [
    "from firedrake import *\n",
    "from firedrake.petsc import PETSc\n",
    "\n",
    "import os, sys\n",
    "import numpy as np\n",
    "import matplotlib.pyplot as plt\n",
    "# plt.rcParams.update({'font.size': 14})\n",
    "\n",
    "N = PETSc.Options().getInt('N', default=4)\n",
    "\n",
    "m = RectangleMesh(N, N, 1, 1)\n",
    "V = FunctionSpace(m, 'DG', 0)\n",
    "Vc = VectorFunctionSpace(m, 'DG', 0)\n",
    "V_e = FunctionSpace(m, 'HDivT', 0)\n",
    "V_ec = VectorFunctionSpace(m, 'HDivT', 0)\n",
    "\n",
    "x, y = SpatialCoordinate(m)\n",
    "u = Function(V, name='u')\n",
    "uc = Function(Vc).interpolate(m.coordinates)\n",
    "u_e = Function(V_e, name='u_e')\n",
    "u_ec = Function(V_ec).interpolate(m.coordinates)\n",
    "\n",
    "ncell = len(u.dat.data_ro)\n",
    "\n",
    "factor = 0.7\n",
    "for i in range(ncell):\n",
    "    cell = V.cell_node_list[i][0]\n",
    "    u.dat.data_with_halos[:] = 0\n",
    "    u.dat.data_with_halos[cell] = 1\n",
    "    es = V_e.cell_node_list[i]\n",
    "    cc = uc.dat.data_ro_with_halos[cell, :]\n",
    "    \n",
    "    vertex = m.coordinates.dat.data_ro_with_halos[\n",
    "        m.coordinates.function_space().cell_node_list[i]\n",
    "    ]\n",
    "    vertex = np.vstack([vertex, vertex[0]])\n",
    "    plt.plot(vertex[:, 0], vertex[:, 1], 'k', lw=1)\n",
    "    \n",
    "    for e in es:\n",
    "        u_e.dat.data_with_halos[:] = 0\n",
    "        u_e.dat.data_with_halos[e] = 1\n",
    "        ec = u_ec.dat.data_ro_with_halos[e, :]\n",
    "        dis = ec - cc\n",
    "        \n",
    "        v_p, v_m = assemble(u('+')*u_e('+')*dS), assemble(u('-')*u_e('-')*dS)\n",
    "        _x = cc[0] + factor*dis[0]\n",
    "        _y = cc[1] + factor*dis[1]\n",
    "\n",
    "        plt.text(_x, _y, '+' if v_p > 0 else '-', ha='center', va='center')\n",
    "        \n",
    "rank, size = m.comm.rank, m.comm.size\n",
    "if not os.path.exists('figures'):\n",
    "    os.makedirs('figures')\n",
    "plt.savefig(f'figures/dgflag_{size}-{rank}.pdf')"
   ]
  },
  {
   "cell_type": "markdown",
   "metadata": {},
   "source": [
    "## 指示函数"
   ]
  },
  {
   "cell_type": "code",
   "execution_count": null,
   "metadata": {},
   "outputs": [],
   "source": [
    "from firedrake import *\n",
    "\n",
    "from firedrake.pyplot import triplot, tricontourf\n",
    "import matplotlib.pyplot as plt\n",
    "\n",
    "\n",
    "# set marker function by solving equation\n",
    "def make_marker_solve_equ(mesh, tag, value=1):\n",
    "    V = FunctionSpace(mesh, 'DG', 0)\n",
    "\n",
    "    u, v = TrialFunction(V), TestFunction(V)\n",
    "    f = Function(V)\n",
    "    solve(u*v*dx == Constant(value)*v*dx(tag) + Constant(0)*v*dx, f)\n",
    "    return f\n",
    "\n",
    "\n",
    "# set marker function by using par_loop\n",
    "def make_marker_par_loop(mesh, tag, value=1):\n",
    "    V = FunctionSpace(mesh, 'DG', 0)\n",
    "    f = Function(V)\n",
    "    domain = '{[i]: 0 <= i < A.dofs}'\n",
    "    instructions = '''\n",
    "    for i\n",
    "        A[i] = {value}\n",
    "    end\n",
    "    '''\n",
    "    # par_loop((domain, instructions.format(value=0)), dx, {'A' : (f, WRITE)}) \n",
    "    par_loop((domain, instructions.format(value=value)), dx(tag), {'A' : (f, WRITE)}) \n",
    "    return f"
   ]
  },
  {
   "cell_type": "code",
   "execution_count": null,
   "metadata": {},
   "outputs": [],
   "source": [
    "mesh = Mesh('gmsh/circle_in_rect.msh')\n",
    "f1 = make_marker_solve_equ(mesh, tag=1, value=1)\n",
    "f2 = make_marker_par_loop(mesh, tag=2, value=2)\n",
    "np.allclose(f1.dat.data, f2.dat.data)"
   ]
  },
  {
   "cell_type": "code",
   "execution_count": null,
   "metadata": {},
   "outputs": [],
   "source": [
    "\n",
    "from matplotlib import cm\n",
    "from matplotlib import colormaps\n",
    "from matplotlib.colors import Normalize\n",
    "\n",
    "cmap = colormaps.get_cmap('viridis')\n",
    "normalizer = Normalize(0, 2)\n",
    "smap = cm.ScalarMappable(norm=normalizer, cmap=cmap)\n",
    "\n",
    "fig, axes = plt.subplots(1, 2, figsize=[8, 4])\n",
    "axes[0].set_aspect('equal')\n",
    "axes[1].set_aspect('equal')\n",
    "cs0 = tricontourf(f1, axes=axes[0], cmap=cmap, norm=normalizer)\n",
    "cs1 = tricontourf(f2, axes=axes[1], cmap=cmap, norm=normalizer)\n",
    "\n",
    "# fig.colorbar(smap, ax=axes.ravel().tolist())\n",
    "\n",
    "pos = axes[1].get_position()\n",
    "cax = fig.add_axes([pos.x1 + 0.03, pos.y0, 0.02, pos.height])\n",
    "fig.colorbar(smap, cax=cax)"
   ]
  },
  {
   "cell_type": "code",
   "execution_count": null,
   "metadata": {},
   "outputs": [],
   "source": [
    "from firedrake import *\n",
    "from firedrake.pyplot import tricontourf\n",
    "import matplotlib.pyplot as plt\n",
    "\n",
    "mesh = RectangleMesh(2, 2, 1, 1)\n",
    "V = FunctionSpace(mesh, 'DG', 0)\n",
    "f = Function(V)\n",
    "f.dat.data[:] = -2\n",
    "f.dat.data[0:2] = 0\n",
    "tricontourf(f)"
   ]
  },
  {
   "cell_type": "markdown",
   "metadata": {
    "tags": []
   },
   "source": [
    "## Dirac Delta 函数\n",
    "\n",
    "### 通过数值积分公式实现 dirac delta 函数"
   ]
  },
  {
   "cell_type": "code",
   "execution_count": null,
   "metadata": {},
   "outputs": [],
   "source": [
    "from firedrake import *\n",
    "\n",
    "from firedrake.petsc import PETSc\n",
    "from pyop2 import op2\n",
    "from pyop2.datatypes import ScalarType\n",
    "from mpi4py import MPI\n",
    "import finat\n",
    "import numpy as np\n",
    "\n",
    "import matplotlib.pyplot as plt\n",
    "\n",
    "set_level(CRITICAL) # Disbale warnings\n",
    "\n",
    "class DiracOperator(object):\n",
    "    def __init__(self, m, x0):\n",
    "        \"\"\"Make Dirac delta operator at point\n",
    "\n",
    "        Args:\n",
    "            m: mesh\n",
    "            x0: source point\n",
    "\n",
    "        Example:\n",
    "            delta = DiracOperator(m, x0)\n",
    "            f = Function(V)\n",
    "            f_x0 = assemble(delta(f))\n",
    "        \"\"\"\n",
    "        self.mesh = m\n",
    "        self.x0 = x0\n",
    "        self.operator = None\n",
    "        \n",
    "    def __call__(self, f):\n",
    "        if self.operator is None:\n",
    "            self._init()\n",
    "        return self.operator(f)\n",
    "\n",
    "    def _init(self):\n",
    "        m = self.mesh\n",
    "        x0 = self.x0\n",
    "        V = FunctionSpace(m, 'DG', 0)\n",
    "        cell_marker = Function(V, name='cell_marker', dtype=ScalarType)\n",
    "        qrule = finat.quadrature.make_quadrature(V.finat_element.cell, 0)\n",
    "        cell, X = m.locate_cell_and_reference_coordinate(x0, tolerance=1e-6)\n",
    "\n",
    "        # c = 0 if X is None else 1\n",
    "        n_cell_local = len(cell_marker.dat.data)\n",
    "        if X is not None and cell < n_cell_local:\n",
    "            c = 1\n",
    "        else:\n",
    "            c = 0\n",
    "\n",
    "        comm = m.comm\n",
    "        s = comm.size - comm.rank\n",
    "        n = comm.allreduce(int(s*c), op=MPI.MAX)\n",
    "\n",
    "        if n == 0:\n",
    "            raise BaseException(\"Points not found!\")\n",
    "\n",
    "        k = int(comm.size - n) # get the lower rank which include the point x0\n",
    "\n",
    "        if c == 1 and comm.rank == k:\n",
    "            X[X<0] = 0\n",
    "            X[X>1] = 1\n",
    "            cell_marker.dat.data[cell] = 1\n",
    "            comm.bcast(X, root=k)\n",
    "        else:\n",
    "            cell_marker.dat.data[:] = 0 # we must set this otherwise the process will hangup\n",
    "            X = comm.bcast(None, root=k)\n",
    "\n",
    "\n",
    "        cell_marker.dat.global_to_local_begin(op2.READ)\n",
    "        cell_marker.dat.global_to_local_end(op2.READ)\n",
    "\n",
    "        qrule.point_set.points[0] = X\n",
    "        qrule.weights[0] = qrule.weights[0]/np.real(assemble(cell_marker*dx))\n",
    "\n",
    "        self.operator = lambda f: f*cell_marker*dx(scheme=qrule)\n"
   ]
  },
  {
   "cell_type": "markdown",
   "metadata": {},
   "source": [
    "### 测试 `DiracOperator`"
   ]
  },
  {
   "cell_type": "code",
   "execution_count": null,
   "metadata": {},
   "outputs": [],
   "source": [
    "def test_dirca_delta_1D():\n",
    "    test_mesh = IntervalMesh(8, 1)\n",
    "    V = FunctionSpace(test_mesh, 'CG', 3)\n",
    "    x1 = 0.683\n",
    "    source = Constant([x1,])\n",
    "    delta = DiracOperator(test_mesh, source)\n",
    "\n",
    "    x, = SpatialCoordinate(test_mesh)\n",
    "    g = Function(V).interpolate(x**2)\n",
    "\n",
    "    expected_value =  g.at([x1])\n",
    "    value = assemble(delta(g))\n",
    "    PETSc.Sys.Print(f\"value = {value}, expected value = {expected_value}\")\n",
    "\n",
    "\n",
    "test_dirca_delta_1D()"
   ]
  },
  {
   "cell_type": "code",
   "execution_count": null,
   "metadata": {},
   "outputs": [],
   "source": [
    "def test_dirca_delta_2D():\n",
    "    test_mesh = RectangleMesh(8, 8, 1, 1)\n",
    "    V = FunctionSpace(test_mesh, 'CG', 3)\n",
    "    x1 = 0.683\n",
    "    x2 = 0.333\n",
    "    source = Constant([x1,x2])\n",
    "    x0 = source\n",
    "    delta = DiracOperator(test_mesh, source)\n",
    "\n",
    "    x, y = SpatialCoordinate(test_mesh)\n",
    "    g = Function(V).interpolate(x**3 + y**3)\n",
    "\n",
    "    expected_value =  g.at([x1, x2])\n",
    "    value = assemble(delta(g))\n",
    "    PETSc.Sys.Print(f\"value = {value}, expected value = {expected_value}\")\n",
    "\n",
    "\n",
    "test_dirca_delta_2D()"
   ]
  },
  {
   "cell_type": "markdown",
   "metadata": {},
   "source": [
    "### Dirac delta 函数的 L2 投影"
   ]
  },
  {
   "cell_type": "code",
   "execution_count": null,
   "metadata": {},
   "outputs": [],
   "source": [
    "test_mesh = RectangleMesh(10, 10, 1, 1)\n",
    "V = FunctionSpace(test_mesh, 'CG', 3)\n",
    "delta = DiracOperator(test_mesh, [0.638, 0.33])\n",
    "bc = DirichletBC(V, 0, 'on_boundary')\n",
    "u, v = TrialFunction(V), TestFunction(V)\n",
    "sol = Function(V)\n",
    "solve(u*conj(v)*dx == delta(conj(v)), sol, bcs=bc)\n",
    "\n",
    "fig, ax = plt.subplots(figsize=[8, 4], subplot_kw=dict(projection='3d'))\n",
    "ts = trisurf(sol, axes=ax) # 为什么负值那么大？"
   ]
  },
  {
   "cell_type": "markdown",
   "metadata": {},
   "source": [
    "### 求解源项为 Dirca delta 函数的 Possion 方程"
   ]
  },
  {
   "cell_type": "code",
   "execution_count": null,
   "metadata": {},
   "outputs": [],
   "source": [
    "x0 = [0, 0]\n",
    "# N = 500\n",
    "# m = SquareMesh(N, N, 1)\n",
    "\n",
    "m = UnitDiskMesh(refinement_level=3)\n",
    "\n",
    "V = FunctionSpace(m, 'CG', 1)\n",
    "\n",
    "v = TestFunction(V)\n",
    "u = TrialFunction(V)\n",
    "\n",
    "a = inner(grad(u), grad(v))*dx\n",
    "L = DiracOperator(m, x0)(v)\n",
    "u = Function(V, name='u')\n",
    "\n",
    "bc = DirichletBC(V, 0, 'on_boundary')\n",
    "\n",
    "solve(a == L, u, bcs=bc)\n",
    "\n",
    "# solve(a == L, u)\n",
    "fig, ax = plt.subplots(figsize=[4, 4])\n",
    "ts = tricontour(u, axes=ax)"
   ]
  },
  {
   "cell_type": "markdown",
   "metadata": {},
   "source": [
    "## 变分求解器中修改 Jacobian 和残差的接口（回调函数）\n",
    "\n",
    "Firedrake 使用 PETSc 的 [SNES](https://petsc.org/release/manual/snes/) 对非线性问题 (包括线性问题)\n",
    "$$\n",
    "F(x) = 0\n",
    "$$\n",
    "进行求解，并提供了4个回调函数\n",
    "`pre_jacobian_callback`,`post_jacobian_callback`, `pre_function_callback`, `post_function_callback`.\n",
    "用于在组装前后修改 Jacobian ($J = F'(x)$) 和残差 F.\n",
    "\n",
    "代码示例见[\"定义 Solver\"](parallel.ipynb#solver)."
   ]
  },
  {
   "cell_type": "markdown",
   "metadata": {
    "tags": []
   },
   "source": [
    "## 自由度映射关系"
   ]
  },
  {
   "cell_type": "markdown",
   "metadata": {},
   "source": [
    "### Cell node map"
   ]
  },
  {
   "cell_type": "markdown",
   "metadata": {},
   "source": [
    "+ `V.dim()`: Number of dofs\n",
    "+ `V.cell_node_list`: an array of cell node map (same with `V.cell_node_map().values`)"
   ]
  },
  {
   "cell_type": "code",
   "execution_count": null,
   "metadata": {},
   "outputs": [],
   "source": [
    "mesh = RectangleMesh(8, 8, 1, 1)\n",
    "V = FunctionSpace(mesh, 'CG', 1)\n",
    "\n",
    "# the global numers of the dofs in the first 2 elements\n",
    "for i in range(2): \n",
    "    print(f\"cell {i}: \", V.cell_node_list[i]) "
   ]
  },
  {
   "cell_type": "markdown",
   "metadata": {},
   "source": [
    "__Example: 第一个三角形的坐标__"
   ]
  },
  {
   "cell_type": "code",
   "execution_count": null,
   "metadata": {},
   "outputs": [],
   "source": [
    "coords = mesh.coordinates\n",
    "V_c = coords.function_space()\n",
    "dof_numbers = V_c.cell_node_list[0]\n",
    "\n",
    "for i in dof_numbers:\n",
    "    print(f\"vertex {i}:\", coords.dat.data_ro_with_halos[i])"
   ]
  },
  {
   "cell_type": "markdown",
   "metadata": {},
   "source": [
    "### Finite element (dofs on reference cell)"
   ]
  },
  {
   "cell_type": "code",
   "execution_count": null,
   "metadata": {},
   "outputs": [],
   "source": [
    "V = FunctionSpace(mesh, 'CG', 2)\n",
    "element = V.finat_element\n",
    "\n",
    "print(\"cell: \",  element.cell)\n",
    "print(\"degree: \", element.degree)"
   ]
  },
  {
   "cell_type": "code",
   "execution_count": null,
   "metadata": {},
   "outputs": [],
   "source": [
    "element.entity_dofs() # dofs for every entity (vertex, edge, face, volume)"
   ]
  },
  {
   "cell_type": "markdown",
   "metadata": {},
   "source": [
    "参考单元中几何实体 (Entity) 的连接关系参考代码：\n",
    "+ [FIAT:reference_element.py:UFCTetrahedron](https://github.com/firedrakeproject/fiat/blob/9bcf0d71e035c085f412e1841c65a50e018f3aa6/FIAT/reference_element.py#L1079)\n",
    "+ [FIAT:reference_element.py:UFCTriangle](https://github.com/firedrakeproject/fiat/blob/9bcf0d71e035c085f412e1841c65a50e018f3aa6/FIAT/reference_element.py#L987)\n",
    "\n",
    "详细的介绍可以参考 {cite}`AlnaesLoggMardal2012`."
   ]
  },
  {
   "cell_type": "markdown",
   "metadata": {},
   "source": [
    "## `par_loop` 的使用"
   ]
  },
  {
   "cell_type": "code",
   "execution_count": null,
   "metadata": {
    "tags": [
     "hide-output"
    ]
   },
   "outputs": [],
   "source": [
    "help(par_loop)"
   ]
  },
  {
   "cell_type": "markdown",
   "metadata": {},
   "source": [
    "### 计算四面体面的外接圆半径"
   ]
  },
  {
   "cell_type": "code",
   "execution_count": null,
   "metadata": {},
   "outputs": [],
   "source": [
    "def get_facet_circumradius_3d(mesh):\n",
    "    V0 = FunctionSpace(mesh, 'HDivT', 0)\n",
    "    facet_circumradius = Function(V0)\n",
    "    domain = '{[i]: 0 <= i < A.dofs}'\n",
    "\n",
    "    instructions = '''\n",
    "    for i\n",
    "        <> j0 = (i+1)%4\n",
    "        <> j1 = (i+2)%4\n",
    "        <> j2 = (i+3)%4\n",
    "        <> u0 = B[j1,0] - B[j0,0]\n",
    "        <> u1 = B[j1,1] - B[j0,1]\n",
    "        <> u2 = B[j1,2] - B[j0,2]\n",
    "        <> v0 = B[j2,0] - B[j0,0]\n",
    "        <> v1 = B[j2,1] - B[j0,1]\n",
    "        <> v2 = B[j2,2] - B[j0,2]\n",
    "        <> S = sqrt(pow(u1*v2 - u2*v1, 2.) + pow(u2*v0 - u0*v2, 2.) + pow(u0*v1 - u1*v0, 2.))/2\n",
    "        <> a = sqrt(pow(u0, 2.) + pow(u1, 2.) + pow(u2, 2.))\n",
    "        <> b = sqrt(pow(v0, 2.) + pow(v1, 2.) + pow(v2, 2.))\n",
    "        <> c = sqrt(pow(u0 - v0, 2.) + pow(u1 - v1, 2.) + pow(u2 - v2, 2.))\n",
    "        A[i] = a*b*c/(4*S)\n",
    "    end\n",
    "    '''\n",
    "    \n",
    "    par_loop((domain, instructions), dx,\n",
    "             {'A': (facet_circumradius, WRITE), 'B' :(mesh.coordinates, READ)})\n",
    "    return facet_circumradius"
   ]
  },
  {
   "cell_type": "code",
   "execution_count": null,
   "metadata": {},
   "outputs": [],
   "source": [
    "mesh = UnitCubeMesh(1, 1, 1)\n",
    "facet_R = get_facet_circumradius_3d(mesh)\n",
    "\n",
    "facet_R.dat.data[facet_R.function_space().cell_node_list]\n"
   ]
  },
  {
   "cell_type": "markdown",
   "metadata": {},
   "source": [
    "### 计算四面体面的重心"
   ]
  },
  {
   "cell_type": "code",
   "execution_count": null,
   "metadata": {},
   "outputs": [],
   "source": [
    "def get_facet_center_3d(mesh):\n",
    "    V0 = VectorFunctionSpace(mesh, 'HDivT', 0)\n",
    "    facet_center = Function(V0)\n",
    "    domain = '{[i]: 0 <= i < A.dofs}'\n",
    "    instructions = '''\n",
    "    for i\n",
    "        <> j0 = (i+1)%4\n",
    "        <> j1 = (i+2)%4\n",
    "        <> j2 = (i+3)%4\n",
    "        A[i, 0] = (B[j0, 0] + B[j1, 0] + B[j2, 0])/3\n",
    "        A[i, 1] = (B[j0, 1] + B[j1, 1] + B[j2, 1])/3\n",
    "        A[i, 2] = (B[j0, 2] + B[j1, 2] + B[j2, 2])/3\n",
    "    end\n",
    "    '''\n",
    "    \n",
    "    par_loop((domain, instructions), dx,\n",
    "             {'A': (facet_center, WRITE), 'B' :(mesh.coordinates, READ)})\n",
    "    return facet_center"
   ]
  },
  {
   "cell_type": "markdown",
   "metadata": {},
   "source": [
    "测试重心是否计算正确 （和插值做对比）"
   ]
  },
  {
   "cell_type": "code",
   "execution_count": null,
   "metadata": {},
   "outputs": [],
   "source": [
    "mesh = UnitCubeMesh(1, 1, 1)\n",
    "facet_center = get_facet_center_3d(mesh)\n",
    "\n",
    "V0 = VectorFunctionSpace(mesh, 'HDivT', 0)\n",
    "facet_center2 = Function(V0).interpolate(mesh.coordinates)\n",
    "\n",
    "assert np.allclose(facet_center.dat.data - facet_center2.dat.data, 0)"
   ]
  },
  {
   "cell_type": "markdown",
   "metadata": {},
   "source": [
    "## Adaptive Finite Element Methods"
   ]
  },
  {
   "cell_type": "markdown",
   "metadata": {},
   "source": [
    "### Possion on Lshape\n",
    "\n",
    "File: [](py/adapt_possion.py)"
   ]
  },
  {
   "cell_type": "markdown",
   "metadata": {},
   "source": [
    "\n",
    "1. 方程求解\n",
    "\n",
    "   :::{literalinclude} py/adapt_possion.py\n",
    "   :pyobject: solve_possion\n",
    "   :::\n",
    "   \n",
    "2. 误差估计\n",
    "   :::{literalinclude} py/adapt_possion.py\n",
    "   :pyobject: estimate\n",
    "   :::\n",
    "   \n",
    "   :::{literalinclude} py/adapt_possion.py\n",
    "   :pyobject: assemble_eta_K_py\n",
    "   :::\n",
    "   \n",
    "3. 网格标记\n",
    "\n",
    "   :::{literalinclude} py/adapt_possion.py\n",
    "   :pyobject: mark_cells\n",
    "   :::\n",
    "\n",
    "使用以上函数以及 `DMPlex` 的 `adaptLabel` 方法, 我们可以写出 L 区域上的网格自适应方法\n",
    "\n",
    ":::{literalinclude} py/adapt_possion.py\n",
    ":pyobject: adapt_possion_Lshape\n",
    ":::\n"
   ]
  },
  {
   "cell_type": "markdown",
   "metadata": {
    "tags": []
   },
   "source": [
    "### L 型区域上的网格自适应算例"
   ]
  },
  {
   "cell_type": "code",
   "execution_count": null,
   "metadata": {
    "tags": []
   },
   "outputs": [],
   "source": [
    "from py.adapt_possion import adapt_possion_Lshape, plot_adapt_result\n",
    "\n",
    "result = adapt_possion_Lshape()\n",
    "fig = plot_adapt_result(result)"
   ]
  },
  {
   "cell_type": "markdown",
   "metadata": {},
   "source": [
    "### Update coordinates of DMPlex\n",
    "\n",
    "File: [](py/update_plex_coordinates.py)\n",
    "\n",
    "如果移动了网格, DMPlex 中存储的坐标和 Firedrake 的坐标将会不一致, 这时候做自适应加密需要把同步 Firedrake 中的坐标 DMPlex 中.\n",
    "\n",
    "1. 根据自由度的映射关系, 更新 `plex` 的坐标.\n",
    "\n",
    "   :::{literalinclude} py/update_plex_coordinates.py\n",
    "   :pyobject: get_plex_with_update_coordinates\n",
    "   :::\n",
    "\n",
    "2. 通过设置 `Section` 的方式更新 `plex`. \n",
    "\n",
    "   若使用的 Firedrake 包含 [pr-2933](https://github.com/firedrakeproject/firedrake/pull/2933), 则可以使用该方式.\n",
    "\n",
    "   :::{literalinclude} py/update_plex_coordinates.py\n",
    "   :pyobject: get_plex_with_update_coordinates_new\n",
    "   :::\n",
    "\n",
    "   :::{warning}\n",
    "   对于不包含 [pr-2933](https://github.com/firedrakeproject/firedrake/pull/2933) 的版本, 上述方法虽然可以更新坐标, 但是更新后的 `plex` 不可以作为 `Mesh` 的参数创建网格.\n",
    "   :::\n"
   ]
  },
  {
   "cell_type": "markdown",
   "metadata": {},
   "source": [
    "使用移动网格进行测试"
   ]
  },
  {
   "cell_type": "code",
   "execution_count": null,
   "metadata": {},
   "outputs": [],
   "source": [
    "from firedrake import *\n",
    "from py.update_plex_coordinates import \\\n",
    "    get_plex_with_update_coordinates, \\\n",
    "    get_plex_with_update_coordinates_new\n",
    "import matplotlib.pyplot as plt\n",
    "\n",
    "def save_mesh(mesh, name):\n",
    "    V = FunctionSpace(mesh, 'CG', 1)\n",
    "    f = Function(V, name='f')\n",
    "    File(name).write(f)\n",
    "\n",
    "mesh_init = RectangleMesh(5, 5, 1, 1)\n",
    "\n",
    "# move mesh\n",
    "mesh_init.coordinates.dat.data[:] += 1\n",
    "save_mesh(mesh_init, 'pvd/mesh_init.pvd')\n",
    "\n",
    "# recreate mesh from the plex\n",
    "plex = get_plex_with_update_coordinates(mesh_init)\n",
    "mesh = Mesh(plex, distribution_parameters={\"partition\": False})\n",
    "save_mesh(mesh, 'pvd/mesh_with_update_plex.pvd')\n",
    "\n",
    "fig, ax = plt.subplots(1, 2, figsize=[9, 4], subplot_kw={})\n",
    "tp0 = triplot(mesh_init, axes=ax[0])\n",
    "tp1 = triplot(mesh, axes=ax[1])\n",
    "t0 = ax[0].set_title('Original mesh')\n",
    "t1 = ax[1].set_title('Mesh from Plex')"
   ]
  },
  {
   "cell_type": "markdown",
   "metadata": {},
   "source": [
    "### Using adaptMetric of dmplex\n",
    "\n",
    "File [py/test_adapt_metric.py](py/test_adapt_metric.py)\n"
   ]
  },
  {
   "cell_type": "markdown",
   "metadata": {},
   "source": [
    "\n",
    "除了上述 `adaptLabel` 方法, PETSc 还提供的 `adaptMetric` 方法根据用户\n",
    "提供的度量矩阵对网格进行自适应. 该度量矩阵是 PETSc 的 LocalVector.\n",
    "\n",
    "首先使用 `create_metric_from_indicator` 把 `indicator` 转化为度量矩阵 `v`, 然后使用 `to_petsc_local_numbering` 把自由度排序更改为 PETSc 内部序. 注意这里网格每个节点对应一个度量矩阵, 用向量表示.\n",
    "最后调用 `adaptMetric` 进行自适应网格剖分.\n",
    "\n",
    ":::{literalinclude} py/test_adapt_metric.py\n",
    ":pyobject: adapt\n",
    ":::\n",
    "\n",
    "\n",
    "方法 `create_metric_from_indicator` 根据输入参数构造度量矩阵, 其思路为先计算各单元的度量矩阵, 然后顶点的度量矩阵通过相邻单元的度量矩阵进行加权平均得到\n",
    "\n",
    "1. 对单元循环, 求解单元度量矩阵\n",
    "\n",
    "   :::{literalinclude} py/test_adapt_metric.py\n",
    "   :linenos:\n",
    "   :lineno-match:\n",
    "   :lines: 82-89\n",
    "   :::\n",
    "\n",
    "   这里用到了 `edge2vec` 用于根据单元边向量构造计算度量矩阵的矩阵\n",
    "\n",
    "   :::{literalinclude} py/test_adapt_metric.py\n",
    "   :linenos:\n",
    "   :lineno-match:\n",
    "   :lines: 67-74\n",
    "   :::\n",
    "\n",
    "2. 根据单元体积进行加权平均, 计算顶点的度量矩阵\n",
    "\n",
    "   :::{literalinclude} py/test_adapt_metric.py\n",
    "   :linenos:\n",
    "   :lineno-match:\n",
    "   :lines: 91-97\n",
    "   :::\n",
    "\n",
    "\n",
    "方法 `to_petsc_local_numbering_for_local_vec` 内容如下\n",
    "\n",
    ":::{literalinclude} py/test_adapt_metric.py\n",
    ":pyobject: to_petsc_local_numbering_for_local_vec\n",
    ":::\n",
    "\n",
    "通过命令行选项或 `OptionsManager`, 我们可以控制使用的自适应库 `pragmatic`, `mmg`, `parmmg`.\n",
    "\n",
    ":::{literalinclude} py/test_adapt_metric.py\n",
    ":pyobject: test_adapt\n",
    ":::\n",
    "\n",
    ":::{literalinclude} py/test_adapt_metric.py\n",
    ":pyobject: test_adapt_with_option\n",
    ":::"
   ]
  },
  {
   "cell_type": "markdown",
   "metadata": {},
   "source": [
    "下面我们展示一个三维立方体区域自适应的结果"
   ]
  },
  {
   "cell_type": "code",
   "execution_count": null,
   "metadata": {
    "tags": []
   },
   "outputs": [],
   "source": [
    "from py.test_adapt_metric import test_adapt, test_adapt_with_option\n",
    "from firedrake import triplot\n",
    "import matplotlib.pyplot as plt\n",
    "\n",
    "# adaptor: pragmatic, mmg, parmmg\n",
    "# pragmatic, mmg, parmmg not installed in firedrake offcial docker image\n",
    "ret = test_adapt_with_option(dim=3, factor=.3, adaptor=\"mmg\")\n",
    "\n",
    "if ret is not None:\n",
    "    mesh, mesh_new = ret\n",
    "\n",
    "    if mesh.geometric_dimension() == 3:\n",
    "        subplot_kw = dict(projection='3d')\n",
    "    else:\n",
    "        subplot_kw = {}\n",
    "    fig, ax = plt.subplots(1, 2, figsize=[9, 4], subplot_kw=subplot_kw)\n",
    "    tp = triplot(mesh, axes=ax[0])\n",
    "    tp_new = triplot(mesh_new, axes=ax[1])\n",
    "    t0 = ax[0].set_title('Original mesh')\n",
    "    t1 = ax[1].set_title('Adapted mesh')"
   ]
  },
  {
   "cell_type": "markdown",
   "metadata": {},
   "source": [
    "## Examples on the `variant` parameter for `FiniteElement`"
   ]
  },
  {
   "cell_type": "code",
   "execution_count": null,
   "metadata": {
    "tags": []
   },
   "outputs": [],
   "source": [
    "from firedrake import *\n",
    "import ufl\n",
    "import numpy as np\n",
    "import matplotlib.pyplot as plt\n",
    "from scipy.spatial import ConvexHull\n",
    "\n",
    "\n",
    "def show_dofs(V, ax=None):\n",
    "    \"\"\"Show the position of the nodes in the dual space\"\"\"\n",
    "    if ax is None:\n",
    "        fig, ax = plt.subplots(figsize=[4, 3])\n",
    "    ele = V.ufl_element()\n",
    "    ps = V.finat_element.dual_basis[1]\n",
    "    ax.plot(ps.points[:, 0], ps.points[:, 1], 'o', label=ele.shortstr())\n",
    "    cell = V.finat_element.cell\n",
    "    vertices = np.array(cell.get_vertices())\n",
    "    hull = ConvexHull(vertices)\n",
    "    index = list(hull.vertices)\n",
    "    index.append(index[0])\n",
    "    ax.plot(vertices[index, 0], vertices[index, 1])\n",
    "    ax.legend() # (bbox_to_anchor=(1, 1))\n",
    "    return ax\n",
    "\n",
    "\n",
    "p = 2 # or set to 3 to make it clear\n",
    "# https://www.firedrakeproject.org/variational-problems.html#id14\n",
    "# fe = FiniteElement(\"DQ\", mesh.ufl_cell(), p, variant=\"equispaced\")\n",
    "mesh = RectangleMesh(1, 1, 1, 1, quadrilateral=True)\n",
    "fe = FiniteElement(\"DQ\", mesh.ufl_cell(), p, variant=\"spectral\")  # default\n",
    "V1 = FunctionSpace(mesh, fe)\n",
    "V2 = FunctionSpace(mesh, 'CG', p)\n",
    "\n",
    "fig, ax = plt.subplots(1, 2, figsize=[8, 3])\n",
    "show_dofs(V1, ax=ax[0])\n",
    "show_dofs(V2, ax=ax[0])\n",
    "\n",
    "mesh = RectangleMesh(1, 1, 1, 1, quadrilateral=False)\n",
    "V1 = FunctionSpace(mesh, 'DG', p)\n",
    "V2 = FunctionSpace(mesh, 'CG', p)\n",
    "show_dofs(V1, ax=ax[1])\n",
    "show_dofs(V2, ax=ax[1])\n"
   ]
  },
  {
   "cell_type": "markdown",
   "metadata": {},
   "source": [
    "## Interpolation errors for highly oscillating functions\n",
    "\n",
    "The linear interpolation error of functions with wave number $k$ is\n",
    "\n",
    "$$ \\|I_h f - f\\|_{H^1} \\le Chk\\|f\\|_{H^1} $$"
   ]
  },
  {
   "cell_type": "code",
   "execution_count": null,
   "metadata": {
    "tags": []
   },
   "outputs": [],
   "source": [
    "from firedrake import *\n",
    "import numpy as np\n",
    "import matplotlib.pyplot as plt\n",
    "\n",
    "def get_H1_expr(e):\n",
    "    return (inner(e, e) + inner(grad(e), grad(e)))*dx\n",
    "\n",
    "N = 64\n",
    "mesh = RectangleMesh(N, N, 1, 1)\n",
    "h = 1/N\n",
    "\n",
    "x = SpatialCoordinate(mesh)\n",
    "k = Constant(1)\n",
    "f = cos(k*sqrt(dot(x,x)))\n",
    "\n",
    "p = 1\n",
    "V = FunctionSpace(mesh, 'CG', p)\n",
    "V_ref = FunctionSpace(mesh, 'CG', p+2)\n",
    "\n",
    "Int = Interpolator(f, V)\n",
    "Int_ref = Interpolator(f, V_ref)\n",
    "\n",
    "f_int = Function(V)\n",
    "f_ref = Function(V_ref)\n",
    "\n",
    "e = f_int - f\n",
    "e_ref = f_int - f_ref\n",
    "\n",
    "f_H1 = get_H1_expr(f)\n",
    "f_ref_H1 = get_H1_expr(f_ref)\n",
    "f_int_H1 = get_H1_expr(f_int)\n",
    "e_H1 = get_H1_expr(e)\n",
    "e_ref_H1 = get_H1_expr(e_ref)\n",
    "\n",
    "ks = np.linspace(0, 1000, 200) \n",
    "errors = np.zeros((len(ks), 2))\n",
    "\n",
    "dtype = np.dtype([\n",
    "    ('k', 'f8'),\n",
    "    ('f_H1', 'f8'),\n",
    "    ('f_ref_H1', 'f8'),\n",
    "    ('f_int_H1', 'f8'),\n",
    "    ('e_H1', 'f8'),\n",
    "    ('e_ref_H1', 'f8'),\n",
    "])\n",
    "\n",
    "ret = np.zeros(len(ks), dtype=dtype)\n",
    "\n",
    "for i, _k in enumerate(ks):\n",
    "    k.assign(_k)\n",
    "    Int.interpolate(output=f_int)\n",
    "    Int_ref.interpolate(output=f_ref)\n",
    "    a = sqrt(assemble(f_H1)), sqrt(assemble(f_ref_H1)), sqrt(assemble(f_int_H1))\n",
    "    b = sqrt(assemble(e_H1)), sqrt(assemble(e_ref_H1))\n",
    "    ret[i] = (_k, *a, *b)"
   ]
  },
  {
   "cell_type": "code",
   "execution_count": null,
   "metadata": {
    "tags": []
   },
   "outputs": [],
   "source": [
    "fig, axes = plt.subplots(1, 2, figsize=[10, 3])\n",
    "e_H1_rel = ret['e_H1']/ret['f_H1']\n",
    "e_ref_H1_rel = ret['e_ref_H1']/ret['f_H1']\n",
    "axes[0].plot(ret['k'], e_H1_rel, label='$I_h f - f$')\n",
    "axes[0].plot(ret['k'], e_ref_H1_rel, label='$I_h f - f_{ref}$')\n",
    "\n",
    "ref_line = e_H1_rel[10]*ret['k']/ret['k'][10]\n",
    "ref_line[ref_line>1] = 1\n",
    "axes[0].plot(ret['k'], ref_line, ':', label='$O(k)$')\n",
    "\n",
    "upper = max(e_H1_rel.max(), e_ref_H1_rel.max())\n",
    "for n in (1, 5):\n",
    "    k_max = 2*pi/(n*h)\n",
    "    axes[0].plot([k_max, k_max], [0, upper], 'b--')\n",
    "axes[0].set_xlabel('$k$')\n",
    "axes[0].set_ylabel('Relatively $H1$-Error')\n",
    "axes[0].legend()\n",
    "\n",
    "axes[1].plot(ret['k'], ret['e_H1'], label='$I_h f - f$')\n",
    "axes[1].plot(ret['k'], ret['e_ref_H1'], label='$I_h f - f_{ref}$')\n",
    "upper = max(ret['e_H1'].max(), ret['e_ref_H1'].max())\n",
    "for n in (1, 5):\n",
    "    k_max = 2*pi/(n*h)\n",
    "    axes[1].plot([k_max, k_max], [0, upper], 'b--')\n",
    "axes[1].set_xlabel('$k$')\n",
    "axes[1].set_ylabel('$H1$-Error')\n",
    "axes[1].legend()\n",
    "\n",
    "# axes[0].set_xlim([0, 50])\n",
    "# axes[0].set_ylim([0, 0.4])\n",
    "# axes[1].set_xlim([-10, 50])"
   ]
  },
  {
   "cell_type": "markdown",
   "metadata": {},
   "source": [
    "````{only} html or text\n",
    "```{rubric} References\n",
    "```\n",
    "````\n",
    "\n",
    "```{bibliography}\n",
    ":filter: docname in docnames\n",
    "```"
   ]
  }
 ],
 "metadata": {
  "language_info": {
   "name": "python"
  }
 },
 "nbformat": 4,
 "nbformat_minor": 4
}
