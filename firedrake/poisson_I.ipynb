{
 "cells": [
  {
   "attachments": {},
   "cell_type": "markdown",
   "metadata": {},
   "source": [
    "# Poisson 方程 I"
   ]
  },
  {
   "attachments": {},
   "cell_type": "markdown",
   "metadata": {},
   "source": [
    "这里以 Poisson 方程为例, 介绍 Firedrake 的使用, 包括定义有限元空间和变分形式, 施加边界条件, 以及选择不同的数值方法求解线性方程组.\n",
    "\n",
    "考虑 Poisson 方程\n",
    "\n",
    "\\begin{equation}\n",
    "\\begin{aligned}\n",
    "- \\Delta u &= f   && x \\in \\Omega,\\\\\n",
    "         u &= g_D && x \\in \\partial\\Omega_D, \\\\\n",
    "         \\frac{\\partial u}{\\partial n} &= g_N && x \\in \\partial\\Omega_N,\n",
    "\\end{aligned}\n",
    "\\end{equation}\n",
    "其中 $\\partial\\Omega_D\\cap\\partial\\Omega_N = \\partial\\Omega$, $\\int_{\\partial\\Omega_D} {\\rm d}s \\ne 0$."
   ]
  },
  {
   "attachments": {},
   "cell_type": "markdown",
   "metadata": {},
   "source": [
    "定义 __试验__ 和 __测试__ 函数空间 \n",
    "\n",
    "\\begin{equation}\n",
    "\\begin{aligned}\n",
    "H_E^1 &:= \\{u \\in H^1 \\,|\\, u = g_D \\ \\ \\text{on}\\ \\ \\partial\\Omega_D\\},\\\\\n",
    "H^1_{E_0} &:= \\{u \\in H^1 \\,|\\, u = 0 \\ \\ \\text{on}\\ \\ \\partial\\Omega_D\\}\\\\\n",
    "\\end{aligned}\n",
    "\\end{equation}"
   ]
  },
  {
   "attachments": {},
   "cell_type": "markdown",
   "metadata": {},
   "source": [
    "Poisson 方程的 __变分形式__ 为 \n",
    "\n",
    "求解 $u \\in H_E^1$, 使得 \n",
    "\\begin{equation}\n",
    "    \\int_\\Omega \\nabla u\\cdot\\nabla v = \\int_\\Omega f v + \\int_{\\partial\\Omega_N} g_N v \\qquad \\forall v \\in H^1_{E_0}.\n",
    "\\end{equation}\n",
    "成立."
   ]
  },
  {
   "attachments": {},
   "cell_type": "markdown",
   "metadata": {},
   "source": [
    "## 简单完整示例\n",
    "\n",
    "这里我们求解在区域 $\\Omega = (0, 1)\\times(0, 1)$ 上的 poisson 问题, 边界条件为齐次迪利克雷边界条件, 即\n",
    "$\\partial\\Omega_N = \\emptyset, \\partial\\Omega_D = \\partial\\Omega$ 且 $g_D = 0$.\n",
    "\n",
    "另外, 我们假设右端源项 $f = \\sin(\\pi x)\\sin(\\pi y)$. "
   ]
  },
  {
   "cell_type": "code",
   "execution_count": null,
   "metadata": {
    "tags": [
     "hide-output"
    ]
   },
   "outputs": [],
   "source": [
    "from firedrake import *                             # Import firedrake\n",
    "import matplotlib.pyplot as plt\n",
    "\n",
    "N = 8\n",
    "test_mesh = RectangleMesh(nx=N, ny=N, Lx=1, Ly=1)   # Build mesh on the domain\n",
    "x, y = SpatialCoordinate(test_mesh)\n",
    "f = sin(pi*x)*sin(pi*y)\n",
    "g = Constant(0)\n",
    "\n",
    "V = FunctionSpace(test_mesh, 'CG', degree=1)        # define FE space\n",
    "\n",
    "u, v = TrialFunction(V), TestFunction(V)            # define trial and test function \n",
    "a = inner(grad(u), grad(v))*dx\n",
    "L = inner(f, v)*dx                                  # or f*v*dx\n",
    "\n",
    "bc = DirichletBC(V, g=g, sub_domain='on_boundary')\n",
    "\n",
    "u_h = Function(V, name='u_h')\n",
    "solve(a == L, u_h, bcs=bc)          # We will introduce other ways to code in the following.\n",
    "\n",
    "# Plot the result\n",
    "fig, ax = plt.subplots(figsize=[4, 4], subplot_kw=dict(projection='3d'))\n",
    "ts = trisurf(u_h, axes=ax)\n",
    "\n",
    "# You may want to save the figure\n",
    "# fig.savefig('figures/example.pdf', bbox_inches='tight')"
   ]
  },
  {
   "attachments": {},
   "cell_type": "markdown",
   "metadata": {},
   "source": [
    "<!--\n",
    "```{figure} figures/possion.pdf\n",
    "---\n",
    "height: 150px\n",
    "name: directive-fig\n",
    "---\n",
    "Here is my figure caption!\n",
    "```\n",
    "-->"
   ]
  },
  {
   "attachments": {},
   "cell_type": "markdown",
   "metadata": {},
   "source": [
    "## Firedrake 中的内置网格\n",
    "\n",
    "Firedrake 提供了许多常见几何区域的网格构造函数, 包括矩形, 圆形, 长方体, 球形等."
   ]
  },
  {
   "cell_type": "code",
   "execution_count": null,
   "metadata": {},
   "outputs": [],
   "source": [
    "from firedrake import utility_meshes\n",
    "\n",
    "print('List of builtin meshes:')\n",
    "for i, name in enumerate(utility_meshes.__all__):\n",
    "    print(f'  {name:<25s}', end='')\n",
    "    if (i+1)%3 == 0:\n",
    "        print('')"
   ]
  },
  {
   "attachments": {},
   "cell_type": "markdown",
   "metadata": {},
   "source": [
    ":::{tip}\n",
    "How to find the doc or help for functions/classes\n",
    "\n",
    "1. `?<fun-name>`\n",
    "2. `help(<fun-name>)`\n",
    "\n",
    "```python\n",
    "from firedrake import CubeMesh\n",
    "help(CubeMesh)\n",
    "```\n",
    "\n",
    ":::"
   ]
  },
  {
   "attachments": {},
   "cell_type": "markdown",
   "metadata": {},
   "source": [
    ":::{note}\n",
    "对于复杂的几何区域, 我们可以使用 `Gmsh` 构造并保存网格, 然后使用函数 `Mesh` 加载网格.\n",
    ":::"
   ]
  },
  {
   "attachments": {},
   "cell_type": "markdown",
   "metadata": {},
   "source": [
    "## Unified Form Language (UFL)\n",
    "\n",
    "UFL 是用于表示变分形式的离散化的一门领域特定语言. 它是 FEniCS 项目的一部分.\n",
    "\n",
    "以下内容摘自 [UFL 的文档](https://docs.fenicsproject.org/ufl/main/manual.html)."
   ]
  },
  {
   "attachments": {},
   "cell_type": "markdown",
   "metadata": {},
   "source": [
    "### UFL 算子\n",
    "\n",
    "下面我们列出常用的 UFL 算子, 更多细节请参考 \n",
    "[UFL 的文档](https://docs.fenicsproject.org/ufl/main/manual.html) [^ufl].\n",
    "\n",
    "[^ufl]: UFL 算子 https://docs.fenicsproject.org/ufl/main/manual/form_language.html#tensor-algebra-operators\n",
    "\n",
    "1. `dot`\n",
    "    \n",
    "   张量缩并, `dot(u, v)` 对 `u` 的最后一个维度和 `v` 的第一个维度做缩并.\n",
    "    \n",
    "2. `inner`\n",
    "    \n",
    "   张量内积(分量对应乘积之和). 对第二个张量取复共轭.\n",
    "    \n",
    "3. `grad` and `nabla_grad`\n",
    "\n",
    "   1. `grad`\n",
    "       \n",
    "      对张量求导, 新加维度为最后一个维度.\n",
    "\n",
    "      1. scalar\n",
    "\n",
    "         $$\n",
    "         {\\rm grad}(u) = \\nabla u = \\frac{\\partial u}{\\partial x_i}{\\bf e}_i\n",
    "         $$\n",
    "\n",
    "      2. vector\n",
    "\n",
    "         $$\n",
    "         {\\rm grad}({\\bf v}) = \\nabla {\\bf v} = \\frac{\\partial v_i}{\\partial x_j}{\\bf e}_i \\otimes {\\bf e}_j\n",
    "         $$\n",
    "          \n",
    "      3. tensor\n",
    "\n",
    "         设 $\\bf T$ 为秩为 $r$ 的张量, 那么\n",
    "\n",
    "         $$\n",
    "         {\\rm grad}({\\bf T}) = \\nabla {\\bf T} = \\frac{\\partial {\\bf T}_\\ell}{\\partial x_i}{\\bf e}_{\\ell_1} \\otimes\\cdots\\otimes {\\bf e}_{\\ell_r}\\otimes {\\bf e}_{i}\n",
    "         $$\n",
    "         其中 $\\ell$ 是长度为 $r$ 的多指标 (multi-index).\n",
    "\n",
    "   2. `nabla_grad`\n",
    "\n",
    "      **类似 `grad`, 不过新加维度为第一个维度**\n",
    "      \n",
    "      1. scalar (same with `grad`)\n",
    "\n",
    "         $$\n",
    "         {\\rm nabla\\_grad}(u) = \\nabla u = \\frac{\\partial u}{\\partial x_i}{\\bf e}_i\n",
    "         $$\n",
    "\n",
    "      2. vector\n",
    "\n",
    "         $$\n",
    "         {\\rm nabla\\_grad}({\\bf v}) = (\\nabla {\\bf v})^T = \\frac{\\partial v_j}{\\partial x_i}{\\bf e}_i \\otimes {\\bf e}_j\n",
    "         $$\n",
    "\n",
    "      3. tensor\n",
    "\n",
    "         设 $\\bf T$ 为秩为 $r$ 的张量, 那么\n",
    "\n",
    "         $$\n",
    "         {\\rm nabla\\_grad}({\\bf T}) = \\frac{\\partial {\\bf T}_\\ell}{\\partial x_i}{\\bf e}_{i}\\otimes {\\bf e}_{\\ell_1} \\otimes\\cdots\\otimes {\\bf e}_{\\ell_r}\n",
    "         $$\n",
    "\n",
    "4. `div` and `nabla_div`\n",
    "   1. `div`\n",
    "\n",
    "      **对最后一个维度的偏导数进行缩并.**\n",
    "\n",
    "      设 $\\bf T$ 为秩为 $r$ 的张量, 那么\n",
    "      $$\n",
    "      {\\rm div}({\\bf T}) = \\sum_i\\frac{\\partial {\\bf T}_{\\ell_1\\ell_2\\cdots\\ell_{r-1} i}}{\\partial x_i}{\\bf e}_{\\ell_1} \\otimes\\cdots\\otimes {\\bf e}_{\\ell_{r-1}}\n",
    "      $$\n",
    "       \n",
    "   2. `nabla_div`\n",
    "\n",
    "      **类似 `div`, 不过对第一个维度的偏导数进行缩并.**\n",
    "\n",
    ":::{note}\n",
    "两个关于梯度的表达式:\n",
    "\n",
    "1. $(u\\cdot\\nabla) v$ → `dot(u, nabla_grad(v))` or `dot(grad(v), u)`\n",
    "\n",
    "2. $\\Delta u$ → `div(grad(u))`\n",
    ":::"
   ]
  },
  {
   "attachments": {},
   "cell_type": "markdown",
   "metadata": {},
   "source": [
    "### 非线性函数[^ufl-nonlinear]\n",
    "\n",
    "[^ufl-nonlinear]: 非线性函数 https://docs.fenicsproject.org/ufl/main/manual/form_language.html#basic-nonlinear-functions\n",
    "\n",
    "+ `abs`, `sign`\n",
    "+ `pow`, `sqrt`\n",
    "+ `exp`, `ln`\n",
    "+ `cos`, `sin`, ...\n",
    "+ ..."
   ]
  },
  {
   "attachments": {},
   "cell_type": "markdown",
   "metadata": {},
   "source": [
    "### Measures\n",
    "\n",
    "1. `dx`: the interior of the domain $\\Omega$ (`dx`, cell integral);\n",
    "2. `ds`: the boundary $\\partial\\Omega$ of $\\Omega$ (`ds`, exterior facet integral);\n",
    "3. `dS`: the set of interior facets $\\Gamma$ (`dS`, interior facet integral).\n",
    "\n",
    "在区域内部的边界上积分时, 需要使用 `dS` 并使用限制算子 `+` 或 `-`, 如:\n",
    "\n",
    "```python\n",
    "a = u('+')*v('+')*dS\n",
    "```"
   ]
  },
  {
   "attachments": {},
   "cell_type": "markdown",
   "metadata": {},
   "source": [
    "### Check UFL form"
   ]
  },
  {
   "cell_type": "code",
   "execution_count": null,
   "metadata": {},
   "outputs": [],
   "source": [
    "from firedrake import *\n",
    "from ufl.utils.formatting import tree_format\n",
    "\n",
    "N = 8\n",
    "test_mesh = RectangleMesh(nx=N, ny=N, Lx=1, Ly=1)\n",
    "V = FunctionSpace(test_mesh, 'CG', degree=1)\n",
    "u, v = TrialFunction(V), TestFunction(V)\n",
    "a = inner(grad(u), grad(v))*dx + inner(Constant(0), v)*dx\n",
    "\n",
    "print(tree_format(a))"
   ]
  },
  {
   "attachments": {},
   "cell_type": "markdown",
   "metadata": {},
   "source": [
    "## 函数空间创建\n",
    "\n",
    "\n",
    "+ FunctionSpace 标量函数空间\n",
    "+ VectorFunctionSpace 向量函数空间\n",
    "+ MixedFunctionSpace 混合空间\n",
    "\n",
    "支持的单元类型: CG, DG, RT, BDM, ... \n",
    "\n",
    "Reference: https://firedrakeproject.org/variational-problems.html#supported-finite-elements"
   ]
  },
  {
   "attachments": {},
   "cell_type": "markdown",
   "metadata": {},
   "source": [
    "## 线性方程组参数设置"
   ]
  },
  {
   "attachments": {},
   "cell_type": "markdown",
   "metadata": {},
   "source": [
    "### 添加默认求解参数"
   ]
  },
  {
   "attachments": {},
   "cell_type": "markdown",
   "metadata": {},
   "source": [
    "在定义变分形式后, 有三种不同方式进行编码求解\n",
    "\n",
    "1. 直接使用 solve\n",
    "2. 先对变分形式进行组装, 然后使用 solve\n",
    "3. 定义变分问题和变分求解器, 然后求解\n",
    "\n",
    "下面仍以 Poisson 方程为例进行说明. 相应源文件为 [](py/possion_example1.py)\n",
    "\n",
    ":::{tip}\n",
    "可以使用 `%load` 加载文件内容到 notebook 中\n",
    "```python\n",
    "%load py/possion_example1.py\n",
    "```\n",
    ":::"
   ]
  },
  {
   "cell_type": "code",
   "execution_count": null,
   "metadata": {},
   "outputs": [],
   "source": [
    "# %load py/possion_example1.py\n",
    "from firedrake import *\n",
    "from firedrake.petsc import PETSc\n",
    "\n",
    "methods = ['solve', \n",
    "           'assemble', \n",
    "           'LinearVariationalSolver']\n",
    "\n",
    "# Get commandline args\n",
    "opts = PETSc.Options()\n",
    "case_index = opts.getInt('case_index', default=0)\n",
    "if case_index < 0 or case_index > 2:\n",
    "    raise Exception('Case index must be in [0, 2]')\n",
    "    \n",
    "case = methods[case_index]\n",
    "\n",
    "N = 8\n",
    "test_mesh = RectangleMesh(nx=N, ny=N, Lx=1, Ly=1)\n",
    "x, y = SpatialCoordinate(test_mesh)\n",
    "f = sin(pi*x)*sin(pi*y)\n",
    "g = Constant(0)\n",
    "\n",
    "V = FunctionSpace(test_mesh, 'CG', degree=1)\n",
    "\n",
    "u, v = TrialFunction(V), TestFunction(V)\n",
    "\n",
    "a = inner(grad(u), grad(v))*dx\n",
    "L = inner(f, v)*dx                    # or f*v*dx\n",
    "\n",
    "bc = DirichletBC(V, g=g, sub_domain='on_boundary')\n",
    "\n",
    "u_h = Function(V, name='u_h')\n",
    "\n",
    "if case == 'solve':\n",
    "    PETSc.Sys.Print('Case: solve')\n",
    "    # solve(a == L, u_h, bcs=bc)\n",
    "    solve(a == L, u_h, bcs=bc,\n",
    "          solver_parameters={           # 设置方程组求解算法\n",
    "              # 'ksp_view': None,\n",
    "              'ksp_type': 'preonly', \n",
    "              'pc_type': 'lu',\n",
    "              'pc_factor_mat_solver_type': 'mumps'\n",
    "          },\n",
    "          options_prefix=''         # 命令行参数前缀, 这里设为空\n",
    "         )\n",
    "    \n",
    "\n",
    "elif case == 'assemble':\n",
    "    PETSc.Sys.Print('Case: assemble')\n",
    "    A = assemble(a, bcs=bc)\n",
    "    b = assemble(L, bcs=bc)\n",
    "    solve(A, u_h, b,\n",
    "          options_prefix='case2'\n",
    "         )\n",
    "\n",
    "elif case == 'LinearVariationalSolver':\n",
    "    PETSc.Sys.Print('Case: LinearVariationalSolver')\n",
    "    problem = LinearVariationalProblem(a, L, u_h, bcs=bc)\n",
    "    solver = LinearVariationalSolver(problem, \n",
    "                                     solver_parameters={\n",
    "                                         # 'ksp_view': None,\n",
    "                                         'ksp_monitor': None,\n",
    "                                         'ksp_converged_reason': None,\n",
    "                                         'ksp_type': 'cg',\n",
    "                                         'pc_type': 'none'\n",
    "                                     }, \n",
    "                                     options_prefix='case3')\n",
    "\n",
    "    solver.solve()\n",
    "else:\n",
    "    raise Exception(f'Unknow case: {case}')\n",
    "\n",
    "VTKFile('pvd/poisson_example.pvd').write(u_h)\n"
   ]
  },
  {
   "attachments": {},
   "cell_type": "markdown",
   "metadata": {},
   "source": [
    "+ KSP (Krylov subspace solver with preconditioner)\n",
    "\n",
    "    + https://petsc.org/main/manualpages/KSP/index.html\n",
    "    \n",
    "    参数: https://petsc.org/main/manual/ksp/#tab-kspdefaults\n",
    "\n",
    "    关于 检查 KSP 的收敛结果请参考下面 4.2 节 KSP.\n",
    "    \n",
    "+ PC\n",
    "    \n",
    "    参数: https://petsc.org/main/manual/ksp/#tab-pcdefaults\n",
    "    \n",
    "    + 外部包 pc 参数: https://petsc.org/main/manual/ksp/#tab-externaloptions"
   ]
  },
  {
   "attachments": {},
   "cell_type": "markdown",
   "metadata": {},
   "source": [
    "### 命令行参数\n",
    "\n",
    "线性方程组的求解还可以通过在命令行添加参数进行控制, 命令行参数将覆盖默认参数. 注意到前面代码中的 `options_prefix` 参数, 它定义了命令行参数的前缀, 我们将在下面进行解释."
   ]
  },
  {
   "attachments": {},
   "cell_type": "markdown",
   "metadata": {},
   "source": [
    "Reference:\n",
    "\n",
    "1. https://petsc.org/main/manualpages/KSP/KSPSetErrorIfNotConverged/\n",
    "\n",
    "__参数说明__\n",
    "\n",
    "1. `mat_type`: `aij` 或 `matfree`\n",
    "1. `ksp_type`: 设置迭代法\n",
    "2. `pc_type`: 设置预处理方式\n",
    "3. `pc_factor_mat_solver_type`: 设置使用做矩阵分解的包\n",
    "3. `ksp_monitor`: 输出每步迭代的残差\n",
    "4. `ksp_view`: 迭代完成后输出 ksp 的设置等内容\n",
    "5. `ksp_converged_reason`: 输出收敛或不收敛的原因\n",
    "6. `ksp_error_if_not_converged`: 不收敛时, 输出错误信息, 并停止.\n",
    "\n",
    "__LU 分解参数设置__\n",
    "\n",
    "Ref:\n",
    "\n",
    "1. https://petsc.org/main/src/dm/impls/stag/tutorials/ex4.c.html\n",
    "2. https://petsc.org/main/manualpages/Mat/MatSolverType/\n",
    "\n",
    "```\n",
    "-ksp_type preonly -pc_type lu -pc_factor_mat_solver_type mumps  \n",
    "```\n",
    "\n",
    "选项 `pc_factor_mat_solver_type` 用于设置 LU 分解使用的 package, 如 petsc, umfpack, superlu, mkl_pardiso, mumps, superlu_dist, mkl_cpardiso 等.\n",
    "\n",
    "__多重网格__\n",
    "\n",
    "https://nbviewer.org/github/firedrakeproject/firedrake/blob/master/docs/notebooks/07-geometric-multigrid.ipynb"
   ]
  },
  {
   "attachments": {},
   "cell_type": "markdown",
   "metadata": {},
   "source": [
    "__终端演示__: 设置命令行参数控制线性方程组的求解\n",
    "\n",
    "下面的三个命令行中, 使用了不同的前缀, 空前缀, `case2`, 以及 `case3`\n",
    "\n",
    "```bash\n",
    "python py/possion_example1.py -case solve \\\n",
    "    -ksp_monitor -ksp_converged_reason \\\n",
    "    -ksp_type cg -pc_type jacobi\n",
    "\n",
    "python py/possion_example1.py -case assemble \\\n",
    "    -case2_ksp_monitor -case2_ksp_converged_reason \\\n",
    "    -case2_ksp_type gmres -case2_pc_type none\n",
    "\n",
    "python py/possion_example1.py -case LinearVariationalSolver \\\n",
    "    -case3_ksp_monitor -case3_ksp_converged_reason \\\n",
    "    -case3_ksp_type minres -case3_pc_type none\n",
    "```"
   ]
  },
  {
   "attachments": {},
   "cell_type": "markdown",
   "metadata": {},
   "source": [
    "## 数值积分公式"
   ]
  },
  {
   "attachments": {},
   "cell_type": "markdown",
   "metadata": {},
   "source": [
    "### 查看数值积分公式"
   ]
  },
  {
   "cell_type": "code",
   "execution_count": null,
   "metadata": {},
   "outputs": [],
   "source": [
    "import FIAT\n",
    "import finat\n",
    "from pprint import pprint\n",
    "\n",
    "ref_cell = FIAT.reference_element.UFCTriangle()\n",
    "\n",
    "ret = {}\n",
    "for i in range(0, 4):\n",
    "    qrule = finat.quadrature.make_quadrature(ref_cell, i)\n",
    "    ret[i] = {'points': qrule.point_set.points, 'weights': qrule.weights}\n",
    "    \n",
    "pprint(ret)"
   ]
  },
  {
   "attachments": {},
   "cell_type": "markdown",
   "metadata": {},
   "source": [
    "### 显示选择积分公式"
   ]
  },
  {
   "cell_type": "code",
   "execution_count": null,
   "metadata": {},
   "outputs": [],
   "source": [
    "from firedrake import *\n",
    "import finat\n",
    "import warnings\n",
    "\n",
    "# Disable warnings. If we do not do this, there will be warnings:\n",
    "#     UserWarning: Applying str() to a metadata value of type QuadratureRule, don't know if this is safe.\n",
    "warnings.filterwarnings(\"ignore\", category=UserWarning)\n",
    "\n",
    "mesh = RectangleMesh(nx=8, ny=8, Lx=1, Ly=1)\n",
    "V = FunctionSpace(mesh, 'CG', 1)\n",
    "cell = V.finat_element.cell\n",
    "\n",
    "x, y = SpatialCoordinate(mesh)\n",
    "f = x**3 + y**4 + x**2*y**2\n",
    "\n",
    "ret = {}\n",
    "for i in range(0, 5):\n",
    "    qrule = finat.quadrature.make_quadrature(cell, i)\n",
    "    ret[i] = {'points': qrule.point_set.points, 'weights': qrule.weights}\n",
    "    v = assemble(f*dx(scheme=qrule))\n",
    "    print(f'degree={i}, v = {v}', )\n",
    "\n",
    "print('Default:  v =', assemble(f*dx(scheme=None)))\n",
    "\n",
    "warnings.filterwarnings(\"default\", category=UserWarning)"
   ]
  },
  {
   "attachments": {},
   "cell_type": "markdown",
   "metadata": {},
   "source": [
    "### 自定义数值积分"
   ]
  },
  {
   "cell_type": "code",
   "execution_count": null,
   "metadata": {},
   "outputs": [],
   "source": [
    "from firedrake import *\n",
    "import FIAT\n",
    "import finat\n",
    "import warnings\n",
    "\n",
    "warnings.filterwarnings(\"ignore\", category=UserWarning)\n",
    "\n",
    "ref_cell = FIAT.reference_element.UFCTriangle()\n",
    "print('vertices:', ref_cell.vertices)\n",
    "\n",
    "point_set = finat.quadrature.PointSet(ref_cell.vertices)\n",
    "weights = [1/6, 1/6, 1/6]\n",
    "\n",
    "qrule = finat.quadrature.QuadratureRule(point_set, weights)\n",
    "\n",
    "print(\"points: \", qrule.point_set.points)\n",
    "print(\"weights: \", qrule.weights)\n",
    "\n",
    "mesh = RectangleMesh(nx=8, ny=8, Lx=1, Ly=1)\n",
    "x = SpatialCoordinate(mesh)\n",
    "print(\"integral of x[0] on domain by default scheme: \", assemble(x[0]*dx))\n",
    "print(\"integral of x[0] on domain by new defined-scheme: \", assemble(x[0]*dx(scheme=qrule)))"
   ]
  },
  {
   "attachments": {},
   "cell_type": "markdown",
   "metadata": {},
   "source": [
    "## Dirichlet bounary conditions"
   ]
  },
  {
   "attachments": {},
   "cell_type": "markdown",
   "metadata": {},
   "source": [
    "### Tags of the boundaries of builtin meshes"
   ]
  },
  {
   "attachments": {},
   "cell_type": "markdown",
   "metadata": {},
   "source": [
    "`RectangleMesh`:\n",
    "  \n",
    "* 1: plane x == 0\n",
    "* 2: plane x == Lx\n",
    "* 3: plane y == 0\n",
    "* 4: plane y == Ly"
   ]
  },
  {
   "cell_type": "code",
   "execution_count": null,
   "metadata": {},
   "outputs": [],
   "source": [
    "from firedrake import *\n",
    "import matplotlib.pyplot as plt\n",
    "from py.intro_utils import plot_mesh_with_label\n",
    "\n",
    "N = 8\n",
    "rect_mesh = RectangleMesh(nx=N, ny=N, Lx=1, Ly=1)\n",
    "circ_mesh = UnitDiskMesh(2)\n",
    "\n",
    "fig, ax = plt.subplots(1, 2, figsize=[8, 4])\n",
    "plot_mesh_with_label(rect_mesh, axes=ax[0])\n",
    "plot_mesh_with_label(circ_mesh, axes=ax[1])\n",
    "fig.tight_layout()"
   ]
  },
  {
   "attachments": {},
   "cell_type": "markdown",
   "metadata": {},
   "source": [
    "### Set Dirichlet boundary conditions"
   ]
  },
  {
   "cell_type": "code",
   "execution_count": null,
   "metadata": {},
   "outputs": [],
   "source": [
    "N = 8\n",
    "test_mesh = RectangleMesh(nx=N, ny=N, Lx=1, Ly=1)\n",
    "x, y = SpatialCoordinate(test_mesh)\n",
    "\n",
    "g = x*2 + y*2\n",
    "V = FunctionSpace(test_mesh, 'CG', degree=1)\n",
    "\n",
    "\n",
    "def trisurf_bdy_condition(V, g, sub_domain, axes=None):\n",
    "    bc = DirichletBC(V, g=g, sub_domain=sub_domain)\n",
    "    g = Function(V)\n",
    "    bc.apply(g)\n",
    "\n",
    "    trisurf(g, axes=axes)\n",
    "    if axes:\n",
    "        axes.set_xlabel('x')\n",
    "        axes.set_ylabel('y')\n",
    "        axes.set_title(sub_domain)"
   ]
  },
  {
   "cell_type": "code",
   "execution_count": null,
   "metadata": {},
   "outputs": [],
   "source": [
    "# plot the mesh and boundry conditons\n",
    "fig, ax = plt.subplots(1, 4, figsize=[16, 4], subplot_kw=dict(projection='3d'))\n",
    "ax = ax.flat\n",
    "\n",
    "ax[0].remove()\n",
    "ax[0] = fig.add_subplot(1, 4, 1)\n",
    "plot_mesh_with_label(test_mesh, ax[0])\n",
    "ax[0].set_title('mesh')\n",
    "ax[0].axis('off')\n",
    "\n",
    "sub_domains = [(1, 2), (3, 4), 'on_boundary']\n",
    "for i in range(3):\n",
    "    trisurf_bdy_condition(V, g=g, sub_domain=sub_domains[i], axes=ax[i+1])\n",
    "fig.tight_layout()"
   ]
  },
  {
   "attachments": {},
   "cell_type": "markdown",
   "metadata": {},
   "source": [
    "### `sub_domain` of  `DirichletBC` \n",
    "\n",
    "The following comments are copy from `firedrake/bcs.py`\n",
    "```python\n",
    "# Define facet, edge, vertex using tuples:\n",
    "# Ex in 3D:\n",
    "#           user input                                                         returned keys\n",
    "# facet  = ((1, ), )                   ->     ((2, ((1, ), )), (1, ()),         (0, ()))\n",
    "# edge   = ((1, 2), )                  ->     ((2, ()),        (1, ((1, 2), )), (0, ()))\n",
    "# vertex = ((1, 2, 4), )               ->     ((2, ()),        (1, ()),         (0, ((1, 2, 4), ))\n",
    "#\n",
    "# Multiple facets:\n",
    "# (1, 2, 4) := ((1, ), (2, ), (4,))   ->     ((2, ((1, ), (2, ), (4, ))), (1, ()), (0, ()))\n",
    "#\n",
    "# One facet and two edges:\n",
    "# ((1,), (1, 3), (1, 4))              ->     ((2, ((1,),)), (1, ((1,3), (1, 4))), (0, ()))\n",
    "```"
   ]
  },
  {
   "attachments": {},
   "cell_type": "markdown",
   "metadata": {},
   "source": [
    "## [Gmsh](https://gmsh.info/) 网格边界设置"
   ]
  },
  {
   "attachments": {},
   "cell_type": "markdown",
   "metadata": {},
   "source": [
    "需要在 gmsh 中给相应的边界加上标签 (Physical Tag)\n",
    "\n",
    "_gmsh gui 演示_: 生成如下 `geo` 文件和 `msh` 文件\n",
    "\n",
    "File: [`gmsh/rectangle.geo`](gmsh/rectangle.geo)\n",
    "```text\n",
    "// Gmsh project created on Tue Sep 30 15:09:53 2022\n",
    "SetFactory(\"OpenCASCADE\");\n",
    "//+\n",
    "Rectangle(1) = {0, 0, 0, 1, 1, 0};\n",
    "//+\n",
    "Physical Curve(\"lower\", 1) = {1};\n",
    "//+\n",
    "Physical Curve(\"upper\", 2) = {3};\n",
    "//+\n",
    "Physical Curve(\"left\", 3) = {4};\n",
    "//+\n",
    "Physical Curve(\"right\", 4) = {2};\n",
    "//+\n",
    "Physical Surface(\"domain\", 1) = {1};\n",
    "```\n",
    "\n",
    "Gmsh file: [`gmsh/rectangle.msh`](gmsh/rectangle.msh)"
   ]
  },
  {
   "cell_type": "code",
   "execution_count": null,
   "metadata": {},
   "outputs": [],
   "source": [
    "from firedrake import *\n",
    "from firedrake.petsc import PETSc\n",
    "from py.intro_utils import plot_mesh_with_label\n",
    "\n",
    "# opts = PETSc.Options()\n",
    "# opts.insertString('-dm_plex_gmsh_mark_vertices True')\n",
    "\n",
    "gmsh_mesh = Mesh('gmsh/rectangle.msh')\n",
    "plot_mesh_with_label(gmsh_mesh)"
   ]
  },
  {
   "attachments": {},
   "cell_type": "markdown",
   "metadata": {},
   "source": [
    "_使用 gmsh 的 python SDK_: [gmsh](https://pypi.org/project/gmsh/) 或者 [pygmsh](https://pypi.org/project/pygmsh/)\n",
    "\n",
    "example: [py/make_mesh_circle_in_rect.py](py/make_mesh_circle_in_rect.py) with [gmsh/circle_in_rect.msh](gmsh/circle_in_rect.msh)"
   ]
  },
  {
   "cell_type": "code",
   "execution_count": null,
   "metadata": {},
   "outputs": [],
   "source": [
    "from firedrake import *\n",
    "from py.intro_utils import plot_mesh_with_label\n",
    "from py.make_mesh_circle_in_rect import make_circle_in_rect\n",
    "\n",
    "h = 1/16\n",
    "filename = 'gmsh/circle_in_rect.msh'\n",
    "# make_circle_in_rect(h, filename, p=3, gui=False)\n",
    "\n",
    "cr_mesh = Mesh(filename)\n",
    "plot_mesh_with_label(cr_mesh)"
   ]
  },
  {
   "attachments": {},
   "cell_type": "markdown",
   "metadata": {},
   "source": [
    "## Neumann boundary condition"
   ]
  },
  {
   "attachments": {},
   "cell_type": "markdown",
   "metadata": {},
   "source": [
    "求解如下 Poisson 方程\n",
    "\\begin{equation}\n",
    "\\begin{aligned}\n",
    "- \\Delta u &= f   &&\\quad{\\rm in}\\quad \\Omega,\\\\\n",
    "         \\frac{\\partial u}{\\partial n} &= g_N &&\\quad{\\rm on} \\quad \\partial\\Omega,\n",
    "\\end{aligned}\n",
    "\\end{equation}"
   ]
  },
  {
   "attachments": {},
   "cell_type": "markdown",
   "metadata": {},
   "source": [
    "__变分问题__\n",
    "\n",
    "求 $u \\in H^1$, 且 $\\int_\\Omega u = 0$ 使得\n",
    "\\begin{equation}\n",
    "    \\int_\\Omega \\nabla u\\cdot\\nabla v = \\int_\\Omega f v + \\int_{\\partial\\Omega} g_N v \\qquad \\forall v \\in H^1.\n",
    "\\end{equation}"
   ]
  },
  {
   "attachments": {},
   "cell_type": "markdown",
   "metadata": {},
   "source": [
    "__兼容性条件__\n",
    "\n",
    "$$\n",
    "\\int_\\Omega f v + \\int_{\\partial\\Omega} g_N v = 0\n",
    "$$"
   ]
  },
  {
   "attachments": {},
   "cell_type": "markdown",
   "metadata": {},
   "source": [
    "### Use nullspace of solve"
   ]
  },
  {
   "attachments": {},
   "cell_type": "markdown",
   "metadata": {},
   "source": [
    "通过 nullspace 求出的解 `u_h` 并不满足积分为 0, 而是其对应的解向量的范数最小, 所以我们需要做后处理得到积分为 0 的解:\n",
    "\n",
    "```python\n",
    "s = assemble(u_h*dx)/assemble(Constant(1)*dx(domain=mesh)\n",
    "u_h.assign(u_h - s)\n",
    "```\n",
    "\n",
    "Reference:\n",
    "\n",
    "1. https://petsc.org/main/manual/ksp/#solving-singular-systems\n",
    "2. https://petsc.org/main/manualpages/KSP/KSPSolve/\n",
    "3. https://petsc.org/main/manualpages/Mat/MatSetNullSpace/"
   ]
  },
  {
   "cell_type": "code",
   "execution_count": null,
   "metadata": {},
   "outputs": [],
   "source": [
    "from firedrake import *\n",
    "import matplotlib.pyplot as plt\n",
    "\n",
    "N = 8\n",
    "test_mesh = RectangleMesh(nx=N, ny=N, Lx=1, Ly=1)\n",
    "x, y = SpatialCoordinate(test_mesh)\n",
    "f = sin(pi*x)*sin(pi*y)\n",
    "\n",
    "subdomain_id = None # None for all boundray, 或者单个编号 如 1, 或者使用 list 或 tuple 如: (1, 2)\n",
    "\n",
    "if False:\n",
    "    # 不满足兼容性条件\n",
    "    g = Constant(1)\n",
    "else:\n",
    "    # 满足兼容性条件\n",
    "    length = assemble(1*ds(domain=test_mesh, subdomain_id=subdomain_id))\n",
    "    g = Constant(-assemble(f*dx)/length)\n",
    "    # g = Constant(-1/pi**2)\n",
    "\n",
    "V = FunctionSpace(test_mesh, 'CG', degree=1)\n",
    "u, v = TrialFunction(V), TestFunction(V)\n",
    "a = inner(grad(u), grad(v))*dx\n",
    "L = inner(f, v)*dx + inner(g, v)*ds(subdomain_id=subdomain_id)\n",
    "\n",
    "u1_h = Function(V, name='u1_h')\n",
    "\n",
    "nullspace = VectorSpaceBasis(constant=True, comm=test_mesh.comm)\n",
    "\n",
    "solve(a == L, u1_h, \n",
    "      solver_parameters={\n",
    "          # 'ksp_view': None,\n",
    "          'ksp_monitor': None,\n",
    "      },\n",
    "      options_prefix='test1',\n",
    "      nullspace=nullspace, \n",
    "      transpose_nullspace=None)\n",
    "\n",
    "u2_h = Function(V, name='u2_h')\n",
    "solve(a == L, u2_h,\n",
    "      solver_parameters={\n",
    "          # 'ksp_view': None,\n",
    "          'ksp_monitor': None,\n",
    "      },\n",
    "      options_prefix='test2',\n",
    "      nullspace=nullspace, \n",
    "      transpose_nullspace=nullspace)\n",
    "\n",
    "# 通过 nullspace 求出的解并不满足积分为 0, 需要做后处理\n",
    "omega = assemble(Constant(1)*dx(domain=test_mesh))\n",
    "s1 = assemble(u1_h*dx)/omega\n",
    "u1_h.dat.data_with_halos[:] = u1_h.dat.data_ro_with_halos[:] - s1\n",
    "\n",
    "s2 = assemble(u2_h*dx)/omega\n",
    "u2_h.dat.data_with_halos[:] = u2_h.dat.data_ro_with_halos[:] - s2\n",
    "\n",
    "fig, ax = plt.subplots(1, 2, figsize=[8, 4], subplot_kw=dict(projection='3d'))\n",
    "ts1 = trisurf(u1_h, axes=ax[0])\n",
    "title1 = ax[0].set_title('only nullspace')\n",
    "ts2 = trisurf(u2_h, axes=ax[1])\n",
    "title2 = ax[1].set_title('transpose nullspace')\n",
    "\n",
    "# plot the error\n",
    "fig, ax = plt.subplots(figsize=[4, 4], subplot_kw=dict(projection='3d'))\n",
    "err = Function(u1_h).assign(u1_h - u2_h)\n",
    "trisurf(err, axes=ax)\n",
    "ax.set_title('Errors')\n",
    "\n",
    "# The z ticklabel do not show properly, when the values are small.\n",
    "# we set the major formatter to make it show correctly\n",
    "fmt = lambda x, pos: f'{x:10g}'\n",
    "ax.zaxis.set_major_formatter(fmt)\n",
    "\n",
    "# ax.ticklabel_format(axis='z', style='plain') # may work for not too small values"
   ]
  },
  {
   "attachments": {},
   "cell_type": "markdown",
   "metadata": {},
   "source": [
    "### Using Lagrange multiplier"
   ]
  },
  {
   "attachments": {},
   "cell_type": "markdown",
   "metadata": {},
   "source": [
    "<!--__极值问题__\n",
    "求 $u \\in H^1 $ 满足\n",
    "\\begin{equation}\n",
    "\\begin{aligned}\n",
    "    & u = \\arg\\min J(u)\\\\\n",
    "    & J(u) = \\frac12\\int_\\Omega |\\nabla u|^2 - \\int_\\Omega f u - \\int_{\\partial\\Omega} g_N u\\\\\n",
    "    &\\int_\\Omega u = 0\n",
    "\\end{aligned}\n",
    "\\end{equation}\n",
    "\n",
    "__等价问题__\n",
    "\\begin{equation}\n",
    "\\begin{aligned}\n",
    "    & u, \\mu = \\arg\\min \\tilde J(u, \\mu)\\\\\n",
    "    & \\tilde J(u, \\lambda) = J(u) + \\mu \\int_\\Omega u, \\quad \\mu\\in \\mathbb{R}\\\\\n",
    "\\end{aligned}\n",
    "\\end{equation}\n",
    "-->"
   ]
  },
  {
   "attachments": {},
   "cell_type": "markdown",
   "metadata": {},
   "source": [
    "__变分问题__\n",
    "\n",
    "求 $u\\in H^1, \\mu \\in R$ 使得 \n",
    "\\begin{equation}\n",
    "\\begin{aligned}\n",
    "    & \\int_\\Omega \\nabla u \\cdot \\nabla v + \\mu \\int_\\Omega v - \\int_\\Omega f v - \\int_{\\partial\\Omega} g_N v = 0, \\quad\\forall \\in H^1 \\\\\n",
    "    & \\eta \\int_\\Omega u = 0,\\quad \\forall \\eta \\in \\mathbb{R}\\\\\n",
    "\\end{aligned}\n",
    "\\end{equation}\n",
    "\n",
    "File: [](py/possion_neumann_lagrange.py)"
   ]
  },
  {
   "cell_type": "code",
   "execution_count": null,
   "metadata": {},
   "outputs": [],
   "source": [
    "# %load possion_neumann_lagrange.py\n",
    "from firedrake import *\n",
    "from firedrake.petsc import PETSc\n",
    "import matplotlib.pyplot as plt\n",
    "\n",
    "opts = PETSc.Options()\n",
    "N = opts.getInt('N', default=8)\n",
    "test_mesh = RectangleMesh(nx=N, ny=N, Lx=1, Ly=1)\n",
    "\n",
    "x, y = SpatialCoordinate(test_mesh)\n",
    "f = sin(pi*x)*sin(pi*y)\n",
    "\n",
    "subdomain_id = None\n",
    "length = assemble(1*ds(domain=test_mesh, subdomain_id=subdomain_id))\n",
    "g = Constant(-assemble(f*dx)/length)\n",
    "# g = Constant(-1/pi**2)\n",
    "\n",
    "V = FunctionSpace(test_mesh, 'CG', degree=1)\n",
    "R = FunctionSpace(test_mesh, 'R', 0)\n",
    "\n",
    "W = MixedFunctionSpace([V, R]) # or W = V*R\n",
    "\n",
    "u, mu = TrialFunction(W)\n",
    "v, eta = TestFunction(W)\n",
    "\n",
    "a = inner(grad(u), grad(v))*dx + inner(mu, v)*dx + inner(u, eta)*dx\n",
    "L = inner(f, v)*dx + inner(g, v)*ds(subdomain_id=subdomain_id)\n",
    "\n",
    "w_h = Function(W)\n",
    "solve(a == L, w_h,      \n",
    "      solver_parameters={\n",
    "          # 'mat_type': 'nest',\n",
    "          # 'ksp_view': None,\n",
    "          # 'pc_type': 'fieldsplit',\n",
    "          # 'ksp_monitor': None,\n",
    "      },\n",
    "      options_prefix='test')\n",
    "\n",
    "u_h, mu_h  = w_h.subfunctions\n",
    "\n",
    "filename = 'pvd/u_h_neumann.pvd'\n",
    "PETSc.Sys.Print(f'Write pvd file: {filename}')\n",
    "VTKFile(filename).write(u_h)\n",
    "\n",
    "fig, ax = plt.subplots(figsize=[4, 4], subplot_kw=dict(projection='3d'))\n",
    "ts = trisurf(u_h, axes=ax)"
   ]
  },
  {
   "attachments": {},
   "cell_type": "markdown",
   "metadata": {},
   "source": [
    "__终端演示__"
   ]
  },
  {
   "attachments": {},
   "cell_type": "markdown",
   "metadata": {},
   "source": [
    "```bash\n",
    "$ python possion_neumann_lagrange.py -test_ksp_monitor -test_ksp_converged_reason -N 64\n",
    "Number of Dofs: 4226\n",
    "firedrake:WARNING Real block detected, generating Schur complement elimination PC\n",
    "    Residual norms for test_ solve.\n",
    "    0 KSP Residual norm 2.501422711621e-01\n",
    "    1 KSP Residual norm 1.747929427611e-01\n",
    "    2 KSP Residual norm 1.071502741145e-14\n",
    "  Linear test_ solve converged due to CONVERGED_RTOL iterations 2\n",
    "Write pvd file: pvd/u_h_neumann.pvd\n",
    "\n",
    "$ mpiexec -n 2 python possion_neumann_lagrange.py \\\n",
    "    -test_ksp_monitor -test_ksp_converged_reason -N 64\n",
    "Number of Dofs: 4226\n",
    "firedrake:WARNING Real block detected, generating Schur complement elimination PC\n",
    "    Residual norms for test_ solve.\n",
    "    0 KSP Residual norm 2.501422711621e-01\n",
    "    1 KSP Residual norm 2.085403806063e-02\n",
    "    2 KSP Residual norm 9.317076546546e-16\n",
    "  Linear test_ solve converged due to CONVERGED_RTOL iterations 2\n",
    "Write pvd file: pvd/u_h_neumann.pvd\n",
    "```"
   ]
  },
  {
   "attachments": {},
   "cell_type": "markdown",
   "metadata": {
    "tags": []
   },
   "source": [
    "## 计算收敛阶\n",
    "\n",
    "+ 和真解对比\n",
    "+ 和参考解对比\n",
    "+ 相邻三层之间对比 (Cauchy 序列): [py/possion_convergence.py](py/possion_convergence.py)"
   ]
  },
  {
   "attachments": {},
   "cell_type": "markdown",
   "metadata": {
    "tags": []
   },
   "source": [
    "### 生成网格序列\n",
    "\n",
    "```python\n",
    "base = RectangleMesh(N, N, 1, 1)\n",
    "meshes = MeshHierarchy(test_mesh, refinement_levels=4)\n",
    "```"
   ]
  },
  {
   "cell_type": "code",
   "execution_count": null,
   "metadata": {},
   "outputs": [],
   "source": [
    "from firedrake import *\n",
    "import matplotlib.pyplot as plt\n",
    "\n",
    "N = 8\n",
    "base = RectangleMesh(N, N, 1, 1)\n",
    "meshes = MeshHierarchy(base, refinement_levels=3)\n",
    "\n",
    "n = len(meshes)\n",
    "m = min(2, n)\n",
    "fig, ax = plt.subplots(1, m, figsize=[4*m, 4])\n",
    "for i in range(m):\n",
    "    triplot(meshes[i], axes=ax[i])\n",
    "fig.tight_layout()"
   ]
  },
  {
   "cell_type": "code",
   "execution_count": null,
   "metadata": {},
   "outputs": [],
   "source": [
    "us = []\n",
    "for mesh in meshes:\n",
    "    x, y = SpatialCoordinate(mesh)\n",
    "    f = sin(pi*x)*sin(pi*y)\n",
    "    V = FunctionSpace(mesh, 'CG', degree=1)\n",
    "    u = Function(V).interpolate(f)\n",
    "    us.append(u)\n",
    "\n",
    "m = min(4, n)\n",
    "fig, ax = plt.subplots(2, 2, figsize=[2*4, 2*4], subplot_kw=dict(projection='3d'))\n",
    "ax = ax.flat\n",
    "for i in range(n):\n",
    "    trisurf(us[i], axes=ax[i])\n",
    "    ax[i].set_title(f'$h=1/{N*2**i}$')"
   ]
  },
  {
   "attachments": {},
   "cell_type": "markdown",
   "metadata": {},
   "source": [
    "### 投影到细网格上的空间中\n",
    "\n",
    "目前 Firedrake 只能投影函数到相邻层的网格上 (由 MeshHierarchy 生成的网格), 和最密网格比较时可以多次投影, 直至最密网格, 然后比较结果.\n",
    "\n",
    "下面我们仅比较相邻层的误差"
   ]
  },
  {
   "cell_type": "code",
   "execution_count": null,
   "metadata": {},
   "outputs": [],
   "source": [
    "errors = []\n",
    "hs = []\n",
    "for i, u in enumerate(us[:-1]):\n",
    "    u_ref = us[i+1]\n",
    "    u_inter = project(u, u_ref.function_space())\n",
    "    error = errornorm(u_ref, u_inter)\n",
    "    errors.append(float(error))\n",
    "    hs.append(1/(N*2**i))\n",
    "\n",
    "hs, errors"
   ]
  },
  {
   "cell_type": "code",
   "execution_count": null,
   "metadata": {},
   "outputs": [],
   "source": [
    "from py.intro_utils import plot_errors\n",
    "plot_errors(hs, errors, expect_order=2)"
   ]
  },
  {
   "attachments": {},
   "cell_type": "markdown",
   "metadata": {},
   "source": [
    "### 插值到细网格上的空间中"
   ]
  },
  {
   "cell_type": "code",
   "execution_count": null,
   "metadata": {},
   "outputs": [],
   "source": [
    "import firedrake as fd\n",
    "import matplotlib.pyplot as plt\n",
    "\n",
    "m1 = fd.RectangleMesh(10, 10, 1, 1)\n",
    "V1 = fd.FunctionSpace(m1, 'CG', 2)\n",
    "x, y = fd.SpatialCoordinate(m1)\n",
    "f1 = fd.Function(V1).interpolate(x**2 + y**2)\n",
    "\n",
    "m2 = fd.RectangleMesh(20, 20, 1, 1)\n",
    "V2 = fd.FunctionSpace(m2, 'CG', 3)\n",
    "f2 = fd.Function(V2)\n",
    "\n",
    "f2.interpolate(f1)\n",
    "\n",
    "fig, ax = plt.subplots(1, 2, figsize=[8, 4], subplot_kw=dict(projection='3d'))\n",
    "ts1 = fd.trisurf(f1, axes=ax[0])\n",
    "ts2 = fd.trisurf(f2, axes=ax[1])"
   ]
  },
  {
   "attachments": {},
   "cell_type": "markdown",
   "metadata": {},
   "source": [
    "#### 计算误差"
   ]
  },
  {
   "cell_type": "code",
   "execution_count": null,
   "metadata": {},
   "outputs": [],
   "source": [
    "# 相邻层结果比较\n",
    "my_errors_cauchy = []\n",
    "for i in range(len(us)-1):\n",
    "    u_intp = Function(us[i+1].function_space()).interpolate(us[i])\n",
    "    my_errors_cauchy.append(float(errornorm(u_intp, us[i+1])))"
   ]
  },
  {
   "cell_type": "code",
   "execution_count": null,
   "metadata": {},
   "outputs": [],
   "source": [
    "# 和最密层结果比较\n",
    "my_errors = []\n",
    "for i in range(len(us)-1):\n",
    "    u_intp = Function(us[-1].function_space()).interpolate(us[i])\n",
    "    my_errors.append(float(errornorm(u_intp, us[-1])))"
   ]
  },
  {
   "cell_type": "code",
   "execution_count": null,
   "metadata": {},
   "outputs": [],
   "source": [
    "from py.intro_utils import plot_errors\n",
    "plot_errors(hs, my_errors_cauchy, expect_order=2)\n",
    "plot_errors(hs, my_errors, expect_order=2)"
   ]
  },
  {
   "attachments": {},
   "cell_type": "markdown",
   "metadata": {},
   "source": [
    "## 网格尺寸和质量\n",
    "\n",
    "### 网格尺寸\n",
    "\n",
    "网格尺寸 `CellDiameter` 和 `CellSize` 一样, 均表示单元的最长边. 函数 `MeshGeometry.cell_sizes` 是 `CellSize` 在连续空间 P1 的投影. `Circumradius` 表示外接圆半径.\n",
    "\n",
    ":::{warning}\n",
    " `Circumradius` 只能用于线性网格\n",
    ":::"
   ]
  },
  {
   "cell_type": "code",
   "execution_count": null,
   "metadata": {},
   "outputs": [],
   "source": [
    "from firedrake import *\n",
    "\n",
    "mesh = RectangleMesh(1, 1, 1, 1)\n",
    "V = FunctionSpace(mesh, 'DG', 0)\n",
    "\n",
    "d = CellDiameter(mesh)\n",
    "d_int = Function(V).interpolate(d)\n",
    "\n",
    "r = Circumradius(mesh)\n",
    "r_int = Function(V).interpolate(r)\n",
    "\n",
    "size = mesh.cell_sizes"
   ]
  },
  {
   "cell_type": "code",
   "execution_count": null,
   "metadata": {},
   "outputs": [],
   "source": [
    "d_int.dat.data, size.dat.data, r_int.dat.data, "
   ]
  },
  {
   "attachments": {},
   "cell_type": "markdown",
   "metadata": {},
   "source": [
    "### 网格质量"
   ]
  },
  {
   "attachments": {},
   "cell_type": "markdown",
   "metadata": {},
   "source": [
    "仅作用于线性网格"
   ]
  },
  {
   "cell_type": "code",
   "execution_count": null,
   "metadata": {},
   "outputs": [],
   "source": [
    "from firedrake import *\n",
    "\n",
    "def get_quality_3d(mesh):\n",
    "    kernel = r'''\n",
    "    void get_quality(double coords[4][3], double v[1], double q[1]){\n",
    "        double a, b, c, p;\n",
    "        double ls[6];\n",
    "        double s, r, R, _tmp;\n",
    "        double v1[3], v2[3], v3[3];\n",
    "        int idx[6][2] = {{0, 1}, {2, 3}, {0, 2}, {1, 3}, {0, 3}, {1, 2}};\n",
    "        int idx2[4][3] = {{0, 1, 2}, {0, 2, 3}, {1, 2, 3}, {0, 1, 3}};\n",
    "        for (int i=0; i < 6; i++){\n",
    "            _tmp = 0;\n",
    "            for (int j=0; j < 3; j++){\n",
    "                _tmp += pow(coords[idx[i][0]][j] - coords[idx[i][1]][j], 2.0);\n",
    "            }\n",
    "            ls[i] = sqrt(_tmp);\n",
    "        }\n",
    "        a = ls[0]*ls[1];\n",
    "        b = ls[2]*ls[3];\n",
    "        c = ls[4]*ls[5];\n",
    "        p = (a + b + c)/2;\n",
    "\n",
    "        s = 0;\n",
    "        for (int i=0; i < 4; i++){\n",
    "            for (int j = 0; j < 3; j++){\n",
    "                v1[j] = coords[idx2[i][2]][j] - coords[idx2[i][0]][j];\n",
    "                v2[j] = coords[idx2[i][2]][j] - coords[idx2[i][1]][j];\n",
    "            }\n",
    "            v3[0] =   v2[1]*v1[2] - v2[2]*v1[1];\n",
    "            v3[1] = - v2[0]*v1[2] + v2[2]*v1[0];\n",
    "            v3[2] =   v2[0]*v1[1] - v2[1]*v1[0];\n",
    "            s += sqrt(pow(v3[0], 2.0) + pow(v3[1], 2.0) + pow(v3[2], 2.0))/2;\n",
    "        }\n",
    "\n",
    "        R = sqrt(p*(p-a)*(p-b)*(p-c))/v[0]/6.0;\n",
    "        r = 3*v[0]/s;\n",
    "        q[0] = r/R;\n",
    "    }\n",
    "    '''\n",
    "\n",
    "    coords =  mesh.coordinates\n",
    "    V = FunctionSpace(mesh, 'DG', 0)\n",
    "    volume = Function(V).interpolate(CellVolume(mesh))\n",
    "    quality = Function(V)\n",
    "\n",
    "    cell_node_map = quality.cell_node_map()\n",
    "    op2.par_loop(op2.Kernel(kernel, 'get_quality'), cell_node_map.iterset,\n",
    "                 coords.dat(op2.READ, coords.cell_node_map()),\n",
    "                 volume.dat(op2.READ, cell_node_map),\n",
    "                 quality.dat(op2.WRITE, cell_node_map))\n",
    "\n",
    "    return quality\n",
    "\n",
    "def get_quality_2d(mesh):\n",
    "    V = FunctionSpace(mesh, 'DG', 0)\n",
    "    quality = Function(V)\n",
    "    domain = '{[i]: 0 <= i < A.dofs}'\n",
    "    # 0, 1\n",
    "    # 2, 3\n",
    "    # 4, 5\n",
    "    # B[2] - B[0], B[3] - B[1]\n",
    "    # B[4] - B[0], B[5] - B[1]\n",
    "    instructions = '''\n",
    "for i\n",
    "    <> S = fabs((B[2, 1] - B[0, 1])*(B[1, 0] - B[0, 0]) - (B[1, 1] - B[0, 1])*(B[2, 0] - B[0, 0]))\n",
    "    <> a = sqrt(pow(B[1, 0] - B[0, 0], 2.) + pow(B[1, 1] - B[0, 1], 2.))\n",
    "    <> b = sqrt(pow(B[2, 0] - B[1, 0], 2.) + pow(B[2, 1] - B[1, 1], 2.))\n",
    "    <> c = sqrt(pow(B[0, 0] - B[2, 0], 2.) + pow(B[0, 1] - B[2, 1], 2.))\n",
    "    <> R = a*b*c/(2*S)\n",
    "    <> r = S/(a+b+c)\n",
    "    A[0] = r/R\n",
    "end\n",
    "'''\n",
    "\n",
    "    par_loop((domain, instructions), \\\n",
    "             dx, \\\n",
    "             {'A': (quality, WRITE), 'B' :(mesh.coordinates, READ)})\n",
    "\n",
    "    return quality\n",
    "\n",
    "def get_quality_2d_surface(mesh):\n",
    "    kernel = r'''\n",
    "    void get_quality(double coords[3][3], double v[1], double q[1]){\n",
    "        double p, _tmp, R, r, ls[3];\n",
    "        double S = v[0];\n",
    "        int idx[3][2] = {{0, 1}, {1, 2}, {0, 2}};\n",
    "        for (int i=0; i < 3; i++){\n",
    "            _tmp = 0;\n",
    "            for (int j=0; j < 3; j++){\n",
    "                _tmp += pow(coords[idx[i][0]][j] - coords[idx[i][1]][j], 2.0);\n",
    "            }\n",
    "            ls[i] = sqrt(_tmp);\n",
    "        }\n",
    "        p = (ls[0] + ls[1] + ls[2])/2;\n",
    "        \n",
    "        // S = sqrt(p*(p-ls[0])*(p-ls[1])*(p-ls[2]));\n",
    "        R = ls[0]*ls[1]*ls[2]/(4*S);\n",
    "        r = S/p;\n",
    "        q[0] = r/R;\n",
    "    }\n",
    "    '''\n",
    "\n",
    "    coords =  mesh.coordinates\n",
    "    V = FunctionSpace(mesh, 'DG', 0)\n",
    "    volume = Function(V).interpolate(CellVolume(mesh))\n",
    "    quality = Function(V)\n",
    "\n",
    "    cell_node_map = quality.cell_node_map()\n",
    "    op2.par_loop(op2.Kernel(kernel, 'get_quality'), cell_node_map.iterset,\n",
    "                 coords.dat(op2.READ, coords.cell_node_map()),\n",
    "                 volume.dat(op2.READ, cell_node_map),\n",
    "                 quality.dat(op2.WRITE, cell_node_map))\n",
    "    return quality"
   ]
  },
  {
   "attachments": {},
   "cell_type": "markdown",
   "metadata": {},
   "source": [
    "__2d 和 3d__"
   ]
  },
  {
   "cell_type": "code",
   "execution_count": null,
   "metadata": {},
   "outputs": [],
   "source": [
    "mesh2d = RectangleMesh(1, 1, 1, 1)\n",
    "mesh3d = UnitCubeMesh(1, 1, 1)\n",
    "\n",
    "q2 = get_quality_2d(mesh2d)\n",
    "q3 = get_quality_3d(mesh3d)"
   ]
  },
  {
   "cell_type": "code",
   "execution_count": null,
   "metadata": {},
   "outputs": [],
   "source": [
    "q2.dat.data, q3.dat.data"
   ]
  },
  {
   "attachments": {},
   "cell_type": "markdown",
   "metadata": {},
   "source": [
    "__2d 正三角形__"
   ]
  },
  {
   "cell_type": "code",
   "execution_count": null,
   "metadata": {},
   "outputs": [],
   "source": [
    "from firedrake.petsc import PETSc\n",
    "from pyop2.datatypes import IntType\n",
    "import numpy as np\n",
    "\n",
    "cells = np.array([[0, 1, 2]], dtype=IntType)\n",
    "coords = np.array([[0.0, 0.0],\n",
    "                   [1.0, 0.0],\n",
    "                   [1/2, np.sqrt(3)/2]])\n",
    "\n",
    "plex = PETSc.DMPlex()\n",
    "plex.createFromCellList(2, cells, coords)\n",
    "mesh = Mesh(plex)\n",
    "q_mesh = get_quality_2d(mesh)\n",
    "q_mesh.dat.data"
   ]
  },
  {
   "attachments": {},
   "cell_type": "markdown",
   "metadata": {},
   "source": [
    "__曲面网格__"
   ]
  },
  {
   "cell_type": "code",
   "execution_count": null,
   "metadata": {},
   "outputs": [],
   "source": [
    "mesh_surf = IcosahedralSphereMesh(1)\n",
    "q_surf = get_quality_2d_surface(mesh_surf)\n",
    "q_surf.dat.data"
   ]
  },
  {
   "cell_type": "code",
   "execution_count": null,
   "metadata": {
    "tags": []
   },
   "outputs": [],
   "source": [
    "from firedrake.petsc import PETSc\n",
    "from pyop2.datatypes import IntType\n",
    "\n",
    "cells = np.array([[0, 1, 2]], dtype=IntType)\n",
    "coords = np.array([[0.0, 0.0, 0.0],\n",
    "                   [1.0, 0.0, 0.0],\n",
    "                   [1/2, np.sqrt(3)/2, 0.0]])\n",
    "\n",
    "plex = PETSc.DMPlex()\n",
    "plex.createFromCellList(2, cells, coords)\n",
    "mesh = Mesh(plex, dim=3)\n",
    "q_mesh = get_quality_2d_surface(mesh)\n",
    "q_mesh.dat.data"
   ]
  }
 ],
 "metadata": {
  "language_info": {
   "name": "python"
  }
 },
 "nbformat": 4,
 "nbformat_minor": 4
}
