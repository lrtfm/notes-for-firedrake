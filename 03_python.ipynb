{
 "cells": [
  {
   "cell_type": "markdown",
   "id": "d56e31c6-7e76-4a8c-a4bd-ab14d338a385",
   "metadata": {},
   "source": [
    "# Data types"
   ]
  },
  {
   "cell_type": "markdown",
   "id": "b0c163dd-fd9c-4ede-8045-636e749c3ad9",
   "metadata": {},
   "source": [
    "## list"
   ]
  },
  {
   "cell_type": "code",
   "execution_count": 2,
   "id": "2daf2a0a-db92-45c1-9b95-05dadf3ec725",
   "metadata": {},
   "outputs": [],
   "source": [
    "a = [1, 2, 3, 4]\n",
    "b = list((1, 2, 3, 4))"
   ]
  },
  {
   "cell_type": "code",
   "execution_count": 4,
   "id": "7e51a6fd-4cd9-42f5-9796-f70d8aec68df",
   "metadata": {},
   "outputs": [
    {
     "data": {
      "text/plain": [
       "([1, 2, 3, 4], [1, 2, 3, 4])"
      ]
     },
     "execution_count": 4,
     "metadata": {},
     "output_type": "execute_result"
    }
   ],
   "source": [
    "a, b"
   ]
  },
  {
   "cell_type": "code",
   "execution_count": 5,
   "id": "97bb947b-ecd9-4ad8-b8c1-63548c5fd033",
   "metadata": {},
   "outputs": [
    {
     "data": {
      "text/plain": [
       "(139959652108800, 139960033276928)"
      ]
     },
     "execution_count": 5,
     "metadata": {},
     "output_type": "execute_result"
    }
   ],
   "source": [
    "id(a), id(b)"
   ]
  },
  {
   "cell_type": "code",
   "execution_count": 8,
   "id": "47d985a8-bdf8-4216-a0e1-180c656613a8",
   "metadata": {},
   "outputs": [],
   "source": [
    "a = [i for i in range(10)]"
   ]
  },
  {
   "cell_type": "code",
   "execution_count": 9,
   "id": "d3296be6-9877-4480-95e2-3f50a0eb10d7",
   "metadata": {},
   "outputs": [
    {
     "data": {
      "text/plain": [
       "[0, 1, 2, 3, 4, 5, 6, 7, 8, 9]"
      ]
     },
     "execution_count": 9,
     "metadata": {},
     "output_type": "execute_result"
    }
   ],
   "source": [
    "a"
   ]
  },
  {
   "cell_type": "markdown",
   "id": "cf78f0c9-002b-4bbe-8988-774569d9bc97",
   "metadata": {},
   "source": [
    "## dict"
   ]
  },
  {
   "cell_type": "code",
   "execution_count": 2,
   "id": "198797ed-66c0-407b-a9fd-02be611c75a4",
   "metadata": {},
   "outputs": [],
   "source": [
    "a = {'name': 'Yang Zongze', 'id': 1234, 'department': 'AMA'}"
   ]
  },
  {
   "cell_type": "code",
   "execution_count": 3,
   "id": "375fbe5c-ad3a-4731-ac62-e9147638c933",
   "metadata": {},
   "outputs": [
    {
     "data": {
      "text/plain": [
       "'Yang Zongze'"
      ]
     },
     "execution_count": 3,
     "metadata": {},
     "output_type": "execute_result"
    }
   ],
   "source": [
    "a['name']"
   ]
  },
  {
   "cell_type": "code",
   "execution_count": 4,
   "id": "9bfff230-adfc-48a9-bdec-3d8b01360f7f",
   "metadata": {},
   "outputs": [
    {
     "data": {
      "text/plain": [
       "30"
      ]
     },
     "execution_count": 4,
     "metadata": {},
     "output_type": "execute_result"
    }
   ],
   "source": [
    "a.get('age', 30)"
   ]
  },
  {
   "cell_type": "markdown",
   "id": "59789049-f4c7-4cf5-af41-02e5cf7d3ce5",
   "metadata": {},
   "source": [
    "## tuple"
   ]
  },
  {
   "cell_type": "code",
   "execution_count": 29,
   "id": "1d85ae66-07b7-4187-bbda-3f0c314f540c",
   "metadata": {},
   "outputs": [],
   "source": [
    "a = (1, 2, 3)"
   ]
  },
  {
   "cell_type": "markdown",
   "id": "b91757bc-35a6-444d-a291-0017eb856056",
   "metadata": {},
   "source": [
    "# Packages in Python"
   ]
  },
  {
   "cell_type": "markdown",
   "id": "2111b38d-c9f9-404c-b942-eef28ef7afb7",
   "metadata": {},
   "source": [
    "## ipyparallel"
   ]
  },
  {
   "cell_type": "code",
   "execution_count": null,
   "id": "d60c9845-018b-4c79-8e0d-622bdef82e7d",
   "metadata": {},
   "outputs": [],
   "source": []
  }
 ],
 "metadata": {
  "kernelspec": {
   "display_name": "Python 3 (ipykernel)",
   "language": "python",
   "name": "python3"
  },
  "language_info": {
   "codemirror_mode": {
    "name": "ipython",
    "version": 3
   },
   "file_extension": ".py",
   "mimetype": "text/x-python",
   "name": "python",
   "nbconvert_exporter": "python",
   "pygments_lexer": "ipython3",
   "version": "3.8.10"
  }
 },
 "nbformat": 4,
 "nbformat_minor": 5
}
