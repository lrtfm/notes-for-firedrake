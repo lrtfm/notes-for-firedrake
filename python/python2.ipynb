{
 "cells": [
  {
   "cell_type": "markdown",
   "id": "69441542-695b-49d2-af51-2c117000d8fd",
   "metadata": {
    "jupyter": {
     "outputs_hidden": true
    },
    "tags": []
   },
   "source": [
    "# Notes on Python"
   ]
  },
  {
   "cell_type": "markdown",
   "id": "6a5172df-8706-4085-a199-28040ca14f3b",
   "metadata": {
    "tags": []
   },
   "source": [
    "## Python"
   ]
  },
  {
   "cell_type": "markdown",
   "id": "174f73dc-d587-428d-bacd-fddd5c942baa",
   "metadata": {},
   "source": [
    "#### For firedrake\n",
    "\n",
    "Create a file with the following content and save in bin of firedrake in order to start python in the corresponding env.\n",
    "\n",
    "```bash\n",
    "#!/usr/bin/env bash\n",
    "\n",
    "SCRIPT_DIR=$( cd -- \"$( dirname -- \"${BASH_SOURCE[0]}\" )\" &> /dev/null && pwd )\n",
    "FIRDRAKE_BASENAME=$( basename $( dirname $SCRIPT_DIR ) )  # firedrake-comple\n",
    "MY_SPACK_DIR=$( dirname $( dirname $SCRIPT_DIR ) )           # /.../firedrake-env\n",
    "MY_SPACK_LOG=$(spack env status)\n",
    "\n",
    "if [ \"`basename \\\"$VIRTUAL_ENV\\\"`\" != \"$FIRDRAKE_BASENAME\" ]; then\n",
    "        if [ \"$VIRTURE_ENV\" != \"\" ]; then\n",
    "                deactivate\n",
    "        fi\n",
    "        if `echo \"$MY_SPACK_LOG\" | grep -v \"$MY_SPACK_DIR\" > /dev/null 2>&1`; then\n",
    "                if `echo \"$MY_SPACK_LOG\" | grep -v \"No\" > /dev/null 2>&1`; then\n",
    "                        spack env deactivate\n",
    "                fi\n",
    "                spack env activate $MY_SPACK_DIR -p\n",
    "                unset PYTHON_PATH\n",
    "        fi\n",
    "        . $SCRIPT_DIR/activate\n",
    "fi\n",
    "\n",
    "export MPIR_CVAR_ENABLE_GPU=0\n",
    "export OMP_NUM_THREADS=1\n",
    "# pass all the paramter to pthon\n",
    "$SCRIPT_DIR/python $@\n",
    "```"
   ]
  },
  {
   "cell_type": "markdown",
   "id": "c97a795a-4dab-4950-a145-74093cd59ba7",
   "metadata": {},
   "source": [
    "### Load your package\n",
    "Some times we would like to import files from other folds\n",
    "\n",
    "1. First add the path to system path by\n",
    "2. Import the package"
   ]
  },
  {
   "cell_type": "code",
   "execution_count": 3,
   "id": "c5d6b98c-b40e-4c14-91ed-228306245fe5",
   "metadata": {},
   "outputs": [],
   "source": [
    "import os\n",
    "import sys \n",
    "mypath = '..'  # the path of your path file (my file is utils/Tools.py)\n",
    "sys.path.append(mypath) # ma\n",
    "\n",
    "from utils.surface import SubManifoldBC, grad_surf"
   ]
  },
  {
   "cell_type": "markdown",
   "id": "0f7f18f8-b2ef-4ebd-bdbb-845dfa4b8e38",
   "metadata": {},
   "source": [
    "### Reload your packge"
   ]
  },
  {
   "cell_type": "code",
   "execution_count": 2,
   "id": "22e80bb3-ee7e-4dd4-965f-f144fd7c453e",
   "metadata": {},
   "outputs": [],
   "source": [
    "import fdtools\n",
    "import importlib\n",
    "\n",
    "fdtools = importlib.reload(fdtools)"
   ]
  },
  {
   "cell_type": "markdown",
   "id": "2961203e-b8b7-40e8-b193-439168b96555",
   "metadata": {},
   "source": [
    "### set environment"
   ]
  },
  {
   "cell_type": "code",
   "execution_count": 5,
   "id": "3577157c-8e32-45bf-9748-994a033c1215",
   "metadata": {},
   "outputs": [],
   "source": [
    "import os\n",
    "\n",
    "os.environ['ABC'] = '3'"
   ]
  },
  {
   "cell_type": "markdown",
   "id": "93a14930-5ef4-486c-8fc4-ee5884a33542",
   "metadata": {},
   "source": [
    "### Arrays\n",
    "\n",
    "Inverse an array"
   ]
  },
  {
   "cell_type": "code",
   "execution_count": 12,
   "id": "465103f4-208f-4a9f-95fc-0b06adb638b2",
   "metadata": {},
   "outputs": [
    {
     "name": "stdout",
     "output_type": "stream",
     "text": [
      "[1, 2, 3]\n",
      "[3, 2, 1]\n"
     ]
    }
   ],
   "source": [
    "a = [1, 2, 3]\n",
    "b = a[::-1]\n",
    "print(a)\n",
    "print(b)"
   ]
  },
  {
   "cell_type": "markdown",
   "id": "96c4fa6c-23b3-4e92-9b2b-eb95bcc38f5b",
   "metadata": {},
   "source": [
    "### PrograssBar"
   ]
  },
  {
   "cell_type": "code",
   "execution_count": 7,
   "id": "8243f421-d78e-478d-9b8c-8492a6d933e5",
   "metadata": {},
   "outputs": [
    {
     "name": "stderr",
     "output_type": "stream",
     "text": [
      "Processing d: 100%|██████████| 4/4 [00:01<00:00,  3.92it/s]\n"
     ]
    }
   ],
   "source": [
    "from tqdm import tqdm\n",
    "from time import sleep\n",
    "\n",
    "pbar = tqdm([\"a\", \"b\", \"c\", \"d\"])\n",
    "for char in pbar:\n",
    "    sleep(0.25)\n",
    "    pbar.set_description(\"Processing %s\" % char)"
   ]
  },
  {
   "cell_type": "markdown",
   "id": "6298130b-21de-44a6-a7b4-98635b9c7798",
   "metadata": {},
   "source": [
    "#### MPI version"
   ]
  },
  {
   "cell_type": "code",
   "execution_count": null,
   "id": "ecf54815-454b-42ba-abb0-86a87ea26c00",
   "metadata": {},
   "outputs": [],
   "source": [
    "import mpi4py\n",
    "from tqdm.auto import tqdm\n",
    "\n",
    "def isnotebook():\n",
    "    try:\n",
    "        shell = get_ipython().__class__.__name__\n",
    "        if shell == 'ZMQInteractiveShell':\n",
    "            return True   # Jupyter notebook or qtconsole\n",
    "        elif shell == 'TerminalInteractiveShell':\n",
    "            return False  # Terminal running IPython\n",
    "        else:\n",
    "            return False  # Other type (?)\n",
    "    except NameError:\n",
    "        return False      # Probably standard Python interpreter\n",
    "\n",
    "\n",
    "class ptqdm:\n",
    "    \n",
    "    __config__ = {'ncols': None if isnotebook() else 100, 'ascii': True}\n",
    "    \n",
    "    def __init__(self, *args, **kwargs):\n",
    "        \n",
    "        comm = kwargs['comm'] if 'comm' in kwargs.keys() else None\n",
    "        comm = comm or mpi4py.MPI.COMM_WORLD\n",
    "        self.rank = comm.Get_rank()  \n",
    "        \n",
    "        for key, val in ptqdm.__config__.items():\n",
    "            if key not in kwargs.keys():\n",
    "                kwargs[key] = val\n",
    "        \n",
    "        self.tqdm = tqdm(*args, **kwargs) if self.rank == 0 else None\n",
    "    \n",
    "    def update(self):\n",
    "        if self.tqdm is not None:\n",
    "            self.tqdm.update()\n",
    "            \n",
    "    def close(self):\n",
    "        if self.tqdm is not None:\n",
    "            self.tqdm.close()\n",
    "        \n",
    "    def __getattr__(self, attr):\n",
    "        return self.tqdm.__get_attr__(attr)"
   ]
  },
  {
   "cell_type": "markdown",
   "id": "0868b471-40bb-4300-8b8a-23c1c6ea6812",
   "metadata": {
    "tags": []
   },
   "source": [
    "### Use ipyparallel\n",
    "\n",
    "1. Install it with pip\n",
    "2. Start the controller and engine ( or just cluster )\n",
    "3. Link it by use Client in jupyer"
   ]
  },
  {
   "cell_type": "markdown",
   "id": "0bc03807-8228-4205-8e68-db67f66ff68f",
   "metadata": {},
   "source": [
    "Two ways to start\n",
    "1. Client\n",
    "\n",
    "```python\n",
    "# Activate the magic \n",
    "import ipyparallel as ipp\n",
    "import os\n",
    "cluster = ipp.Client(profile='mpi')\n",
    "view = cluster[:]\n",
    "view.activate()\n",
    "\n",
    "# print('profile:', cluster.profile)\n",
    "# print(\"IDs:\", cluster.ids) # Print process id numbers\n",
    "```\n",
    "\n",
    "2. Cluster\n",
    "\n",
    "```python\n",
    "# Activate the magic \n",
    "import ipyparallel as ipp\n",
    "import os\n",
    "\n",
    "cluster = ipp.Cluster(profile=\"mpi\", n=4)\n",
    "client = cluster.start_and_connect_sync()\n",
    "# %%px --block --progress-after=-1\n",
    "```"
   ]
  },
  {
   "cell_type": "code",
   "execution_count": 6,
   "id": "c3a4207c-299d-4d63-910f-86e0f8dc63b3",
   "metadata": {},
   "outputs": [
    {
     "data": {
      "text/plain": [
       "[3, 3, 3, 3]"
      ]
     },
     "execution_count": 6,
     "metadata": {},
     "output_type": "execute_result"
    }
   ],
   "source": [
    "import ipyparallel as ipp\n",
    "import os\n",
    "cluster = ipp.Client(profile='mpi')\n",
    "view = cluster[:]\n",
    "view.activate()\n",
    "view['a'] = 3\n",
    "view.get('a')"
   ]
  },
  {
   "cell_type": "code",
   "execution_count": 4,
   "id": "6b5b6a97-d97f-49a3-8e14-85f3d6d02207",
   "metadata": {},
   "outputs": [
    {
     "data": {
      "text/plain": [
       "\u001b[0;31mOut[0:7]: \u001b[0m(0, 4)"
      ]
     },
     "metadata": {
      "after": [],
      "completed": "2021-05-30T09:06:54.886248",
      "data": {},
      "engine_id": 0,
      "engine_uuid": "aaf13613-d05a564975fee97154fbf151",
      "error": null,
      "execute_input": "# if you use --noblock, you can see the log by run '%pxresult' in the next cell\nfrom firedrake.petsc import PETSc\n\nPETSc.COMM_WORLD.getRank(), PETSc.COMM_WORLD.getSize()\n",
      "execute_result": {
       "data": {
        "text/plain": "(0, 4)"
       },
       "execution_count": 7,
       "metadata": {}
      },
      "follow": [],
      "msg_id": "f57b1a78-29f39d0c039484f2d42928f5_5",
      "outputs": [],
      "received": "2021-05-30T09:06:54.892934",
      "started": "2021-05-30T09:06:54.879030",
      "status": "ok",
      "stderr": "",
      "stdout": "",
      "submitted": "2021-05-30T09:06:54.875163"
     },
     "output_type": "display_data"
    },
    {
     "data": {
      "text/plain": [
       "\u001b[0;31mOut[1:7]: \u001b[0m(1, 4)"
      ]
     },
     "metadata": {
      "after": [],
      "completed": "2021-05-30T09:06:54.884210",
      "data": {},
      "engine_id": 1,
      "engine_uuid": "c8f7f13b-1a0836be618f73e612e20e74",
      "error": null,
      "execute_input": "# if you use --noblock, you can see the log by run '%pxresult' in the next cell\nfrom firedrake.petsc import PETSc\n\nPETSc.COMM_WORLD.getRank(), PETSc.COMM_WORLD.getSize()\n",
      "execute_result": {
       "data": {
        "text/plain": "(1, 4)"
       },
       "execution_count": 7,
       "metadata": {}
      },
      "follow": [],
      "msg_id": "f57b1a78-29f39d0c039484f2d42928f5_6",
      "outputs": [],
      "received": "2021-05-30T09:06:54.892109",
      "started": "2021-05-30T09:06:54.881681",
      "status": "ok",
      "stderr": "",
      "stdout": "",
      "submitted": "2021-05-30T09:06:54.875421"
     },
     "output_type": "display_data"
    },
    {
     "data": {
      "text/plain": [
       "\u001b[0;31mOut[2:7]: \u001b[0m(2, 4)"
      ]
     },
     "metadata": {
      "after": [],
      "completed": "2021-05-30T09:06:54.904488",
      "data": {},
      "engine_id": 2,
      "engine_uuid": "e45ceda5-a786a2c1f574467353102144",
      "error": null,
      "execute_input": "# if you use --noblock, you can see the log by run '%pxresult' in the next cell\nfrom firedrake.petsc import PETSc\n\nPETSc.COMM_WORLD.getRank(), PETSc.COMM_WORLD.getSize()\n",
      "execute_result": {
       "data": {
        "text/plain": "(2, 4)"
       },
       "execution_count": 7,
       "metadata": {}
      },
      "follow": [],
      "msg_id": "f57b1a78-29f39d0c039484f2d42928f5_7",
      "outputs": [],
      "received": "2021-05-30T09:06:54.921666",
      "started": "2021-05-30T09:06:54.897509",
      "status": "ok",
      "stderr": "",
      "stdout": "",
      "submitted": "2021-05-30T09:06:54.875580"
     },
     "output_type": "display_data"
    },
    {
     "data": {
      "text/plain": [
       "\u001b[0;31mOut[3:7]: \u001b[0m(3, 4)"
      ]
     },
     "metadata": {
      "after": [],
      "completed": "2021-05-30T09:06:54.893978",
      "data": {},
      "engine_id": 3,
      "engine_uuid": "55696adf-b88384b05e0d1cbe8fc91fc8",
      "error": null,
      "execute_input": "# if you use --noblock, you can see the log by run '%pxresult' in the next cell\nfrom firedrake.petsc import PETSc\n\nPETSc.COMM_WORLD.getRank(), PETSc.COMM_WORLD.getSize()\n",
      "execute_result": {
       "data": {
        "text/plain": "(3, 4)"
       },
       "execution_count": 7,
       "metadata": {}
      },
      "follow": [],
      "msg_id": "f57b1a78-29f39d0c039484f2d42928f5_8",
      "outputs": [],
      "received": "2021-05-30T09:06:54.899395",
      "started": "2021-05-30T09:06:54.881672",
      "status": "ok",
      "stderr": "",
      "stdout": "",
      "submitted": "2021-05-30T09:06:54.875731"
     },
     "output_type": "display_data"
    }
   ],
   "source": [
    "%%px --block\n",
    "# if you use --noblock, you can see the log by run '%pxresult' in the next cell\n",
    "from firedrake.petsc import PETSc\n",
    "\n",
    "PETSc.COMM_WORLD.getRank(), PETSc.COMM_WORLD.getSize()"
   ]
  },
  {
   "cell_type": "code",
   "execution_count": 5,
   "id": "fd5df139-6411-4744-ac5d-95edb1520d98",
   "metadata": {},
   "outputs": [
    {
     "name": "stdout",
     "output_type": "stream",
     "text": [
      "[stdout:0] --------------------------------------------------------------------------------\n",
      "[stdout:1] --------------------------------------------------------------------------------\n",
      "[stdout:2] --------------------------------------------------------------------------------\n",
      "[stdout:3] --------------------------------------------------------------------------------\n",
      "[stdout:0] ++++++++++++++++++++++++++++++++++++++++++++++++++++++++++++++++++++++++++++++++\n",
      "[stdout:1] ++++++++++++++++++++++++++++++++++++++++++++++++++++++++++++++++++++++++++++++++\n",
      "[stdout:2] ++++++++++++++++++++++++++++++++++++++++++++++++++++++++++++++++++++++++++++++++\n",
      "[stdout:3] ++++++++++++++++++++++++++++++++++++++++++++++++++++++++++++++++++++++++++++++++\n"
     ]
    }
   ],
   "source": [
    "%px print('-'*80)\n",
    "%pxresult\n",
    "%px print('+'*80)\n",
    "%pxresult"
   ]
  },
  {
   "cell_type": "markdown",
   "id": "82efb017-336a-4e3e-9c06-6237aaeb1e5d",
   "metadata": {},
   "source": [
    "### Command Line options"
   ]
  },
  {
   "cell_type": "markdown",
   "id": "39c83524-d9cb-4a1a-9e15-8d1ca491902b",
   "metadata": {},
   "source": [
    "#### How to use `getopt`\n",
    "\n",
    "```python\n",
    "import os\n",
    "import sys\n",
    "import numpy as np\n",
    "\n",
    "\n",
    "import getopt\n",
    "\n",
    "if __name__ == '__main__':\n",
    "    try:\n",
    "        opts, args = getopt.getopt(sys.argv[1:], '', [\"lcs=\",\"full-path=\"])\n",
    "    except getopt.GetoptError:\n",
    "        print('%s --lcs <[python list]> --full-path <full-path>' % sys.argv[0])\n",
    "        sys.exit(2)\n",
    "\n",
    "    for opt, arg in opts:\n",
    "        if opt == '--lcs':\n",
    "            print('lcs arg is %s' % arg)\n",
    "        elif opt == '--full-path':\n",
    "            print('path arg is %s' % arg)\n",
    "```\n",
    "\n",
    "#### How to use `argparse`\n",
    "```python\n",
    "import os\n",
    "import sys\n",
    "import numpy as np\n",
    "\n",
    "\n",
    "import argparse\n",
    "\n",
    "if __name__ == '__main__':\n",
    "    parser = argparse.ArgumentParser(description='Learn Argparse')\n",
    "    parser.add_argument('--lcs', metavar='lcs', type=float, nargs='+', # default=None,\n",
    "                        help='A python list of mesh sizes.')\n",
    "    parser.add_argument('--fullpath', dest='full_path', action='store',\n",
    "                        default=None,\n",
    "                        help='The path where data stay.')\n",
    "\n",
    "    \n",
    "    args = parser.parse_args()\n",
    "    print(args)\n",
    "```"
   ]
  },
  {
   "cell_type": "code",
   "execution_count": 14,
   "id": "11ed497f-5b34-460a-8fe9-80dae53aa4c0",
   "metadata": {},
   "outputs": [
    {
     "data": {
      "text/plain": [
       "(Namespace(full_path=None, lcs=[1.0]), ['-b'])"
      ]
     },
     "execution_count": 14,
     "metadata": {},
     "output_type": "execute_result"
    }
   ],
   "source": [
    "import os\n",
    "import sys\n",
    "import numpy as np\n",
    "\n",
    "\n",
    "import argparse\n",
    "\n",
    "\n",
    "parser = argparse.ArgumentParser(description='Learn Argparse')\n",
    "parser.add_argument('--lcs', metavar='lcs', type=float, nargs='+', # default=None,\n",
    "                    help='A python list of mesh sizes.')\n",
    "parser.add_argument('--fullpath', dest='full_path', action='store',\n",
    "                    default=None,\n",
    "                    help='The path where data stay.')\n",
    "\n",
    "\n",
    "# args = parser.parse_args()\n",
    "# print(args)\n",
    "    \n",
    "parser.parse_known_args('--lcs 1 -b'.split())"
   ]
  },
  {
   "cell_type": "code",
   "execution_count": 15,
   "id": "c95c64c6-48bd-4054-b8f5-579e53ae77e6",
   "metadata": {},
   "outputs": [
    {
     "name": "stdout",
     "output_type": "stream",
     "text": [
      "(Namespace(full_path=None, lcs=None), [])\n"
     ]
    }
   ],
   "source": [
    "arg, unknow = parser.parse_known_args(''.split())\n",
    "print((arg, unknow))"
   ]
  },
  {
   "cell_type": "code",
   "execution_count": 16,
   "id": "4518d6a3-3f54-4e88-a8db-db3a0080de78",
   "metadata": {},
   "outputs": [
    {
     "name": "stdout",
     "output_type": "stream",
     "text": [
      "(Namespace(full_path=None, lcs=None), [])\n"
     ]
    }
   ],
   "source": [
    "arg, unknow = parser.parse_known_intermixed_args(''.split())\n",
    "print((arg, unknow))"
   ]
  },
  {
   "cell_type": "code",
   "execution_count": 1,
   "id": "a13b58af-fd5c-4622-8464-15c3c36339db",
   "metadata": {},
   "outputs": [
    {
     "name": "stderr",
     "output_type": "stream",
     "text": [
      "firedrake:WARNING OMP_NUM_THREADS is not set or is set to a value greater than 1, we suggest setting OMP_NUM_THREADS=1 to improve performance\n"
     ]
    }
   ],
   "source": [
    "from firedrake import *"
   ]
  },
  {
   "cell_type": "markdown",
   "id": "b8a8e26d-1073-4a1f-804d-2b5c1c824c19",
   "metadata": {
    "jupyter": {
     "outputs_hidden": true
    },
    "tags": []
   },
   "source": [
    "\n",
    "\n",
    "#### How to use `PETSc` in `firedrake`\n",
    "```python\n",
    "import os\n",
    "import sys\n",
    "from firedrake import *\n",
    "\n",
    "if __name__ == '__main__':\n",
    "    \n",
    "    opts = PETSc.Options()\n",
    "    \n",
    "    if opts.hasName('lcs'):                 # -lcs\n",
    "        lcs_str = opts.getString('lcs')\n",
    "        lcs = eval(lcs_str)\n",
    "    else:\n",
    "        lcs = None\n",
    "        \n",
    "    if opts.hasName('datapath'):            # -datapath\n",
    "        datapath = opts.getString('datapath')\n",
    "        os.path.exist(datapath)\n",
    "    else:\n",
    "        data_path = None\n",
    "\n",
    "    print(lcs, data_path)\n",
    "```\n"
   ]
  },
  {
   "cell_type": "markdown",
   "id": "1ce763cf-3cca-4fcd-acfa-6fbf7de070aa",
   "metadata": {},
   "source": [
    "### Plot"
   ]
  },
  {
   "cell_type": "markdown",
   "id": "f235841d-e369-45bb-a5a6-a644600cfcd0",
   "metadata": {},
   "source": [
    "### Use `matplotlib`"
   ]
  },
  {
   "cell_type": "code",
   "execution_count": 14,
   "id": "309cef00-1257-41f3-8b9a-3466be3c9b91",
   "metadata": {},
   "outputs": [],
   "source": [
    "import numpy as np\n",
    "import matplotlib\n",
    "import matplotlib.pyplot as plt\n",
    "from matplotlib.ticker import (MultipleLocator, AutoMinorLocator)\n",
    "\n",
    "matplotlib.rcParams.update(\n",
    "    {'font.size': 16, \n",
    "     'savefig.bbox': 'tight',\n",
    "     \"figure.facecolor\":  (0.9, 0.9, 0.9, 0.3),  # red   with alpha = 30%\n",
    "     \"axes.facecolor\":    (0.8, 0.8, 0.8, 0.2),  # green with alpha = 50%\n",
    "     # \"savefig.facecolor\": (0.0, 0.0, 1.0, 0.2),  # blue  with alpha = 20%\n",
    "    }\n",
    ")"
   ]
  },
  {
   "cell_type": "code",
   "execution_count": 49,
   "id": "0f5c925c-b3eb-4448-8bd6-702bdb8d3ce9",
   "metadata": {},
   "outputs": [
    {
     "data": {
      "image/png": "[encoded data removed]",
      "text/plain": [
       "<Figure size 288x216 with 1 Axes>"
      ]
     },
     "metadata": {
      "needs_background": "light"
     },
     "output_type": "display_data"
    },
    {
     "data": {
      "image/png": "[encoded data removed]",
      "text/plain": [
       "<Figure size 1133.86x425.197 with 8 Axes>"
      ]
     },
     "metadata": {
      "needs_background": "light"
     },
     "output_type": "display_data"
    }
   ],
   "source": [
    "# create fig with size 7X8 (in inches)   and 1inch = 2.54cm\n",
    "# figsize = [width, height]\n",
    "fig1 = plt.figure(figsize=[4, 3])\n",
    "\n",
    "# fig1.patch.set_facecolor('#E0E0E0')\n",
    "# fig1.patch.set_alpha(0.7)\n",
    "ax1 = fig1.add_subplot()   # default will same as add_subplot(1, 1, 1)\n",
    "ax1.plot(range(10))\n",
    "\n",
    "# or just change to cm by this way\n",
    "cm = 1/2.54 # inch\n",
    "fig2 = plt.figure(figsize=[40*cm, 15*cm])\n",
    "ax2 = fig2.subplots(2, 4)\n",
    "\n",
    "fig2.tight_layout()   # Otherwise the subplots will overlap"
   ]
  },
  {
   "cell_type": "markdown",
   "id": "98f97004-ebe4-47f0-9de8-c1f22df90863",
   "metadata": {},
   "source": [
    "#### Plot errors with reference line"
   ]
  },
  {
   "cell_type": "code",
   "execution_count": 54,
   "id": "88d14ded-05ee-4fd4-864a-9dd4e8299677",
   "metadata": {},
   "outputs": [
    {
     "data": {
      "image/png": "[encoded data removed]",
      "text/plain": [
       "<Figure size 432x288 with 1 Axes>"
      ]
     },
     "metadata": {
      "needs_background": "light"
     },
     "output_type": "display_data"
    },
    {
     "data": {
      "image/png": "[encoded data removed]",
      "text/plain": [
       "<Figure size 432x288 with 1 Axes>"
      ]
     },
     "metadata": {
      "needs_background": "light"
     },
     "output_type": "display_data"
    }
   ],
   "source": [
    "def minor_tick(x, pos):\n",
    "    if x < 0.1:\n",
    "        if (np.round(x*100) in [4, 6]):\n",
    "            return '%.2f' %x\n",
    "        else:\n",
    "            return ''\n",
    "            \n",
    "    return '%.1f' %x\n",
    "\n",
    "\n",
    "order = 1\n",
    "\n",
    "dim = 3\n",
    "lcs =  [0.125, 0.0625, 0.03125, 0.015625] # Gmsh lcs\n",
    "ndofs =  [628, 3603, 23472, 164356] # Number of dofs\n",
    "errors =  [0.04827200204462808, 0.013616633838663416, 0.0033094536713063377, 0.0008433901100836445] # Errors compared with Ref sol\n",
    "filename = None\n",
    "\n",
    "p = order + 1\n",
    "c01 = 2\n",
    "c02 = -1\n",
    "\n",
    "x1 = ndofs\n",
    "x2 = lcs\n",
    "y = errors\n",
    "\n",
    "        \n",
    "c1 = y[-1]/(x1[-1]**(-p/dim)) + c01\n",
    "c2 = y[-1]/(x2[-1]**p) + c02\n",
    "\n",
    "y1_ref = [c1*_**(-p/dim) for _ in x1]\n",
    "y2_ref = [c2*_**p for _ in x2]\n",
    "fig = plt.figure() # (figsize=[4,3])\n",
    "ax = fig.add_subplot()\n",
    "ax.loglog(x1, y, 'd-', x1, y1_ref, '--')\n",
    "ax.set_xlabel('Number of DOFs')\n",
    "ax.set_ylabel('$L^2$ errors')\n",
    "ax.text(x1[-2], y1_ref[-2], '$O(h^%d)$'%p, va='bottom', ha='left')\n",
    "\n",
    "filename and fig.savefig(filename + '-ndofs.eps', format='eps')\n",
    "\n",
    "fig = plt.figure() # (figsize=[4,3])\n",
    "ax = fig.add_subplot()\n",
    "ax.loglog(x2, y, 'd-', x2, y2_ref, '--')\n",
    "ax.set_xlabel('Mesh size')\n",
    "ax.set_ylabel('$L^2$ errors')\n",
    "ax.text(x2[2], y2_ref[2], '$O(h^%d)$'%p, va='top', ha='left')\n",
    "\n",
    "ax.xaxis.set_major_formatter(matplotlib.ticker.FormatStrFormatter('%.1f'))\n",
    "ax.xaxis.set_minor_formatter(minor_tick)\n",
    "\n",
    "filename and fig.savefig(filename + '-maxh.eps', format='eps')\n",
    "\n",
    "if filename:\n",
    "    print('filename1: ' + filename + '-ndofs.eps')\n",
    "    print('filename2: ' + filename + '-maxh.eps')"
   ]
  },
  {
   "cell_type": "code",
   "execution_count": 43,
   "id": "1870d58e-149c-42c7-9932-42febbbd63bf",
   "metadata": {},
   "outputs": [
    {
     "name": "stdout",
     "output_type": "stream",
     "text": [
      "Help on method autofmt_xdate in module matplotlib.figure:\n",
      "\n",
      "autofmt_xdate(bottom=0.2, rotation=30, ha='right', which='major') method of matplotlib.figure.Figure instance\n",
      "    Date ticklabels often overlap, so it is useful to rotate them\n",
      "    and right align them.  Also, a common use case is a number of\n",
      "    subplots with shared x-axis where the x-axis is date data.  The\n",
      "    ticklabels are often long, and it helps to rotate them on the\n",
      "    bottom subplot and turn them off on other subplots, as well as\n",
      "    turn off xlabels.\n",
      "    \n",
      "    Parameters\n",
      "    ----------\n",
      "    bottom : float, default: 0.2\n",
      "        The bottom of the subplots for `subplots_adjust`.\n",
      "    rotation : float, default: 30 degrees\n",
      "        The rotation angle of the xtick labels in degrees.\n",
      "    ha : {'left', 'center', 'right'}, default: 'right'\n",
      "        The horizontal alignment of the xticklabels.\n",
      "    which : {'major', 'minor', 'both'}, default: 'major'\n",
      "        Selects which ticklabels to rotate.\n",
      "\n"
     ]
    }
   ],
   "source": [
    "help(fig.autofmt_xdate)"
   ]
  }
 ],
 "metadata": {
  "kernelspec": {
   "display_name": "Python 3 (ipykernel)",
   "language": "python",
   "name": "python3"
  },
  "language_info": {
   "codemirror_mode": {
    "name": "ipython",
    "version": 3
   },
   "file_extension": ".py",
   "mimetype": "text/x-python",
   "name": "python",
   "nbconvert_exporter": "python",
   "pygments_lexer": "ipython3",
   "version": "3.10.6"
  },
  "toc-autonumbering": true,
  "toc-showcode": false,
  "vscode": {
   "interpreter": {
    "hash": "8ed766b166fe8a69dce24483e1fae5637cf0575c57ebe95c7f96591bfc910579"
   }
  }
 },
 "nbformat": 4,
 "nbformat_minor": 5
}
