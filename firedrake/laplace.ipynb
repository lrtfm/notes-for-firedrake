{
 "cells": [
  {
   "cell_type": "markdown",
   "id": "d10e847d",
   "metadata": {},
   "source": [
    "# Vector Laplace"
   ]
  },
  {
   "cell_type": "code",
   "execution_count": null,
   "id": "f8b66fd0-dba5-414f-845e-e0c7a2ac6e06",
   "metadata": {
    "tags": []
   },
   "outputs": [],
   "source": [
    "from firedrake import *\n",
    "import numpy as np\n",
    "import matplotlib.pyplot as plt"
   ]
  },
  {
   "cell_type": "code",
   "execution_count": null,
   "id": "1c276cff-45a8-44f7-8d5f-42456a281de1",
   "metadata": {
    "tags": []
   },
   "outputs": [],
   "source": [
    "def bdy_shape(x, y):\n",
    "    g = (x, y + 1/4*(x-1)**2*(x+1)**2*(y-1)**2)\n",
    "    return g\n",
    "\n",
    "theta = np.linspace(0, 2*pi, 200)\n",
    "x = np.cos(theta)\n",
    "y = np.sin(theta)\n",
    "\n",
    "x_bdy, y_bdy = bdy_shape(x, y)\n",
    "\n",
    "fig, ax = plt.subplots(figsize=[4.5, 4])\n",
    "\n",
    "ax.axis('equal')\n",
    "ax.plot(x, y, 'r--', label='unit circle')\n",
    "ax.plot(x_bdy, y_bdy, 'b-', label='new boundary')\n",
    "ax.legend(bbox_to_anchor=(1, 1))"
   ]
  },
  {
   "cell_type": "code",
   "execution_count": null,
   "id": "59aed823-2b43-418c-a7e9-4c5c7ece2195",
   "metadata": {
    "tags": []
   },
   "outputs": [],
   "source": [
    "mesh = UnitDiskMesh(refinement_level=7)\n",
    "\n",
    "V = VectorFunctionSpace(mesh, 'CG', 1)\n",
    "\n",
    "g = bdy_shape(*SpatialCoordinate(mesh))\n",
    "bc = DirichletBC(V, g, 'on_boundary')\n",
    "\n",
    "u, v = TrialFunction(V), TestFunction(V)\n",
    "\n",
    "a = inner(grad(u), grad(v))*dx\n",
    "\n",
    "L = inner(Constant((0, 0)),v)*dx\n",
    "\n",
    "u = Function(V)\n",
    "solve(a == L, u, bcs=bc)\n",
    "\n",
    "fig, ax = plt.subplots(1, 2, figsize=[8, 4])\n",
    "\n",
    "triplot(mesh, axes=ax[0])\n",
    "ax[0].axis('equal')\n",
    "\n",
    "# mesh.coordinates.assign(u)\n",
    "mesh_new = Mesh(u)\n",
    "triplot(mesh_new, axes=ax[1])\n",
    "ax[1].axis('equal')"
   ]
  }
 ],
 "metadata": {
  "language_info": {
   "name": "python"
  }
 },
 "nbformat": 4,
 "nbformat_minor": 5
}
